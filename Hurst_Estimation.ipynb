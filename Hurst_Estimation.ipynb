{
 "cells": [
  {
   "cell_type": "markdown",
   "metadata": {},
   "source": [
    "# Hurst Estimation"
   ]
  },
  {
   "cell_type": "markdown",
   "metadata": {},
   "source": [
    "### Estimate method 1"
   ]
  },
  {
   "cell_type": "code",
   "execution_count": 2,
   "metadata": {},
   "outputs": [],
   "source": [
    "import matplotlib.pyplot\n",
    "import pandas as pd\n",
    "import numpy as np\n",
    "import math"
   ]
  },
  {
   "cell_type": "code",
   "execution_count": 1,
   "metadata": {},
   "outputs": [],
   "source": [
    "import matlab.engine\n",
    "eng = matlab.engine.start_matlab()\n",
    "# eng.addpath(r'C:/Users\\Sacha\\Documents\\University\\Yr 4, Sem 2\\ENGG4802\\code\\hurst estimators\\hurst estimator', nargout=0)\n",
    "eng.addpath(r'hurst_estimators\\hurst estimator', nargout=0)"
   ]
  },
  {
   "cell_type": "code",
   "execution_count": 3,
   "metadata": {},
   "outputs": [],
   "source": [
    "data = pd.read_csv('data/filter_data.csv')\n",
    "hurst_estimates = pd.read_csv('data/hurst_estimates_all.csv', index_col='Unnamed: 0')"
   ]
  },
  {
   "cell_type": "markdown",
   "metadata": {},
   "source": [
    "## Calculate Hurst Exponent"
   ]
  },
  {
   "cell_type": "code",
   "execution_count": 4,
   "metadata": {},
   "outputs": [],
   "source": [
    "HMethods = {'Agr Var.'   : eng.aggvar,\n",
    "            'Peng'       : eng.peng, \n",
    "            'Higuchi'    : eng.higuchi, \n",
    "            'Abs val.'   : eng.absval, \n",
    "            'RS'         : eng.RS, \n",
    "            'Box per.'   : eng.boxper, \n",
    "            'Diff var.'  : eng.diffvar}"
   ]
  },
  {
   "cell_type": "code",
   "execution_count": null,
   "metadata": {},
   "outputs": [
    {
     "name": "stdout",
     "output_type": "stream",
     "text": [
      "window_1_0 Agr Var.: 0.8998373780928763\n",
      "window_1_0 Peng: 1.1788145950992999\n",
      "window_1_0 Higuchi: 0.8971471166822471\n",
      "window_1_0 Abs val.: 0.8991657007189308\n",
      "window_1_0 RS: 0.6420391348578887\n",
      "window_1_0 Box per.: 1.0848706578159155\n",
      "window_1_0 Diff var.: 1.2080842121878403\n",
      "\n",
      "window_1_1 Agr Var.: 0.8574754662395951\n",
      "window_1_1 Peng: "
     ]
    }
   ],
   "source": [
    "hurst_estimates = pd.DataFrame(data=np.zeros((len(data.columns), 7)), columns=HMethods.keys(), index=data.columns)\n",
    "\n",
    "for col_name in data.columns:\n",
    "    mData = matlab.double(data[col_name].tolist())\n",
    "    \n",
    "    for h_name, h_func in HMethods.items():\n",
    "        print(col_name, h_name, end=\": \")\n",
    "        hurst_estimates[h_name][col_name] = h_func(mData, 0)\n",
    "        print(hurst_estimates[h_name][col_name])\n",
    "        \n",
    "    print()"
   ]
  },
  {
   "cell_type": "code",
   "execution_count": 9,
   "metadata": {},
   "outputs": [
    {
     "data": {
      "text/html": [
       "<div>\n",
       "<style scoped>\n",
       "    .dataframe tbody tr th:only-of-type {\n",
       "        vertical-align: middle;\n",
       "    }\n",
       "\n",
       "    .dataframe tbody tr th {\n",
       "        vertical-align: top;\n",
       "    }\n",
       "\n",
       "    .dataframe thead th {\n",
       "        text-align: right;\n",
       "    }\n",
       "</style>\n",
       "<table border=\"1\" class=\"dataframe\">\n",
       "  <thead>\n",
       "    <tr style=\"text-align: right;\">\n",
       "      <th></th>\n",
       "      <th>Agr Var.</th>\n",
       "      <th>Peng</th>\n",
       "      <th>Higuchi</th>\n",
       "      <th>Abs val.</th>\n",
       "      <th>RS</th>\n",
       "      <th>Box per.</th>\n",
       "      <th>Diff var.</th>\n",
       "    </tr>\n",
       "  </thead>\n",
       "  <tbody>\n",
       "    <tr>\n",
       "      <th>window_1_0</th>\n",
       "      <td>0.899837</td>\n",
       "      <td>1.178815</td>\n",
       "      <td>0.897147</td>\n",
       "      <td>0.899166</td>\n",
       "      <td>0.642039</td>\n",
       "      <td>1.084871</td>\n",
       "      <td>1.208084</td>\n",
       "    </tr>\n",
       "    <tr>\n",
       "      <th>window_1_1</th>\n",
       "      <td>0.857475</td>\n",
       "      <td>1.092218</td>\n",
       "      <td>0.878807</td>\n",
       "      <td>0.870051</td>\n",
       "      <td>0.622270</td>\n",
       "      <td>1.056530</td>\n",
       "      <td>1.101125</td>\n",
       "    </tr>\n",
       "    <tr>\n",
       "      <th>window_1_2</th>\n",
       "      <td>0.846924</td>\n",
       "      <td>1.055944</td>\n",
       "      <td>0.866159</td>\n",
       "      <td>0.860166</td>\n",
       "      <td>0.641788</td>\n",
       "      <td>1.009795</td>\n",
       "      <td>1.079708</td>\n",
       "    </tr>\n",
       "    <tr>\n",
       "      <th>window_1_3</th>\n",
       "      <td>0.875449</td>\n",
       "      <td>1.116465</td>\n",
       "      <td>0.879919</td>\n",
       "      <td>0.881300</td>\n",
       "      <td>0.664163</td>\n",
       "      <td>1.036084</td>\n",
       "      <td>1.172933</td>\n",
       "    </tr>\n",
       "    <tr>\n",
       "      <th>window_1_4</th>\n",
       "      <td>0.823455</td>\n",
       "      <td>0.972632</td>\n",
       "      <td>0.839136</td>\n",
       "      <td>0.843857</td>\n",
       "      <td>0.595073</td>\n",
       "      <td>0.953637</td>\n",
       "      <td>1.024767</td>\n",
       "    </tr>\n",
       "  </tbody>\n",
       "</table>\n",
       "</div>"
      ],
      "text/plain": [
       "            Agr Var.      Peng   Higuchi  Abs val.        RS  Box per.  \\\n",
       "window_1_0  0.899837  1.178815  0.897147  0.899166  0.642039  1.084871   \n",
       "window_1_1  0.857475  1.092218  0.878807  0.870051  0.622270  1.056530   \n",
       "window_1_2  0.846924  1.055944  0.866159  0.860166  0.641788  1.009795   \n",
       "window_1_3  0.875449  1.116465  0.879919  0.881300  0.664163  1.036084   \n",
       "window_1_4  0.823455  0.972632  0.839136  0.843857  0.595073  0.953637   \n",
       "\n",
       "            Diff var.  \n",
       "window_1_0   1.208084  \n",
       "window_1_1   1.101125  \n",
       "window_1_2   1.079708  \n",
       "window_1_3   1.172933  \n",
       "window_1_4   1.024767  "
      ]
     },
     "execution_count": 9,
     "metadata": {},
     "output_type": "execute_result"
    }
   ],
   "source": [
    "hurst_estimates.head()"
   ]
  },
  {
   "cell_type": "code",
   "execution_count": 8,
   "metadata": {},
   "outputs": [
    {
     "data": {
      "text/plain": [
       "Agr Var.     0.919577\n",
       "Peng         1.334193\n",
       "Higuchi      0.917993\n",
       "Abs val.     0.915664\n",
       "RS           0.697658\n",
       "Box per.     1.765978\n",
       "Diff var.    1.696649\n",
       "dtype: float64"
      ]
     },
     "execution_count": 8,
     "metadata": {},
     "output_type": "execute_result"
    }
   ],
   "source": [
    "# Check max values for each method\n",
    "hurst_estimates.max(axis=0)"
   ]
  },
  {
   "cell_type": "code",
   "execution_count": 11,
   "metadata": {},
   "outputs": [],
   "source": [
    "# Save all methods results\n",
    "hurst_estimates.to_csv('data/hurst_estimates_all.csv')"
   ]
  },
  {
   "cell_type": "markdown",
   "metadata": {},
   "source": [
    "## Use only the reasonable estimates"
   ]
  },
  {
   "cell_type": "code",
   "execution_count": 6,
   "metadata": {},
   "outputs": [],
   "source": [
    "# Aggregate Variance, Higuchi and Absolute Value methods were chosen due to their reasonable values ~ 0.9 that arn't\n",
    "# above 1 and are all similar.\n",
    "confident_hurst_estimates = hurst_estimates[['Agr Var.', 'Higuchi', 'Abs val.']].copy()"
   ]
  },
  {
   "cell_type": "code",
   "execution_count": 7,
   "metadata": {},
   "outputs": [],
   "source": [
    "confident_hurst_estimates['avg'] = confident_hurst_estimates.mean(axis=1)\n",
    "confident_hurst_estimates['std'] = confident_hurst_estimates.std(axis=1)"
   ]
  },
  {
   "cell_type": "code",
   "execution_count": 9,
   "metadata": {},
   "outputs": [
    {
     "data": {
      "text/html": [
       "<div>\n",
       "<style scoped>\n",
       "    .dataframe tbody tr th:only-of-type {\n",
       "        vertical-align: middle;\n",
       "    }\n",
       "\n",
       "    .dataframe tbody tr th {\n",
       "        vertical-align: top;\n",
       "    }\n",
       "\n",
       "    .dataframe thead th {\n",
       "        text-align: right;\n",
       "    }\n",
       "</style>\n",
       "<table border=\"1\" class=\"dataframe\">\n",
       "  <thead>\n",
       "    <tr style=\"text-align: right;\">\n",
       "      <th></th>\n",
       "      <th>Agr Var.</th>\n",
       "      <th>Higuchi</th>\n",
       "      <th>Abs val.</th>\n",
       "      <th>avg</th>\n",
       "      <th>std</th>\n",
       "    </tr>\n",
       "  </thead>\n",
       "  <tbody>\n",
       "    <tr>\n",
       "      <th>window_1_0</th>\n",
       "      <td>0.899837</td>\n",
       "      <td>0.897147</td>\n",
       "      <td>0.899166</td>\n",
       "      <td>0.898717</td>\n",
       "      <td>0.001143</td>\n",
       "    </tr>\n",
       "    <tr>\n",
       "      <th>window_1_1</th>\n",
       "      <td>0.857475</td>\n",
       "      <td>0.878807</td>\n",
       "      <td>0.870051</td>\n",
       "      <td>0.868778</td>\n",
       "      <td>0.008755</td>\n",
       "    </tr>\n",
       "    <tr>\n",
       "      <th>window_1_2</th>\n",
       "      <td>0.846924</td>\n",
       "      <td>0.866159</td>\n",
       "      <td>0.860166</td>\n",
       "      <td>0.857749</td>\n",
       "      <td>0.008036</td>\n",
       "    </tr>\n",
       "    <tr>\n",
       "      <th>window_1_3</th>\n",
       "      <td>0.875449</td>\n",
       "      <td>0.879919</td>\n",
       "      <td>0.881300</td>\n",
       "      <td>0.878890</td>\n",
       "      <td>0.002497</td>\n",
       "    </tr>\n",
       "    <tr>\n",
       "      <th>window_1_4</th>\n",
       "      <td>0.823455</td>\n",
       "      <td>0.839136</td>\n",
       "      <td>0.843857</td>\n",
       "      <td>0.835483</td>\n",
       "      <td>0.008721</td>\n",
       "    </tr>\n",
       "  </tbody>\n",
       "</table>\n",
       "</div>"
      ],
      "text/plain": [
       "            Agr Var.   Higuchi  Abs val.       avg       std\n",
       "window_1_0  0.899837  0.897147  0.899166  0.898717  0.001143\n",
       "window_1_1  0.857475  0.878807  0.870051  0.868778  0.008755\n",
       "window_1_2  0.846924  0.866159  0.860166  0.857749  0.008036\n",
       "window_1_3  0.875449  0.879919  0.881300  0.878890  0.002497\n",
       "window_1_4  0.823455  0.839136  0.843857  0.835483  0.008721"
      ]
     },
     "execution_count": 9,
     "metadata": {},
     "output_type": "execute_result"
    }
   ],
   "source": [
    "confident_hurst_estimates.head()"
   ]
  },
  {
   "cell_type": "code",
   "execution_count": 18,
   "metadata": {},
   "outputs": [],
   "source": [
    "confident_hurst_estimates.to_csv('data/hurst_estimates.csv')"
   ]
  }
 ],
 "metadata": {
  "kernelspec": {
   "display_name": "Python 3",
   "language": "python",
   "name": "python3"
  },
  "language_info": {
   "codemirror_mode": {
    "name": "ipython",
    "version": 3
   },
   "file_extension": ".py",
   "mimetype": "text/x-python",
   "name": "python",
   "nbconvert_exporter": "python",
   "pygments_lexer": "ipython3",
   "version": "3.6.0"
  }
 },
 "nbformat": 4,
 "nbformat_minor": 2
}
