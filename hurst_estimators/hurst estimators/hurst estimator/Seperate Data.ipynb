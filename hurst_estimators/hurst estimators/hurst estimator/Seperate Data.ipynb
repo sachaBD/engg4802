{
 "cells": [
  {
   "cell_type": "code",
   "execution_count": 5,
   "metadata": {},
   "outputs": [],
   "source": [
    "import math\n",
    "import numpy as np\n",
    "import scipy as sp\n",
    "import pandas as pd\n",
    "import matplotlib.pyplot as plt\n",
    "import scipy as sp\n",
    "import pickle"
   ]
  },
  {
   "cell_type": "code",
   "execution_count": 2,
   "metadata": {},
   "outputs": [],
   "source": [
    "from scipy.optimize import curve_fit"
   ]
  },
  {
   "cell_type": "code",
   "execution_count": 3,
   "metadata": {},
   "outputs": [],
   "source": [
    "import matlab.engine\n",
    "\n",
    "eng = matlab.engine.start_matlab()"
   ]
  },
  {
   "cell_type": "markdown",
   "metadata": {},
   "source": [
    "# Seperate Dataset"
   ]
  },
  {
   "cell_type": "markdown",
   "metadata": {},
   "source": [
    "Our dataset needs to be converted so that the relationship between hurst exponent (HE) and forecaster error can be established across 20-30 datapoints, as in figure 1."
   ]
  },
  {
   "cell_type": "code",
   "execution_count": 18,
   "metadata": {},
   "outputs": [
    {
     "name": "stderr",
     "output_type": "stream",
     "text": [
      "c:\\program files\\python36\\lib\\site-packages\\scipy\\optimize\\minpack.py:785: OptimizeWarning: Covariance of the parameters could not be estimated\n",
      "  category=OptimizeWarning)\n"
     ]
    },
    {
     "data": {
      "text/plain": [
       "(array([1., 1., 1.]), array([[inf, inf, inf],\n",
       "        [inf, inf, inf],\n",
       "        [inf, inf, inf]]))"
      ]
     },
     "execution_count": 18,
     "metadata": {},
     "output_type": "execute_result"
    },
    {
     "data": {
      "image/png": "[encoded data removed]",
      "text/plain": [
       "<matplotlib.figure.Figure at 0x21a1b9e5048>"
      ]
     },
     "metadata": {},
     "output_type": "display_data"
    }
   ],
   "source": [
    "plt.scatter([0.65, 0.68, 0.69, 0.72], [0.7, 0.75, 0.8, 0.85])\n",
    "plt.scatter([0.65, 0.68, 0.69, 0.72], [0.73, 0.79, 0.82, 0.84],)\n",
    "plt.scatter([0.65, 0.68, 0.69, 0.72], [0.63, 0.66, 0.69, 0.71])\n",
    "\n",
    "plt.xlabel('Hurst Exponent (H)')\n",
    "plt.ylabel('Predictor Error (MSE)')\n",
    "plt.title('Predictability measure vs forecast accuracy')\n",
    "plt.legend(['Forecaster 1', 'Forecaster 2', 'Forecaster 3'])\n",
    "\n",
    "# Fit a curve\n",
    "curve_fit(lambda x, a, b, c: x, [0.65, 0.68, 0.69, 0.72], [0.7, 0.75, 0.8, 0.85])"
   ]
  },
  {
   "cell_type": "code",
   "execution_count": null,
   "metadata": {},
   "outputs": [],
   "source": []
  },
  {
   "cell_type": "markdown",
   "metadata": {},
   "source": [
    "Generate data by filtering with different lengths. Using causal moving average filters. Apply 4 or 5 moving average."
   ]
  },
  {
   "cell_type": "code",
   "execution_count": null,
   "metadata": {},
   "outputs": [],
   "source": []
  },
  {
   "cell_type": "markdown",
   "metadata": {},
   "source": [
    "### Load the dataset"
   ]
  },
  {
   "cell_type": "code",
   "execution_count": 28,
   "metadata": {},
   "outputs": [],
   "source": [
    "dataset = pd.read_csv('data.csv',  names = [\"irregular\"])"
   ]
  },
  {
   "cell_type": "code",
   "execution_count": 19,
   "metadata": {},
   "outputs": [],
   "source": [
    "d = pickle.load(open('all_data_15', 'rb+'))"
   ]
  },
  {
   "cell_type": "code",
   "execution_count": 24,
   "metadata": {},
   "outputs": [
    {
     "data": {
      "text/plain": [
       "15"
      ]
     },
     "execution_count": 24,
     "metadata": {},
     "output_type": "execute_result"
    }
   ],
   "source": [
    "len(d[0])"
   ]
  },
  {
   "cell_type": "code",
   "execution_count": 28,
   "metadata": {},
   "outputs": [],
   "source": [
    "dataset = pd.DataFrame(np.array([a for a in d[0] ]).reshape(1294560 ), columns = [\"irregular\"])"
   ]
  },
  {
   "cell_type": "code",
   "execution_count": 29,
   "metadata": {},
   "outputs": [
    {
     "data": {
      "text/plain": [
       "(1294560, 1)"
      ]
     },
     "execution_count": 29,
     "metadata": {},
     "output_type": "execute_result"
    }
   ],
   "source": [
    "dataset.shape"
   ]
  },
  {
   "cell_type": "code",
   "execution_count": 30,
   "metadata": {},
   "outputs": [
    {
     "data": {
      "text/html": [
       "<div>\n",
       "<style scoped>\n",
       "    .dataframe tbody tr th:only-of-type {\n",
       "        vertical-align: middle;\n",
       "    }\n",
       "\n",
       "    .dataframe tbody tr th {\n",
       "        vertical-align: top;\n",
       "    }\n",
       "\n",
       "    .dataframe thead th {\n",
       "        text-align: right;\n",
       "    }\n",
       "</style>\n",
       "<table border=\"1\" class=\"dataframe\">\n",
       "  <thead>\n",
       "    <tr style=\"text-align: right;\">\n",
       "      <th></th>\n",
       "      <th>irregular</th>\n",
       "    </tr>\n",
       "  </thead>\n",
       "  <tbody>\n",
       "    <tr>\n",
       "      <th>0</th>\n",
       "      <td>39.140</td>\n",
       "    </tr>\n",
       "    <tr>\n",
       "      <th>1</th>\n",
       "      <td>39.066</td>\n",
       "    </tr>\n",
       "    <tr>\n",
       "      <th>2</th>\n",
       "      <td>38.992</td>\n",
       "    </tr>\n",
       "    <tr>\n",
       "      <th>3</th>\n",
       "      <td>38.919</td>\n",
       "    </tr>\n",
       "    <tr>\n",
       "      <th>4</th>\n",
       "      <td>38.845</td>\n",
       "    </tr>\n",
       "  </tbody>\n",
       "</table>\n",
       "</div>"
      ],
      "text/plain": [
       "   irregular\n",
       "0     39.140\n",
       "1     39.066\n",
       "2     38.992\n",
       "3     38.919\n",
       "4     38.845"
      ]
     },
     "execution_count": 30,
     "metadata": {},
     "output_type": "execute_result"
    }
   ],
   "source": [
    "dataset.head()"
   ]
  },
  {
   "cell_type": "markdown",
   "metadata": {},
   "source": [
    "### Seperate and calculate H"
   ]
  },
  {
   "cell_type": "markdown",
   "metadata": {},
   "source": [
    "https://www.sciencedirect.com/science/article/pii/S0378437108000824 - Used 10 years daily (3,560) samples."
   ]
  },
  {
   "cell_type": "markdown",
   "metadata": {},
   "source": [
    "20 - 30 datapoints are desired for this analysis. Due to usages of data volumes well below this in the literature this may be reasonable. \n",
    "\n",
    "This will be further validated by calculating the Hurst Exponent using 3-5 different methods and comparing the standard deviation between these methods to that of the literature and larger dataset."
   ]
  },
  {
   "cell_type": "markdown",
   "metadata": {},
   "source": [
    "Overlap the data with 20% of the start and end overlapping."
   ]
  },
  {
   "cell_type": "code",
   "execution_count": 36,
   "metadata": {},
   "outputs": [
    {
     "data": {
      "text/plain": [
       "43152.0"
      ]
     },
     "execution_count": 36,
     "metadata": {},
     "output_type": "execute_result"
    }
   ],
   "source": [
    "dataset.shape[0] / 30"
   ]
  },
  {
   "cell_type": "code",
   "execution_count": 32,
   "metadata": {},
   "outputs": [],
   "source": [
    "dataset['irregular'] = causal_MVA(dataset.values, 45)"
   ]
  },
  {
   "cell_type": "code",
   "execution_count": 33,
   "metadata": {},
   "outputs": [],
   "source": [
    "HMethods = ['Agr Var.', 'Peng', 'Higuchi', 'Abs val.', 'RS', 'Box per.', 'Diff var.']"
   ]
  },
  {
   "cell_type": "code",
   "execution_count": 39,
   "metadata": {
    "scrolled": true
   },
   "outputs": [
    {
     "name": "stdout",
     "output_type": "stream",
     "text": [
      "86304 1.0\n",
      "0 86304\n",
      "86304 172608\n",
      "172608 258912\n",
      "258912 345216\n",
      "345216 431520\n",
      "431520 517824\n",
      "517824 604128\n",
      "604128 690432\n",
      "690432 776736\n",
      "776736 863040\n",
      "863040 949344\n",
      "949344 1035648\n",
      "1035648 1121952\n",
      "1121952 1208256\n",
      "1208256 1294560\n"
     ]
    }
   ],
   "source": [
    "indexes = []\n",
    "HConfidence = []\n",
    "splitData = []\n",
    "\n",
    "n = 15\n",
    "o = 1.0\n",
    "r = len(dataset)\n",
    "\n",
    "s = r // n\n",
    "initS = s\n",
    "offset = math.ceil(s * (1 - o))\n",
    "r = r - offset\n",
    "s = r // n\n",
    "\n",
    "print(s, o)\n",
    "c = offset\n",
    "for i in range(0, n):\n",
    "    # Split with offsets\n",
    "    i1, i2 = c - round(initS * (1 - o)), c + s\n",
    "    \n",
    "    c = int(c + s)\n",
    "    print(i1, i2)\n",
    "    \n",
    "    splitData.append(dataset.values[i1 : i2].tolist())\n",
    "    \n",
    "    #print(int((i * dataset.shape[0]) / 30), int( ((i + 1) * dataset.shape[0]) / 30))\n",
    "    #i1, i2 = int((i * dataset.shape[0]) / 30), int( ((i + 1 ) * dataset.shape[0]) / 30)\n",
    "    \n",
    "    # Pass data to matlab\n",
    "    mData =  matlab.double(dataset.values[i1 : i2].tolist())\n",
    "    indexes.append((i1, i2))\n",
    "    #indexes.append((int((i * dataset.shape[0]) / 30), int( ((i + 1 ) * dataset.shape[0]) / 30)))\n",
    "    \n",
    "    HConfidence.append([])\n",
    "    HConfidence[-1].append(eng.aggvar(mData, 0))\n",
    "    HConfidence[-1].append(eng.peng(mData, 0))\n",
    "    HConfidence[-1].append(eng.higuchi(mData, 0))\n",
    "    HConfidence[-1].append(eng.absval(mData, 0))\n",
    "    HConfidence[-1].append(eng.RS(mData, 0))\n",
    "    HConfidence[-1].append(eng.boxper(mData, 0))\n",
    "    HConfidence[-1].append(eng.diffvar(mData, 0))\n",
    "#     HConfidence[-1].append(eng.per(mData, 0))\n",
    "    \n"
   ]
  },
  {
   "cell_type": "code",
   "execution_count": 41,
   "metadata": {},
   "outputs": [
    {
     "data": {
      "text/plain": [
       "b'\\x80\\x03]q\\x00(]q\\x01(G?\\xedWS$\\x11/\\xfcG?\\xf50\\xc9\\x02\\x00.XG?\\xedA\\x927\\x1e\\x9bvG?\\xed;t\\xa6\\x8a\\xea\\x87G?\\xe4\\xfex\\xef\\xc1*\\xf1G?\\xfb\\x9a\\xef\\x0c\\x08@JG?\\xfa\\xe5\\xb6m\\x8f\\x08\\xeee]q\\x02(G?\\xecD\\xb6\\xa8\\xe5\\x13VG?\\xf3\\xf3c\\x99\\x0c*\\xb5G?\\xec\\xe7\\xce\\xff\\xfa\\xfc\\x94G?\\xechKP\\x8c=\\xaaG?\\xe4\\xaex\\xb5\\xb5\\xec`G?\\xfb$\\xf8U\\xb7\\xd6\\xb6G?\\xfaMV\\x1bq\\x93Xe]q\\x03(G?\\xecYk\\xeb\\xe2b\\xefG?\\xf3\\xa0\\xf6\\\\\\xca\\xe7\\x90G?\\xec\\xc5\\xc5%\\xc6\\x9a\\xbcG?\\xec\\xb1H\\xc0\\xf4b9G?\\xe5LPa\\xcf\\xb7\\x0fG?\\xfao\\xb6)\\xb5j\\xbdG?\\xf7\\xfdr\\xf8\\x95\\xf9\\x84e]q\\x04(G?\\xec\\xf1rY\\xe7\\x0e\\xc5G?\\xf4|\\xb1\\x87\\xf2\"\\x13G?\\xec\\xfaI\\x168\\xaa\\xc6G?\\xed\\x00\\xc8\\xfbf3;G?\\xe5\\x86(nqc\\x07G?\\xfa\\x83\\xaf\\xf6\\x1b\\x19\\xb4G?\\xf9\\x86\\xa7\\xe9y\\x89\\x86e]q\\x05(G?\\xeb\\xe5<\\xa7dH\\xbaG?\\xf2zJ\\x84\\xf8\\x06\\xb1G?\\xecB\\xcec\\x96\\xd8\\x9eG?\\xecU\\xc7\\xe31\\xdf\\xccG?\\xe4A\\xdb\\x8b\\xdf\\x99\\xa2G?\\xf95/\\xd3\\x0c\\xf6\\xf2G?\\xf7`\\xa2\\xb0\\xa6\\x15\\x84e]q\\x06(G?\\xec\\xff\\xa5\\x9c\\x81j^G?\\xf4\\x94Te&\\xb8\\xbdG?\\xec\\xe7\\x9a\\xdf\\xcc\\xd3\\x1aG?\\xec\\xef8\\xf7\\xf3-\\x11G?\\xe5q\\x8d\\xbcQ\\xdcJG?\\xfb\\x85\\xc4X\\x0f\\xd8\\x9fG?\\xfay)\\x94IP\\x08e]q\\x07(G?\\xec\\xa4\\xf5\\\\z\\x8b\\xaaG?\\xf4\\xa5\\xc8\\xa6\\xca\\x1d\\xf9G?\\xec\\xc1\\x8a\\xf44\\xf3\\x9cG?\\xec]\\x195\\xac\\xe5\\xe8G?\\xe57\\xaf\\xd6\\x9b\\x05\\'G?\\xfbx\\'\\xd3N,\\x1aG?\\xfa[\\xcd\\x1a\\xaboMe]q\\x08(G?\\xed\\x10\\xb2\\x84r\\x14&G?\\xf5\\x07/4\\xf8\"\\xe6G?\\xed<\\xf7\\xd8\\xbd\\x13\\xe4G?\\xed\\x0e\\xb5y\\x86NgG?\\xe6\\x14T>\\x01d\\xefG?\\xfa\\xb1\\xec\\xa0\\x01\\xd6\\xd7G?\\xf9\\xed\\xcb\\x1b\\x84\\x16\\xd8e]q\\t(G?\\xec<>\\xe6>>\\xf3G?\\xf3^\\xeb\\x05\\xdb\\xe6eG?\\xec\\x81e\\xa8\\xfd\\xa4\\x80G?\\xec{&L,5\\x8aG?\\xe5q\\xbaJ\\xf2D\\xf5G?\\xfa\\xba\\xac\\x11F\\x01\\xfeG?\\xf9\\xda&k\\xde\\xabbe]q\\n(G?\\xecw\\xcb\\xac\\xc3P\\x9aG?\\xf3\\xbdT\\x8d\\xdd]-G?\\xec\\xae\\x03X\\\\:VG?\\xec\\x96\\xe0\\xe7!v\\xaaG?\\xe5\\x18w%\\x93\\xb6\\xb0G?\\xfa\\'\\xb82\\x1e\\x92\\x1bG?\\xf9\\x88\\x07{\\xb9\\x10\\xb1e]q\\x0b(G?\\xec\\x83\\x06\\xf0\\xd3b\\x92G?\\xf3Cb\\xcd\\x0b)\\x92G?\\xecz\\x18\\x92X\\x93>G?\\xec\\x9e\\xb0p\\xee\\x8aKG?\\xe59q\\x1b\\xcd\\xa1\\x84G?\\xfa\\x8a\\xbcDk\\n\\xdfG?\\xf8\\x8aE\\xec\\x87%\\xc8e]q\\x0c(G?\\xec\\xc7\\xf1\\xd8i\\x87\\x86G?\\xf4\\xa0\\xe4\\x80\\xb5\\xc8#G?\\xec\\xb1\\xaa\\xc3\\xa8\\xdc\\xbaG?\\xectT\\xff/\\x88HG?\\xe4\\xad\\xe1PS\\xa2IG?\\xfcN\\xceAMH\\xddG?\\xfb\\x06/|\\x19\\x08\\xb5e]q\\r(G?\\xec\\x05I\\xe1\\x081uG?\\xf3\\xf6D\\x9e\\x7fK\\xf0G?\\xecs\\x9e\\xeeE\\xaf\\nG?\\xec\\x1f\\xe7d\\xc3(\\xbeG?\\xe4\\xad\\x1c9\\xf6\\xbf\\x16G?\\xfb\\xf0)\\xa1:\\x89\\xddG?\\xfb\\x12I)\\xc5P8e]q\\x0e(G?\\xed\\x86e\\xbd7X\\xd7G?\\xf5?G\\x1ffV\\xb8G?\\xed`V\\x11Q\\xf96G?\\xed^\\xe2_Q\\x9eTG?\\xe6D\\xbf\\xf0m\\xb0\\xc1G?\\xfc,\\x8c\\r\\xef\\x1c5G?\\xfa\\xa9\\xe2a\\xc8\\x13Se]q\\x0f(G?\\xec\\xc4\\xeb\\xd2\\xd0\\x96\\xddG?\\xf3\\xdb\\x830\\x04\\x02\\x9cG?\\xec\\xde_-P\\xe1$G?\\xec\\xdfFLd\\xe6CG?\\xe5\\xad\\x0f\\xffc\\xccMG?\\xfa\\x1f\\xf4]\\xe6X\\xd6G?\\xf9\\xe9\\x13$\\xdf\\xc4Mee.'"
      ]
     },
     "execution_count": 41,
     "metadata": {},
     "output_type": "execute_result"
    }
   ],
   "source": [
    "pickle.dumps(HConfidence)"
   ]
  },
  {
   "cell_type": "code",
   "execution_count": 93,
   "metadata": {},
   "outputs": [
    {
     "data": {
      "text/plain": [
       "(1294560, 1)"
      ]
     },
     "execution_count": 93,
     "metadata": {},
     "output_type": "execute_result"
    }
   ],
   "source": [
    "dataset.shape"
   ]
  },
  {
   "cell_type": "code",
   "execution_count": 94,
   "metadata": {},
   "outputs": [
    {
     "name": "stdout",
     "output_type": "stream",
     "text": [
      "Agr Var.        0.89772\n",
      "Higuchi         0.89716\n",
      "Abs val.        0.89714\n",
      "Mean:  0.897    Stddiv:  0.0003\n",
      "\n",
      "Agr Var.        0.85362\n",
      "Higuchi         0.87881\n",
      "Abs val.        0.86618\n",
      "Mean:  0.866    Stddiv:  0.0103\n",
      "\n",
      "Agr Var.        0.8462\n",
      "Higuchi         0.86616\n",
      "Abs val.        0.86133\n",
      "Mean:  0.858    Stddiv:  0.0085\n",
      "\n",
      "Agr Var.        0.87743\n",
      "Higuchi         0.87993\n",
      "Abs val.        0.88206\n",
      "Mean:  0.88    Stddiv:  0.0019\n",
      "\n",
      "Agr Var.        0.82076\n",
      "Higuchi         0.83908\n",
      "Abs val.        0.84223\n",
      "Mean:  0.834    Stddiv:  0.0095\n",
      "\n",
      "Agr Var.        0.88613\n",
      "Higuchi         0.88167\n",
      "Abs val.        0.88502\n",
      "Mean:  0.884    Stddiv:  0.0019\n",
      "\n",
      "Agr Var.        0.87369\n",
      "Higuchi         0.8783\n",
      "Abs val.        0.86963\n",
      "Mean:  0.874    Stddiv:  0.0035\n",
      "\n",
      "Agr Var.        0.88284\n",
      "Higuchi         0.89249\n",
      "Abs val.        0.88622\n",
      "Mean:  0.887    Stddiv:  0.004\n",
      "\n",
      "Agr Var.        0.84914\n",
      "Higuchi         0.86062\n",
      "Abs val.        0.8599\n",
      "Mean:  0.857    Stddiv:  0.0052\n",
      "\n",
      "Agr Var.        0.85375\n",
      "Higuchi         0.86582\n",
      "Abs val.        0.86492\n",
      "Mean:  0.861    Stddiv:  0.0055\n",
      "\n",
      "Agr Var.        0.85109\n",
      "Higuchi         0.85277\n",
      "Abs val.        0.85871\n",
      "Mean:  0.854    Stddiv:  0.0033\n",
      "\n",
      "Agr Var.        0.88027\n",
      "Higuchi         0.87925\n",
      "Abs val.        0.87299\n",
      "Mean:  0.878    Stddiv:  0.0032\n",
      "\n",
      "Agr Var.        0.85065\n",
      "Higuchi         0.87446\n",
      "Abs val.        0.86\n",
      "Mean:  0.862    Stddiv:  0.0098\n",
      "\n",
      "Agr Var.        0.90313\n",
      "Higuchi         0.90374\n",
      "Abs val.        0.90182\n",
      "Mean:  0.903    Stddiv:  0.0008\n",
      "\n",
      "Agr Var.        0.86318\n",
      "Higuchi         0.86984\n",
      "Abs val.        0.87175\n",
      "Mean:  0.868    Stddiv:  0.0037\n",
      "\n"
     ]
    }
   ],
   "source": [
    "for HValues in HConfidence:\n",
    "    values = []\n",
    "\n",
    "    for i, H in enumerate(HValues):    \n",
    "        if i in [0, 2, 3]:\n",
    "            print(str(HMethods[i]).ljust(15), round(H, 5))\n",
    "            values.append(H)\n",
    "        \n",
    "    values = np.array(values)\n",
    "    print(\"Mean: \", round(np.mean(values), 3), \"   Stddiv: \", round(np.std(values), 4))\n",
    "    print()\n"
   ]
  },
  {
   "cell_type": "code",
   "execution_count": 25,
   "metadata": {},
   "outputs": [],
   "source": [
    "# Pass data to matlab\n",
    "mData =  matlab.double(dataset.values[:].tolist())\n",
    "indexes.append((int((i * dataset.shape[0]) / 30), int( ((i + 1 ) * dataset.shape[0]) / 30)))\n",
    "\n",
    "HFull = []\n",
    "HFull.append(eng.aggvar(mData, 0))\n",
    "HFull.append(eng.peng(mData, 0))\n",
    "HFull.append(eng.higuchi(mData, 0))\n",
    "HFull.append(eng.absval(mData, 0))\n",
    "HFull.append(eng.RS(mData, 0))\n",
    "HFull.append(eng.boxper(mData, 0))\n",
    "HFull.append(eng.diffvar(mData, 0))"
   ]
  },
  {
   "cell_type": "markdown",
   "metadata": {},
   "source": [
    "### Compare H across methods"
   ]
  },
  {
   "cell_type": "markdown",
   "metadata": {},
   "source": [
    "#### H from all data: "
   ]
  },
  {
   "cell_type": "markdown",
   "metadata": {},
   "source": [
    "### H from split"
   ]
  },
  {
   "cell_type": "code",
   "execution_count": 95,
   "metadata": {
    "scrolled": true
   },
   "outputs": [
    {
     "name": "stdout",
     "output_type": "stream",
     "text": [
      "0.8973 0.0003\n",
      "0.8662 0.0103\n",
      "0.8579 0.0085\n",
      "0.8798 0.0019\n",
      "0.834 0.0095\n",
      "0.8843 0.0019\n",
      "0.8739 0.0035\n",
      "0.8872 0.004\n",
      "0.8566 0.0052\n",
      "0.8615 0.0055\n",
      "0.8542 0.0033\n",
      "0.8775 0.0032\n",
      "0.8617 0.0098\n",
      "0.9029 0.0008\n",
      "0.8683 0.0037\n"
     ]
    }
   ],
   "source": [
    "HPlotValues = []\n",
    "\n",
    "for HValues in HConfidence:\n",
    "    values = []\n",
    "    for i, H in enumerate(HValues):\n",
    "        if i in [0, 2, 3]:\n",
    "            values.append(H)\n",
    "    values = np.array(values)\n",
    "    \n",
    "    HPlotValues.append([np.round(np.mean(values), 4), np.round(np.std(values), 4)])\n",
    "    print(np.round(np.mean(values), 4), np.round(np.std(values), 4))\n",
    "\n",
    "HPlotValues = np.array(HPlotValues)"
   ]
  },
  {
   "cell_type": "markdown",
   "metadata": {},
   "source": [
    "### Plot the H values"
   ]
  },
  {
   "cell_type": "code",
   "execution_count": 20,
   "metadata": {},
   "outputs": [
    {
     "data": {
      "text/plain": [
       "Text(0,0.5,'Hurst Exponent')"
      ]
     },
     "execution_count": 20,
     "metadata": {},
     "output_type": "execute_result"
    },
    {
     "data": {
      "image/png": "[encoded data removed]",
      "text/plain": [
       "<matplotlib.figure.Figure at 0x13b3ced8828>"
      ]
     },
     "metadata": {},
     "output_type": "display_data"
    }
   ],
   "source": [
    "HPlotValues[HPlotValues[:,1].argsort()]\n",
    "\n",
    "plt.errorbar(np.linspace(0, len(HPlotValues), len(HPlotValues)), HPlotValues[:, 0], yerr=HPlotValues[:, 1], fmt='o')\n",
    "\n",
    "plt.title('H for each dataset (40)')\n",
    "plt.xlabel('Dataset number')\n",
    "plt.ylabel('Hurst Exponent')"
   ]
  },
  {
   "cell_type": "code",
   "execution_count": 96,
   "metadata": {},
   "outputs": [
    {
     "data": {
      "text/plain": [
       "Text(0,0.5,'Hurst Exponent')"
      ]
     },
     "execution_count": 96,
     "metadata": {},
     "output_type": "execute_result"
    },
    {
     "data": {
      "image/png": "[encoded data removed]",
      "text/plain": [
       "<matplotlib.figure.Figure at 0x24e2feb3710>"
      ]
     },
     "metadata": {},
     "output_type": "display_data"
    }
   ],
   "source": [
    "HPlotValues[HPlotValues[:,1].argsort()]\n",
    "\n",
    "plt.errorbar(np.linspace(0, len(HPlotValues), len(HPlotValues)), HPlotValues[:, 0], yerr=HPlotValues[:, 1], fmt='o')\n",
    "\n",
    "plt.title('H for each dataset (30)')\n",
    "plt.xlabel('Dataset number')\n",
    "plt.ylabel('Hurst Exponent')"
   ]
  },
  {
   "cell_type": "code",
   "execution_count": 86,
   "metadata": {
    "collapsed": true
   },
   "outputs": [
    {
     "data": {
      "text/plain": [
       "Text(0,0.5,'Hurst Exponent')"
      ]
     },
     "execution_count": 86,
     "metadata": {},
     "output_type": "execute_result"
    },
    {
     "data": {
      "image/png": "[encoded data removed]",
      "text/plain": [
       "<matplotlib.figure.Figure at 0x23e0626c898>"
      ]
     },
     "metadata": {},
     "output_type": "display_data"
    }
   ],
   "source": [
    "HPlotValues[HPlotValues[:,1].argsort()]\n",
    "\n",
    "plt.errorbar(np.linspace(0, len(HPlotValues), len(HPlotValues)), HPlotValues[:, 0], yerr=HPlotValues[:, 1], fmt='o')\n",
    "\n",
    "plt.title('H for each dataset (20)')\n",
    "plt.xlabel('Dataset number')\n",
    "plt.ylabel('Hurst Exponent')"
   ]
  },
  {
   "cell_type": "markdown",
   "metadata": {},
   "source": [
    "### With 20% overlap - 30 split"
   ]
  },
  {
   "cell_type": "code",
   "execution_count": 12,
   "metadata": {},
   "outputs": [
    {
     "data": {
      "text/plain": [
       "Text(0,0.5,'Hurst Exponent')"
      ]
     },
     "execution_count": 12,
     "metadata": {},
     "output_type": "execute_result"
    },
    {
     "data": {
      "image/png": "[encoded data removed]",
      "text/plain": [
       "<matplotlib.figure.Figure at 0x13b3c878208>"
      ]
     },
     "metadata": {},
     "output_type": "display_data"
    }
   ],
   "source": [
    "HPlotValues[HPlotValues[:,1].argsort()]\n",
    "\n",
    "plt.errorbar(np.linspace(0, len(HPlotValues), len(HPlotValues)), HPlotValues[:, 0], yerr=HPlotValues[:, 1], fmt='o')\n",
    "\n",
    "plt.title('H for each dataset (30) with 20% overlap')\n",
    "plt.xlabel('Dataset number')\n",
    "plt.ylabel('Hurst Exponent')"
   ]
  },
  {
   "cell_type": "markdown",
   "metadata": {},
   "source": [
    "## Causal MVA of length 10"
   ]
  },
  {
   "cell_type": "code",
   "execution_count": 43,
   "metadata": {},
   "outputs": [
    {
     "data": {
      "text/plain": [
       "Text(0,0.5,'Hurst Exponent')"
      ]
     },
     "execution_count": 43,
     "metadata": {},
     "output_type": "execute_result"
    },
    {
     "data": {
      "image/png": "[encoded data removed]",
      "text/plain": [
       "<matplotlib.figure.Figure at 0x24e2fd76e48>"
      ]
     },
     "metadata": {},
     "output_type": "display_data"
    }
   ],
   "source": [
    "HPlotValues[HPlotValues[:,1].argsort()]\n",
    "\n",
    "plt.errorbar(np.linspace(0, len(HPlotValues), len(HPlotValues)), HPlotValues[:, 0], yerr=HPlotValues[:, 1], fmt='o')\n",
    "\n",
    "plt.title('H for each dataset (30) with 20% overlap')\n",
    "plt.xlabel('Dataset number')\n",
    "plt.ylabel('Hurst Exponent')"
   ]
  },
  {
   "cell_type": "markdown",
   "metadata": {},
   "source": [
    "##  Causal MVA of length 30"
   ]
  },
  {
   "cell_type": "code",
   "execution_count": 54,
   "metadata": {},
   "outputs": [
    {
     "data": {
      "text/plain": [
       "Text(0,0.5,'Hurst Exponent')"
      ]
     },
     "execution_count": 54,
     "metadata": {},
     "output_type": "execute_result"
    },
    {
     "data": {
      "image/png": "[encoded data removed]",
      "text/plain": [
       "<matplotlib.figure.Figure at 0x24e30161e10>"
      ]
     },
     "metadata": {},
     "output_type": "display_data"
    }
   ],
   "source": [
    "HPlotValues[HPlotValues[:,1].argsort()]\n",
    "\n",
    "plt.errorbar(np.linspace(0, len(HPlotValues), len(HPlotValues)), HPlotValues[:, 0], yerr=HPlotValues[:, 1], fmt='o')\n",
    "\n",
    "plt.title('H for each dataset (30) with 30 length CMSA')\n",
    "plt.xlabel('Dataset number')\n",
    "plt.ylabel('Hurst Exponent')"
   ]
  },
  {
   "cell_type": "markdown",
   "metadata": {},
   "source": [
    "##  Causal 15 splits, MVA of length 10"
   ]
  },
  {
   "cell_type": "code",
   "execution_count": 88,
   "metadata": {},
   "outputs": [
    {
     "data": {
      "text/plain": [
       "Text(0,0.5,'Hurst Exponent')"
      ]
     },
     "execution_count": 88,
     "metadata": {},
     "output_type": "execute_result"
    },
    {
     "data": {
      "image/png": "[encoded data removed]",
      "text/plain": [
       "<matplotlib.figure.Figure at 0x24e3041ac88>"
      ]
     },
     "metadata": {},
     "output_type": "display_data"
    }
   ],
   "source": [
    "HPlotValues[HPlotValues[:,1].argsort()]\n",
    "\n",
    "plt.errorbar(np.linspace(0, len(HPlotValues), len(HPlotValues)), HPlotValues[:, 0], yerr=HPlotValues[:, 1], fmt='o')\n",
    "\n",
    "plt.title('H for each dataset (15) with 10 length CMSA')\n",
    "plt.xlabel('Dataset number')\n",
    "plt.ylabel('Hurst Exponent')"
   ]
  },
  {
   "cell_type": "markdown",
   "metadata": {},
   "source": [
    "## All Causals"
   ]
  },
  {
   "cell_type": "code",
   "execution_count": 104,
   "metadata": {},
   "outputs": [
    {
     "data": {
      "text/plain": [
       "Text(0,0.5,'Hurst Exponent')"
      ]
     },
     "execution_count": 104,
     "metadata": {},
     "output_type": "execute_result"
    },
    {
     "data": {
      "image/png": "[encoded data removed]",
      "text/plain": [
       "<matplotlib.figure.Figure at 0x24e301f33c8>"
      ]
     },
     "metadata": {},
     "output_type": "display_data"
    }
   ],
   "source": [
    "for hvals in [H_30_10, H_30_30, H_30]:\n",
    "    plt.errorbar(np.linspace(0, len(hvals), len(hvals)), hvals[:, 0], yerr=hvals[:, 1], fmt='o')\n",
    "\n",
    "plt.legend(['30_splits_MVA_10', '30_splits_MVA_30', '15_splits'])\n",
    "plt.title('H for different dataset splits')\n",
    "plt.xlabel('Dataset number')\n",
    "plt.ylabel('Hurst Exponent')"
   ]
  },
  {
   "cell_type": "markdown",
   "metadata": {},
   "source": [
    "#### Save the data"
   ]
  },
  {
   "cell_type": "code",
   "execution_count": 4,
   "metadata": {},
   "outputs": [],
   "source": [
    "import pickle\n",
    "\n",
    "# pickle.dump(HPlotValues, open('splits_15', 'wb+'))"
   ]
  },
  {
   "cell_type": "code",
   "execution_count": 10,
   "metadata": {},
   "outputs": [],
   "source": [
    "H_30_10 = pickle.load(open('splits_30_causal_10', 'rb+'))\n",
    "H_30_30 = pickle.load(open('splits_30_causal_30', 'rb+'))\n",
    "H_15    = pickle.load(open('splits_15', 'rb+'))"
   ]
  },
  {
   "cell_type": "code",
   "execution_count": 14,
   "metadata": {},
   "outputs": [
    {
     "name": "stdout",
     "output_type": "stream",
     "text": [
      "[[8.973e-01 3.000e-04]\n",
      " [8.662e-01 1.030e-02]\n",
      " [8.579e-01 8.500e-03]\n",
      " [8.798e-01 1.900e-03]\n",
      " [8.340e-01 9.500e-03]\n",
      " [8.843e-01 1.900e-03]\n",
      " [8.739e-01 3.500e-03]\n",
      " [8.872e-01 4.000e-03]\n",
      " [8.566e-01 5.200e-03]\n",
      " [8.615e-01 5.500e-03]\n",
      " [8.542e-01 3.300e-03]\n",
      " [8.775e-01 3.200e-03]\n",
      " [8.617e-01 9.800e-03]\n",
      " [9.029e-01 8.000e-04]\n",
      " [8.683e-01 3.700e-03]]\n"
     ]
    }
   ],
   "source": [
    "print(H_15)"
   ]
  },
  {
   "cell_type": "markdown",
   "metadata": {},
   "source": [
    "### Matlab testing "
   ]
  },
  {
   "cell_type": "code",
   "execution_count": 9,
   "metadata": {},
   "outputs": [],
   "source": [
    "# Pass data to matlab\n",
    "mData =  matlab.double(dataset.values[: int(dataset.shape[0] / 30)].tolist())"
   ]
  },
  {
   "cell_type": "code",
   "execution_count": 11,
   "metadata": {},
   "outputs": [],
   "source": [
    "val = eng.aggvar(mData, 0)"
   ]
  },
  {
   "cell_type": "code",
   "execution_count": null,
   "metadata": {},
   "outputs": [],
   "source": []
  },
  {
   "cell_type": "code",
   "execution_count": null,
   "metadata": {},
   "outputs": [],
   "source": []
  },
  {
   "cell_type": "markdown",
   "metadata": {},
   "source": [
    "## Clustering of data"
   ]
  },
  {
   "cell_type": "markdown",
   "metadata": {},
   "source": [
    "K-Metriods - use to clusters days."
   ]
  },
  {
   "cell_type": "markdown",
   "metadata": {},
   "source": [
    "Avoid for now as it has alot of issues to address."
   ]
  },
  {
   "cell_type": "markdown",
   "metadata": {},
   "source": [
    "Markov model, NN"
   ]
  },
  {
   "cell_type": "code",
   "execution_count": 55,
   "metadata": {},
   "outputs": [
    {
     "name": "stdout",
     "output_type": "stream",
     "text": [
      "[1 2 3 4] [1. 2. 0. 0.]\n"
     ]
    }
   ],
   "source": [
    "a = np.array([1,2,3,4])\n",
    "b = np.zeros(4)\n",
    "\n",
    "b[:2] = a[:2]\n",
    "\n",
    "print(a, b)\n"
   ]
  },
  {
   "cell_type": "markdown",
   "metadata": {},
   "source": [
    "## Apply filtering"
   ]
  },
  {
   "cell_type": "markdown",
   "metadata": {},
   "source": [
    "Apply a causal moving average filter to generate additional datasets. Filter lengths to come for Ali."
   ]
  },
  {
   "cell_type": "code",
   "execution_count": 12,
   "metadata": {},
   "outputs": [],
   "source": [
    "def causal_MVA(dataset, horizon):    \n",
    "    result = np.zeros(len(dataset))\n",
    "    \n",
    "    result[: horizon] = dataset[: horizon].reshape(horizon)\n",
    "    \n",
    "    for i in range(horizon, len(dataset)):\n",
    "        result[i] = (np.mean(dataset[i - horizon : i]))\n",
    "        \n",
    "    return result"
   ]
  },
  {
   "cell_type": "markdown",
   "metadata": {},
   "source": [
    "Random walk"
   ]
  },
  {
   "cell_type": "code",
   "execution_count": 9,
   "metadata": {},
   "outputs": [],
   "source": [
    "walk = []\n",
    "\n",
    "c = 0\n",
    "for v in np.random.randn(100):\n",
    "    c = c + v\n",
    "    walk.append(c)\n",
    "    \n",
    "walk = np.array(walk)"
   ]
  },
  {
   "cell_type": "code",
   "execution_count": 10,
   "metadata": {
    "scrolled": true
   },
   "outputs": [
    {
     "data": {
      "text/plain": [
       "array([-0.36963111, -0.7888192 , -0.93194073, -1.75756126, -1.13967401,\n",
       "       -0.70546216, -0.36988176, -0.32111469,  0.2922177 ,  1.95045408,\n",
       "        2.66975941,  1.35794397,  1.82014087,  2.95444841,  2.35877975,\n",
       "        0.46459986,  1.2619483 ,  0.26170092, -1.37533176, -0.35700143,\n",
       "       -0.02545483,  1.51813513,  0.29830393, -0.73285347,  0.7199377 ,\n",
       "        2.17955204,  1.1452321 , -0.29830727,  0.65198947,  0.24388264,\n",
       "        0.86338018,  0.64930223,  1.69996605,  2.64539554,  3.33177915,\n",
       "        3.2787218 ,  2.35449372,  3.2291774 ,  3.4494146 ,  2.9670522 ,\n",
       "        2.67514583,  3.72752521,  3.23527301,  4.01840878,  4.35042572,\n",
       "        3.26505385,  2.95556852,  2.18648068,  3.14379943,  2.2093891 ,\n",
       "        2.59652047,  2.66263993,  0.5149064 ,  1.9681933 ,  1.05058971,\n",
       "        1.29423735, -0.10137003, -1.14061665, -2.65859134, -1.8715203 ,\n",
       "       -1.65394448, -0.96075953, -0.97655008,  0.49945051, -0.15598866,\n",
       "        2.13430951,  1.7590044 ,  1.84527334,  1.03447406,  2.69423724,\n",
       "        2.76004714,  1.6816771 ,  2.85738377,  4.22515483,  4.22820863,\n",
       "        6.10305082,  7.19124408,  7.31249952,  7.63980611,  6.52849138,\n",
       "        6.39689923,  6.00091382,  4.75076621,  5.45022788,  4.98480555,\n",
       "        6.46843812,  3.86667175,  2.77778985,  2.14648002,  0.30295761,\n",
       "       -0.07216526,  1.71331816, -0.18878155,  1.66275921,  1.54860559,\n",
       "        0.84297225,  0.49330541,  1.19254922,  1.67083795,  2.62865621])"
      ]
     },
     "execution_count": 10,
     "metadata": {},
     "output_type": "execute_result"
    }
   ],
   "source": [
    "walk"
   ]
  },
  {
   "cell_type": "code",
   "execution_count": 15,
   "metadata": {},
   "outputs": [],
   "source": [
    "mva_walk = causal_MVA(walk, 10)"
   ]
  },
  {
   "cell_type": "code",
   "execution_count": 16,
   "metadata": {},
   "outputs": [
    {
     "data": {
      "text/plain": [
       "[<matplotlib.lines.Line2D at 0x24e2fd57048>]"
      ]
     },
     "execution_count": 16,
     "metadata": {},
     "output_type": "execute_result"
    },
    {
     "data": {
      "image/png": "[encoded data removed]",
      "text/plain": [
       "<matplotlib.figure.Figure at 0x24e2c52f358>"
      ]
     },
     "metadata": {},
     "output_type": "display_data"
    }
   ],
   "source": [
    "plt.plot(walk)\n",
    "plt.plot(mva_walk)"
   ]
  },
  {
   "cell_type": "code",
   "execution_count": 17,
   "metadata": {},
   "outputs": [
    {
     "data": {
      "text/plain": [
       "100"
      ]
     },
     "execution_count": 17,
     "metadata": {},
     "output_type": "execute_result"
    }
   ],
   "source": [
    "len(walk)"
   ]
  },
  {
   "cell_type": "code",
   "execution_count": 14,
   "metadata": {},
   "outputs": [
    {
     "data": {
      "text/plain": [
       "100"
      ]
     },
     "execution_count": 14,
     "metadata": {},
     "output_type": "execute_result"
    }
   ],
   "source": [
    "len(mva_walk)"
   ]
  },
  {
   "cell_type": "code",
   "execution_count": null,
   "metadata": {},
   "outputs": [],
   "source": []
  }
 ],
 "metadata": {
  "kernelspec": {
   "display_name": "Python 3",
   "language": "python",
   "name": "python3"
  },
  "language_info": {
   "codemirror_mode": {
    "name": "ipython",
    "version": 3
   },
   "file_extension": ".py",
   "mimetype": "text/x-python",
   "name": "python",
   "nbconvert_exporter": "python",
   "pygments_lexer": "ipython3",
   "version": "3.6.0"
  }
 },
 "nbformat": 4,
 "nbformat_minor": 2
}
