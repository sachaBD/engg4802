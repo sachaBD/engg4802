{
 "cells": [
  {
   "cell_type": "code",
   "execution_count": 1,
   "metadata": {},
   "outputs": [],
   "source": [
    "import numpy as np\n",
    "import pandas as pd\n",
    "from copy import deepcopy\n",
    "\n",
    "\n",
    "class MultiForecaster:\n",
    "\n",
    "    \"\"\"\n",
    "    Forecast multiple periods ahead using a multiforecaster approach training a new model for each point in the horizon.\n",
    "    The estimator given must have the .fit and .predict methods\n",
    "    \"\"\"\n",
    "    def __init__(self, estimator, horizon : int):\n",
    "        self.horizon   = horizon\n",
    "\n",
    "        self.estimators = []\n",
    "\n",
    "        for i in range(0, horizon):\n",
    "            self.estimators.append(deepcopy(estimator))\n",
    "\n",
    "\n",
    "    \"\"\"\n",
    "    Train the estimators based on the train data set.\n",
    "    \n",
    "    Inputs:\n",
    "    dataset: A list of features of dimensions (n, m) where n is the number of training points and m is any integer.\n",
    "    labels: A list of the labels for each datapoint. This has dimensions (n, horizon).\n",
    "    \"\"\"\n",
    "    def fit(self, dataset : pd.DataFrame, labels : pd.DataFrame) -> None:\n",
    "        for i, estimator in enumerate(self.estimators):\n",
    "            estimator.fit(dataset, labels.iloc[:, i])\n",
    "\n",
    "\n",
    "    \"\"\"\n",
    "    Get the predicts for the full horizon for each point in the dataset.\n",
    "    \"\"\"\n",
    "    def predict(self, dataset : pd.DataFrame) -> np.ndarray:\n",
    "        result = []\n",
    "\n",
    "        for pointIndex in range(0, len(dataset)):\n",
    "            tempResult = np.zeros(len(self.estimators))\n",
    "\n",
    "            for i, estimator in enumerate(self.estimators):\n",
    "                point = dataset.iloc[pointIndex : pointIndex + 1]\n",
    "                \n",
    "                print(point.shape, estimator.predict(point))\n",
    "                \n",
    "                tempResult[i] = estimator.predict(point)\n",
    "\n",
    "            result.append(tempResult)\n",
    "\n",
    "        return np.array(result)"
   ]
  },
  {
   "cell_type": "code",
   "execution_count": null,
   "metadata": {},
   "outputs": [],
   "source": []
  }
 ],
 "metadata": {
  "kernelspec": {
   "display_name": "Python 3",
   "language": "python",
   "name": "python3"
  },
  "language_info": {
   "codemirror_mode": {
    "name": "ipython",
    "version": 3
   },
   "file_extension": ".py",
   "mimetype": "text/x-python",
   "name": "python",
   "nbconvert_exporter": "python",
   "pygments_lexer": "ipython3",
   "version": "3.6.0"
  }
 },
 "nbformat": 4,
 "nbformat_minor": 2
}
