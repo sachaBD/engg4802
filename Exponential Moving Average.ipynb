{
 "cells": [
  {
   "cell_type": "code",
   "execution_count": 1,
   "metadata": {},
   "outputs": [],
   "source": [
    "import numpy as np\n",
    "import pandas as pd\n",
    "import scipy as sp\n",
    "import matplotlib.pyplot as plt\n",
    "%matplotlib notebook"
   ]
  },
  {
   "cell_type": "code",
   "execution_count": 2,
   "metadata": {},
   "outputs": [],
   "source": [
    "%load_ext autoreload\n",
    "%autoreload 2"
   ]
  },
  {
   "cell_type": "code",
   "execution_count": 3,
   "metadata": {},
   "outputs": [],
   "source": [
    "from AutoValidator.model_tester import ModelTester\n",
    "from utils.progress import ProgressBar\n",
    "progress = ProgressBar()"
   ]
  },
  {
   "cell_type": "code",
   "execution_count": 4,
   "metadata": {},
   "outputs": [],
   "source": [
    "data = pd.read_csv('data/filter_data.csv')\n",
    "hurst_estimates = pd.read_csv('data/hurst_estimates.csv')\n",
    "hurst_estimates.set_index('Unnamed: 0', inplace=True)"
   ]
  },
  {
   "cell_type": "code",
   "execution_count": 5,
   "metadata": {},
   "outputs": [],
   "source": [
    "class ExponentialMovingAvgEstimator():\n",
    "    \n",
    "    def __init__(self, horizon, back_horizon=None):\n",
    "        self.horizon = horizon\n",
    "        \n",
    "        if back_horizon is None:\n",
    "            back_horizon = horizon\n",
    "        self.back_horizon = back_horizon\n",
    "        \n",
    "    def fit(self, train, labels):\n",
    "        self.starting_horizon = labels[-(self.back_horizon):]\n",
    "        \n",
    "    def predict(self, data):\n",
    "        comb_data = np.hstack([self.starting_horizon, data])\n",
    "        \n",
    "        return np.repeat(pd.Series(comb_data[::-1]).ewm(self.back_horizon, adjust=False).mean().dropna(axis=0).values[-len(data):][::-1], self.horizon).reshape(len(data), self.horizon)\n",
    "    \n",
    "    def __repr__(self):\n",
    "        return 'Exp Moving Avg Estimator: (h={:d})'.format(self.horizon)"
   ]
  },
  {
   "cell_type": "code",
   "execution_count": 6,
   "metadata": {},
   "outputs": [],
   "source": [
    "t = np.arange(0, 100)"
   ]
  },
  {
   "cell_type": "code",
   "execution_count": 7,
   "metadata": {},
   "outputs": [],
   "source": [
    "ema = ExponentialMovingAvgEstimator(5, 10)"
   ]
  },
  {
   "cell_type": "code",
   "execution_count": 8,
   "metadata": {},
   "outputs": [],
   "source": [
    "ema.fit(t[:80], t[:80])"
   ]
  },
  {
   "cell_type": "code",
   "execution_count": 9,
   "metadata": {},
   "outputs": [
    {
     "data": {
      "text/plain": [
       "array([80, 81, 82, 83, 84, 85, 86, 87, 88, 89, 90, 91, 92, 93, 94, 95, 96,\n",
       "       97, 98, 99])"
      ]
     },
     "execution_count": 9,
     "metadata": {},
     "output_type": "execute_result"
    }
   ],
   "source": [
    "t[80:]"
   ]
  },
  {
   "cell_type": "code",
   "execution_count": 10,
   "metadata": {},
   "outputs": [],
   "source": [
    "a = ema.predict(t[80:])"
   ]
  },
  {
   "cell_type": "code",
   "execution_count": 11,
   "metadata": {},
   "outputs": [
    {
     "data": {
      "text/plain": [
       "array([[79.36960591, 79.36960591, 79.36960591, 79.36960591, 79.36960591],\n",
       "       [80.30656651, 80.30656651, 80.30656651, 80.30656651, 80.30656651],\n",
       "       [81.23722316, 81.23722316, 81.23722316, 81.23722316, 81.23722316],\n",
       "       [82.16094547, 82.16094547, 82.16094547, 82.16094547, 82.16094547],\n",
       "       [83.07704002, 83.07704002, 83.07704002, 83.07704002, 83.07704002],\n",
       "       [83.98474402, 83.98474402, 83.98474402, 83.98474402, 83.98474402],\n",
       "       [84.88321842, 84.88321842, 84.88321842, 84.88321842, 84.88321842],\n",
       "       [85.77154026, 85.77154026, 85.77154026, 85.77154026, 85.77154026],\n",
       "       [86.64869429, 86.64869429, 86.64869429, 86.64869429, 86.64869429],\n",
       "       [87.51356372, 87.51356372, 87.51356372, 87.51356372, 87.51356372],\n",
       "       [88.36492009, 88.36492009, 88.36492009, 88.36492009, 88.36492009],\n",
       "       [89.2014121 , 89.2014121 , 89.2014121 , 89.2014121 , 89.2014121 ],\n",
       "       [90.02155331, 90.02155331, 90.02155331, 90.02155331, 90.02155331],\n",
       "       [90.82370864, 90.82370864, 90.82370864, 90.82370864, 90.82370864],\n",
       "       [91.60607951, 91.60607951, 91.60607951, 91.60607951, 91.60607951],\n",
       "       [92.36668746, 92.36668746, 92.36668746, 92.36668746, 92.36668746],\n",
       "       [93.1033562 , 93.1033562 , 93.1033562 , 93.1033562 , 93.1033562 ],\n",
       "       [93.81369182, 93.81369182, 93.81369182, 93.81369182, 93.81369182],\n",
       "       [94.49506101, 94.49506101, 94.49506101, 94.49506101, 94.49506101],\n",
       "       [95.14456711, 95.14456711, 95.14456711, 95.14456711, 95.14456711]])"
      ]
     },
     "execution_count": 11,
     "metadata": {},
     "output_type": "execute_result"
    }
   ],
   "source": [
    "a"
   ]
  },
  {
   "cell_type": "code",
   "execution_count": 16,
   "metadata": {},
   "outputs": [],
   "source": [
    "from AutoValidator.ErrorMetrics import calculate_all_errors\n",
    "\n",
    "def speed_up_calc(tester, data, horizon):\n",
    "    # Loading bar\n",
    "    tester.progressBar.set_length(len(data.columns))\n",
    "\n",
    "    # walk speed up\n",
    "    for i, column in enumerate(data.columns):\n",
    "        # Split into train and test data\n",
    "        split = int(0.20 * len(data))\n",
    "        train, test = data[column][:split].values, data[column][split:].values\n",
    "        # Round to be a multiple of the horizon\n",
    "        test = test[:len(test) - len(test) % horizon]\n",
    "\n",
    "        tester.model.fit(train, train)\n",
    "        pred = tester.model.predict(test)\n",
    "        tester.predictions[column] = pred\n",
    "\n",
    "        errors = {}\n",
    "        for key, value in calculate_all_errors(train, test, pred, horizon).items():\n",
    "            errors[key] = [value]\n",
    "\n",
    "        t = pd.DataFrame.from_dict(errors)\n",
    "        t.set_index(keys=[[column]], inplace=True)\n",
    "        tester.errors = tester.errors.append(t)\n",
    "\n",
    "        tester.progressBar.progress()"
   ]
  },
  {
   "cell_type": "markdown",
   "metadata": {},
   "source": [
    "## 1 minute horizon"
   ]
  },
  {
   "cell_type": "code",
   "execution_count": 12,
   "metadata": {},
   "outputs": [],
   "source": [
    "horizon = 1\n",
    "ema = ExponentialMovingAvgEstimator(horizon, 10)"
   ]
  },
  {
   "cell_type": "code",
   "execution_count": 13,
   "metadata": {},
   "outputs": [],
   "source": [
    "one_min_tester = ModelTester(data, ema, horizon, 0.20)"
   ]
  },
  {
   "cell_type": "code",
   "execution_count": 17,
   "metadata": {},
   "outputs": [
    {
     "name": "stdout",
     "output_type": "stream",
     "text": [
      "Progress: [####################] 100.0%\n"
     ]
    }
   ],
   "source": [
    "speed_up_calc(one_min_tester, data, horizon)"
   ]
  },
  {
   "cell_type": "code",
   "execution_count": 18,
   "metadata": {},
   "outputs": [
    {
     "data": {
      "text/html": [
       "<div>\n",
       "<style scoped>\n",
       "    .dataframe tbody tr th:only-of-type {\n",
       "        vertical-align: middle;\n",
       "    }\n",
       "\n",
       "    .dataframe tbody tr th {\n",
       "        vertical-align: top;\n",
       "    }\n",
       "\n",
       "    .dataframe thead th {\n",
       "        text-align: right;\n",
       "    }\n",
       "</style>\n",
       "<table border=\"1\" class=\"dataframe\">\n",
       "  <thead>\n",
       "    <tr style=\"text-align: right;\">\n",
       "      <th></th>\n",
       "      <th>MAE</th>\n",
       "      <th>RMSE</th>\n",
       "      <th>MAPE</th>\n",
       "      <th>sMAPE</th>\n",
       "      <th>MASE</th>\n",
       "      <th>MASE1</th>\n",
       "      <th>MEAN_ASE</th>\n",
       "    </tr>\n",
       "  </thead>\n",
       "  <tbody>\n",
       "    <tr>\n",
       "      <th>window_1_0</th>\n",
       "      <td>48.686330</td>\n",
       "      <td>143.332241</td>\n",
       "      <td>36.907777</td>\n",
       "      <td>17.243435</td>\n",
       "      <td>0.204714</td>\n",
       "      <td>152.77718</td>\n",
       "      <td>0.165226</td>\n",
       "    </tr>\n",
       "    <tr>\n",
       "      <th>window_1_1</th>\n",
       "      <td>56.984380</td>\n",
       "      <td>179.378999</td>\n",
       "      <td>41.464708</td>\n",
       "      <td>16.612374</td>\n",
       "      <td>0.282938</td>\n",
       "      <td>65.57303</td>\n",
       "      <td>0.190825</td>\n",
       "    </tr>\n",
       "    <tr>\n",
       "      <th>window_1_2</th>\n",
       "      <td>81.793375</td>\n",
       "      <td>206.838791</td>\n",
       "      <td>131.669398</td>\n",
       "      <td>25.048177</td>\n",
       "      <td>0.264181</td>\n",
       "      <td>-56.96869</td>\n",
       "      <td>0.251442</td>\n",
       "    </tr>\n",
       "    <tr>\n",
       "      <th>window_1_3</th>\n",
       "      <td>87.113376</td>\n",
       "      <td>216.935985</td>\n",
       "      <td>81.568212</td>\n",
       "      <td>24.608405</td>\n",
       "      <td>0.223029</td>\n",
       "      <td>39.88443</td>\n",
       "      <td>0.226303</td>\n",
       "    </tr>\n",
       "    <tr>\n",
       "      <th>window_1_4</th>\n",
       "      <td>98.537431</td>\n",
       "      <td>242.155538</td>\n",
       "      <td>97.888398</td>\n",
       "      <td>28.967307</td>\n",
       "      <td>0.329057</td>\n",
       "      <td>138.50936</td>\n",
       "      <td>0.341406</td>\n",
       "    </tr>\n",
       "  </tbody>\n",
       "</table>\n",
       "</div>"
      ],
      "text/plain": [
       "                  MAE        RMSE        MAPE      sMAPE      MASE      MASE1  \\\n",
       "window_1_0  48.686330  143.332241   36.907777  17.243435  0.204714  152.77718   \n",
       "window_1_1  56.984380  179.378999   41.464708  16.612374  0.282938   65.57303   \n",
       "window_1_2  81.793375  206.838791  131.669398  25.048177  0.264181  -56.96869   \n",
       "window_1_3  87.113376  216.935985   81.568212  24.608405  0.223029   39.88443   \n",
       "window_1_4  98.537431  242.155538   97.888398  28.967307  0.329057  138.50936   \n",
       "\n",
       "            MEAN_ASE  \n",
       "window_1_0  0.165226  \n",
       "window_1_1  0.190825  \n",
       "window_1_2  0.251442  \n",
       "window_1_3  0.226303  \n",
       "window_1_4  0.341406  "
      ]
     },
     "execution_count": 18,
     "metadata": {},
     "output_type": "execute_result"
    }
   ],
   "source": [
    "one_min_tester.errors.head()"
   ]
  },
  {
   "cell_type": "code",
   "execution_count": 21,
   "metadata": {
    "scrolled": false
   },
   "outputs": [
    {
     "data": {
      "image/png": "[encoded data removed]",
      "text/plain": [
       "<matplotlib.figure.Figure at 0x24c676d49b0>"
      ]
     },
     "metadata": {},
     "output_type": "display_data"
    }
   ],
   "source": [
    "one_min_tester.compare_hurst(hurst_estimates)"
   ]
  },
  {
   "cell_type": "code",
   "execution_count": 19,
   "metadata": {},
   "outputs": [],
   "source": [
    "one_min_tester.errors.to_csv('results/one_minute_exponential_moving_average_results.csv')"
   ]
  },
  {
   "cell_type": "markdown",
   "metadata": {},
   "source": [
    "## 5 minute horizon"
   ]
  },
  {
   "cell_type": "code",
   "execution_count": 22,
   "metadata": {},
   "outputs": [],
   "source": [
    "horizon = 5\n",
    "\n",
    "ema = ExponentialMovingAvgEstimator(horizon, 10)"
   ]
  },
  {
   "cell_type": "code",
   "execution_count": 23,
   "metadata": {},
   "outputs": [],
   "source": [
    "five_min_tester = ModelTester(data, ema, horizon, 0.20)"
   ]
  },
  {
   "cell_type": "code",
   "execution_count": 24,
   "metadata": {},
   "outputs": [
    {
     "name": "stdout",
     "output_type": "stream",
     "text": [
      "Progress: [####################] 100.0%\n"
     ]
    }
   ],
   "source": [
    "speed_up_calc(five_min_tester, data, horizon)"
   ]
  },
  {
   "cell_type": "code",
   "execution_count": 25,
   "metadata": {},
   "outputs": [
    {
     "data": {
      "text/html": [
       "<div>\n",
       "<style scoped>\n",
       "    .dataframe tbody tr th:only-of-type {\n",
       "        vertical-align: middle;\n",
       "    }\n",
       "\n",
       "    .dataframe tbody tr th {\n",
       "        vertical-align: top;\n",
       "    }\n",
       "\n",
       "    .dataframe thead th {\n",
       "        text-align: right;\n",
       "    }\n",
       "</style>\n",
       "<table border=\"1\" class=\"dataframe\">\n",
       "  <thead>\n",
       "    <tr style=\"text-align: right;\">\n",
       "      <th></th>\n",
       "      <th>MAE</th>\n",
       "      <th>RMSE</th>\n",
       "      <th>MAPE</th>\n",
       "      <th>sMAPE</th>\n",
       "      <th>MASE</th>\n",
       "      <th>MASE1</th>\n",
       "      <th>MEAN_ASE</th>\n",
       "    </tr>\n",
       "  </thead>\n",
       "  <tbody>\n",
       "    <tr>\n",
       "      <th>window_1_0</th>\n",
       "      <td>54.046242</td>\n",
       "      <td>154.211045</td>\n",
       "      <td>45.151779</td>\n",
       "      <td>19.641564</td>\n",
       "      <td>0.227252</td>\n",
       "      <td>169.59652</td>\n",
       "      <td>0.183407</td>\n",
       "    </tr>\n",
       "    <tr>\n",
       "      <th>window_1_1</th>\n",
       "      <td>62.789439</td>\n",
       "      <td>193.735450</td>\n",
       "      <td>45.725177</td>\n",
       "      <td>19.050381</td>\n",
       "      <td>0.311761</td>\n",
       "      <td>72.25302</td>\n",
       "      <td>0.210257</td>\n",
       "    </tr>\n",
       "    <tr>\n",
       "      <th>window_1_2</th>\n",
       "      <td>88.933785</td>\n",
       "      <td>221.182967</td>\n",
       "      <td>114.361144</td>\n",
       "      <td>27.794069</td>\n",
       "      <td>0.287243</td>\n",
       "      <td>-61.94195</td>\n",
       "      <td>0.273388</td>\n",
       "    </tr>\n",
       "    <tr>\n",
       "      <th>window_1_3</th>\n",
       "      <td>94.870279</td>\n",
       "      <td>232.580807</td>\n",
       "      <td>91.792351</td>\n",
       "      <td>27.080933</td>\n",
       "      <td>0.242888</td>\n",
       "      <td>43.43588</td>\n",
       "      <td>0.246467</td>\n",
       "    </tr>\n",
       "    <tr>\n",
       "      <th>window_1_4</th>\n",
       "      <td>106.737880</td>\n",
       "      <td>259.285216</td>\n",
       "      <td>114.410065</td>\n",
       "      <td>31.880199</td>\n",
       "      <td>0.356441</td>\n",
       "      <td>150.03634</td>\n",
       "      <td>0.369848</td>\n",
       "    </tr>\n",
       "  </tbody>\n",
       "</table>\n",
       "</div>"
      ],
      "text/plain": [
       "                   MAE        RMSE        MAPE      sMAPE      MASE  \\\n",
       "window_1_0   54.046242  154.211045   45.151779  19.641564  0.227252   \n",
       "window_1_1   62.789439  193.735450   45.725177  19.050381  0.311761   \n",
       "window_1_2   88.933785  221.182967  114.361144  27.794069  0.287243   \n",
       "window_1_3   94.870279  232.580807   91.792351  27.080933  0.242888   \n",
       "window_1_4  106.737880  259.285216  114.410065  31.880199  0.356441   \n",
       "\n",
       "                MASE1  MEAN_ASE  \n",
       "window_1_0  169.59652  0.183407  \n",
       "window_1_1   72.25302  0.210257  \n",
       "window_1_2  -61.94195  0.273388  \n",
       "window_1_3   43.43588  0.246467  \n",
       "window_1_4  150.03634  0.369848  "
      ]
     },
     "execution_count": 25,
     "metadata": {},
     "output_type": "execute_result"
    }
   ],
   "source": [
    "five_min_tester.errors.head()"
   ]
  },
  {
   "cell_type": "code",
   "execution_count": 36,
   "metadata": {
    "scrolled": false
   },
   "outputs": [
    {
     "data": {
      "image/png": "[encoded data removed]",
      "text/plain": [
       "<matplotlib.figure.Figure at 0x24c12bb0e80>"
      ]
     },
     "metadata": {},
     "output_type": "display_data"
    }
   ],
   "source": [
    "five_min_tester.compare_hurst(hurst_estimates)"
   ]
  },
  {
   "cell_type": "code",
   "execution_count": 37,
   "metadata": {},
   "outputs": [],
   "source": [
    "five_min_tester.errors.to_csv('results/five_minute_exponential_moving_average_results.csv')"
   ]
  },
  {
   "cell_type": "code",
   "execution_count": 40,
   "metadata": {},
   "outputs": [
    {
     "data": {
      "image/png": "[encoded data removed]",
      "text/plain": [
       "<matplotlib.figure.Figure at 0x24c0a3452b0>"
      ]
     },
     "metadata": {},
     "output_type": "display_data"
    }
   ],
   "source": [
    "five_min_tester.visualise_result([1, 2])"
   ]
  },
  {
   "cell_type": "markdown",
   "metadata": {},
   "source": [
    "## 60 minute horizon"
   ]
  },
  {
   "cell_type": "code",
   "execution_count": 28,
   "metadata": {},
   "outputs": [],
   "source": [
    "horizon = 60\n",
    "ema = ExponentialMovingAvgEstimator(horizon, 60)"
   ]
  },
  {
   "cell_type": "code",
   "execution_count": 29,
   "metadata": {},
   "outputs": [],
   "source": [
    "sixty_min_tester = ModelTester(data, ema, horizon, 0.20)"
   ]
  },
  {
   "cell_type": "code",
   "execution_count": 30,
   "metadata": {},
   "outputs": [
    {
     "name": "stdout",
     "output_type": "stream",
     "text": [
      "Progress: [####################] 100.0%\n"
     ]
    }
   ],
   "source": [
    "speed_up_calc(sixty_min_tester, data, horizon)"
   ]
  },
  {
   "cell_type": "code",
   "execution_count": 33,
   "metadata": {},
   "outputs": [
    {
     "data": {
      "text/html": [
       "<div>\n",
       "<style scoped>\n",
       "    .dataframe tbody tr th:only-of-type {\n",
       "        vertical-align: middle;\n",
       "    }\n",
       "\n",
       "    .dataframe tbody tr th {\n",
       "        vertical-align: top;\n",
       "    }\n",
       "\n",
       "    .dataframe thead th {\n",
       "        text-align: right;\n",
       "    }\n",
       "</style>\n",
       "<table border=\"1\" class=\"dataframe\">\n",
       "  <thead>\n",
       "    <tr style=\"text-align: right;\">\n",
       "      <th></th>\n",
       "      <th>MAE</th>\n",
       "      <th>RMSE</th>\n",
       "      <th>MAPE</th>\n",
       "      <th>sMAPE</th>\n",
       "      <th>MASE</th>\n",
       "      <th>MASE1</th>\n",
       "      <th>MEAN_ASE</th>\n",
       "    </tr>\n",
       "  </thead>\n",
       "  <tbody>\n",
       "    <tr>\n",
       "      <th>window_1_0</th>\n",
       "      <td>132.300207</td>\n",
       "      <td>242.054558</td>\n",
       "      <td>172.311725</td>\n",
       "      <td>56.565738</td>\n",
       "      <td>0.556291</td>\n",
       "      <td>415.15662</td>\n",
       "      <td>0.448806</td>\n",
       "    </tr>\n",
       "    <tr>\n",
       "      <th>window_1_1</th>\n",
       "      <td>137.092096</td>\n",
       "      <td>282.108444</td>\n",
       "      <td>159.682285</td>\n",
       "      <td>51.192033</td>\n",
       "      <td>0.680688</td>\n",
       "      <td>157.75452</td>\n",
       "      <td>0.458915</td>\n",
       "    </tr>\n",
       "    <tr>\n",
       "      <th>window_1_2</th>\n",
       "      <td>171.125049</td>\n",
       "      <td>322.677861</td>\n",
       "      <td>167.697805</td>\n",
       "      <td>60.497722</td>\n",
       "      <td>0.552709</td>\n",
       "      <td>-119.18776</td>\n",
       "      <td>0.525917</td>\n",
       "    </tr>\n",
       "    <tr>\n",
       "      <th>window_1_3</th>\n",
       "      <td>188.449917</td>\n",
       "      <td>337.460672</td>\n",
       "      <td>133.545746</td>\n",
       "      <td>59.234444</td>\n",
       "      <td>0.482472</td>\n",
       "      <td>86.28086</td>\n",
       "      <td>0.489884</td>\n",
       "    </tr>\n",
       "    <tr>\n",
       "      <th>window_1_4</th>\n",
       "      <td>188.466289</td>\n",
       "      <td>352.928107</td>\n",
       "      <td>385.100991</td>\n",
       "      <td>69.440451</td>\n",
       "      <td>0.629366</td>\n",
       "      <td>264.91807</td>\n",
       "      <td>0.653216</td>\n",
       "    </tr>\n",
       "  </tbody>\n",
       "</table>\n",
       "</div>"
      ],
      "text/plain": [
       "                   MAE        RMSE        MAPE      sMAPE      MASE  \\\n",
       "window_1_0  132.300207  242.054558  172.311725  56.565738  0.556291   \n",
       "window_1_1  137.092096  282.108444  159.682285  51.192033  0.680688   \n",
       "window_1_2  171.125049  322.677861  167.697805  60.497722  0.552709   \n",
       "window_1_3  188.449917  337.460672  133.545746  59.234444  0.482472   \n",
       "window_1_4  188.466289  352.928107  385.100991  69.440451  0.629366   \n",
       "\n",
       "                MASE1  MEAN_ASE  \n",
       "window_1_0  415.15662  0.448806  \n",
       "window_1_1  157.75452  0.458915  \n",
       "window_1_2 -119.18776  0.525917  \n",
       "window_1_3   86.28086  0.489884  \n",
       "window_1_4  264.91807  0.653216  "
      ]
     },
     "execution_count": 33,
     "metadata": {},
     "output_type": "execute_result"
    }
   ],
   "source": [
    "sixty_min_tester.errors.head()"
   ]
  },
  {
   "cell_type": "code",
   "execution_count": 35,
   "metadata": {
    "scrolled": false
   },
   "outputs": [
    {
     "data": {
      "image/png": "[encoded data removed]",
      "text/plain": [
       "<matplotlib.figure.Figure at 0x24c1e1f05c0>"
      ]
     },
     "metadata": {},
     "output_type": "display_data"
    }
   ],
   "source": [
    "sixty_min_tester.compare_hurst(hurst_estimates)"
   ]
  },
  {
   "cell_type": "code",
   "execution_count": 34,
   "metadata": {},
   "outputs": [],
   "source": [
    "sixty_min_tester.errors.to_csv('results/sixty_minute_exponential_moving_average_results.csv')"
   ]
  }
 ],
 "metadata": {
  "kernelspec": {
   "display_name": "Python 3",
   "language": "python",
   "name": "python3"
  },
  "language_info": {
   "codemirror_mode": {
    "name": "ipython",
    "version": 3
   },
   "file_extension": ".py",
   "mimetype": "text/x-python",
   "name": "python",
   "nbconvert_exporter": "python",
   "pygments_lexer": "ipython3",
   "version": "3.6.0"
  }
 },
 "nbformat": 4,
 "nbformat_minor": 2
}
