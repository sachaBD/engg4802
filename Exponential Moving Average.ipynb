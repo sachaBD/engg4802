{
 "cells": [
  {
   "cell_type": "code",
   "execution_count": 1,
   "metadata": {},
   "outputs": [],
   "source": [
    "import numpy as np\n",
    "import pandas as pd\n",
    "import scipy as sp\n",
    "import matplotlib.pyplot as plt\n",
    "%matplotlib notebook"
   ]
  },
  {
   "cell_type": "code",
   "execution_count": 2,
   "metadata": {},
   "outputs": [],
   "source": [
    "%load_ext autoreload\n",
    "%autoreload 2"
   ]
  },
  {
   "cell_type": "code",
   "execution_count": 3,
   "metadata": {},
   "outputs": [],
   "source": [
    "from AutoValidator.model_tester import ModelTester\n",
    "from utils.progress import ProgressBar\n",
    "progress = ProgressBar()"
   ]
  },
  {
   "cell_type": "code",
   "execution_count": 4,
   "metadata": {},
   "outputs": [],
   "source": [
    "data = pd.read_csv('data/filter_data.csv')\n",
    "hurst_estimates = pd.read_csv('data/hurst_estimates.csv')\n",
    "hurst_estimates.set_index('Unnamed: 0', inplace=True)"
   ]
  },
  {
   "cell_type": "code",
   "execution_count": 5,
   "metadata": {},
   "outputs": [],
   "source": [
    "class ExponentialMovingAvgEstimator():\n",
    "    \n",
    "    def __init__(self, horizon, back_horizon=None):\n",
    "        self.horizon = horizon\n",
    "        \n",
    "        if back_horizon is None:\n",
    "            back_horizon = horizon\n",
    "        self.back_horizon = back_horizon\n",
    "        \n",
    "    def fit(self, train, labels):\n",
    "        self.starting_horizon = labels[-(self.back_horizon):]\n",
    "        \n",
    "    def predict(self, data):\n",
    "        comb_data = np.hstack([self.starting_horizon, data])\n",
    "        \n",
    "        return np.repeat(pd.Series(comb_data[::-1]).ewm(self.back_horizon, adjust=False).mean().dropna(axis=0).values[-len(data):][::-1], self.horizon).reshape(len(data), self.horizon)\n",
    "    \n",
    "    def __repr__(self):\n",
    "        return 'Exp Moving Avg Estimator: (h={:d})'.format(self.horizon)"
   ]
  },
  {
   "cell_type": "code",
   "execution_count": 6,
   "metadata": {},
   "outputs": [],
   "source": [
    "t = np.arange(0, 100)"
   ]
  },
  {
   "cell_type": "code",
   "execution_count": 7,
   "metadata": {},
   "outputs": [],
   "source": [
    "ema = ExponentialMovingAvgEstimator(5, 10)"
   ]
  },
  {
   "cell_type": "code",
   "execution_count": 8,
   "metadata": {},
   "outputs": [],
   "source": [
    "ema.fit(t[:80], t[:80])"
   ]
  },
  {
   "cell_type": "code",
   "execution_count": 9,
   "metadata": {},
   "outputs": [
    {
     "data": {
      "text/plain": [
       "array([80, 81, 82, 83, 84, 85, 86, 87, 88, 89, 90, 91, 92, 93, 94, 95, 96,\n",
       "       97, 98, 99])"
      ]
     },
     "execution_count": 9,
     "metadata": {},
     "output_type": "execute_result"
    }
   ],
   "source": [
    "t[80:]"
   ]
  },
  {
   "cell_type": "code",
   "execution_count": 10,
   "metadata": {},
   "outputs": [],
   "source": [
    "a = ema.predict(t[80:])"
   ]
  },
  {
   "cell_type": "code",
   "execution_count": 11,
   "metadata": {},
   "outputs": [
    {
     "data": {
      "text/plain": [
       "array([[79.36960591, 79.36960591, 79.36960591, 79.36960591, 79.36960591],\n",
       "       [80.30656651, 80.30656651, 80.30656651, 80.30656651, 80.30656651],\n",
       "       [81.23722316, 81.23722316, 81.23722316, 81.23722316, 81.23722316],\n",
       "       [82.16094547, 82.16094547, 82.16094547, 82.16094547, 82.16094547],\n",
       "       [83.07704002, 83.07704002, 83.07704002, 83.07704002, 83.07704002],\n",
       "       [83.98474402, 83.98474402, 83.98474402, 83.98474402, 83.98474402],\n",
       "       [84.88321842, 84.88321842, 84.88321842, 84.88321842, 84.88321842],\n",
       "       [85.77154026, 85.77154026, 85.77154026, 85.77154026, 85.77154026],\n",
       "       [86.64869429, 86.64869429, 86.64869429, 86.64869429, 86.64869429],\n",
       "       [87.51356372, 87.51356372, 87.51356372, 87.51356372, 87.51356372],\n",
       "       [88.36492009, 88.36492009, 88.36492009, 88.36492009, 88.36492009],\n",
       "       [89.2014121 , 89.2014121 , 89.2014121 , 89.2014121 , 89.2014121 ],\n",
       "       [90.02155331, 90.02155331, 90.02155331, 90.02155331, 90.02155331],\n",
       "       [90.82370864, 90.82370864, 90.82370864, 90.82370864, 90.82370864],\n",
       "       [91.60607951, 91.60607951, 91.60607951, 91.60607951, 91.60607951],\n",
       "       [92.36668746, 92.36668746, 92.36668746, 92.36668746, 92.36668746],\n",
       "       [93.1033562 , 93.1033562 , 93.1033562 , 93.1033562 , 93.1033562 ],\n",
       "       [93.81369182, 93.81369182, 93.81369182, 93.81369182, 93.81369182],\n",
       "       [94.49506101, 94.49506101, 94.49506101, 94.49506101, 94.49506101],\n",
       "       [95.14456711, 95.14456711, 95.14456711, 95.14456711, 95.14456711]])"
      ]
     },
     "execution_count": 11,
     "metadata": {},
     "output_type": "execute_result"
    }
   ],
   "source": [
    "a"
   ]
  },
  {
   "cell_type": "code",
   "execution_count": null,
   "metadata": {},
   "outputs": [],
   "source": []
  },
  {
   "cell_type": "markdown",
   "metadata": {},
   "source": [
    "## 1 minute horizon"
   ]
  },
  {
   "cell_type": "code",
   "execution_count": 12,
   "metadata": {},
   "outputs": [],
   "source": [
    "horizon = 1\n",
    "ema = ExponentialMovingAvgEstimator(horizon, 10)"
   ]
  },
  {
   "cell_type": "code",
   "execution_count": 13,
   "metadata": {},
   "outputs": [],
   "source": [
    "one_min_tester = ModelTester(data, horizon, 0.20)\n",
    "\n",
    "one_min_tester.add_model(ema)"
   ]
  },
  {
   "cell_type": "code",
   "execution_count": 14,
   "metadata": {},
   "outputs": [
    {
     "name": "stdout",
     "output_type": "stream",
     "text": [
      "Progress: [####################] 100.0%\n"
     ]
    }
   ],
   "source": [
    "# results = five_min_tester.test_models()\n",
    "one_min_tester.results[repr(ema)] = {}\n",
    "\n",
    "progress.set_length(len(data.columns))\n",
    "for column in data.columns:\n",
    "    \n",
    "    split = int(0.20 * len(data))\n",
    "    train, test = data[column][:split], data[column][split:]\n",
    "    test = test[:len(test)]\n",
    "    ema.fit(train, train)\n",
    "    pred = ema.predict(test)\n",
    "    \n",
    "    one_min_tester.results[repr(ema)][column] = pred\n",
    "    progress.progress()"
   ]
  },
  {
   "cell_type": "code",
   "execution_count": 15,
   "metadata": {},
   "outputs": [
    {
     "name": "stdout",
     "output_type": "stream",
     "text": [
      "Progress: [####################] 100.0%\n"
     ]
    }
   ],
   "source": [
    "one_min_errors = one_min_tester.evaluate_model([repr(ema)])"
   ]
  },
  {
   "cell_type": "code",
   "execution_count": 16,
   "metadata": {},
   "outputs": [
    {
     "data": {
      "text/html": [
       "<div>\n",
       "<style scoped>\n",
       "    .dataframe tbody tr th:only-of-type {\n",
       "        vertical-align: middle;\n",
       "    }\n",
       "\n",
       "    .dataframe tbody tr th {\n",
       "        vertical-align: top;\n",
       "    }\n",
       "\n",
       "    .dataframe thead th {\n",
       "        text-align: right;\n",
       "    }\n",
       "</style>\n",
       "<table border=\"1\" class=\"dataframe\">\n",
       "  <thead>\n",
       "    <tr style=\"text-align: right;\">\n",
       "      <th></th>\n",
       "      <th>Exp Moving Avg Estimator: (h=1)_RMSE</th>\n",
       "      <th>Exp Moving Avg Estimator: (h=1)_MASE</th>\n",
       "      <th>RMSE avg</th>\n",
       "      <th>RMSE std</th>\n",
       "      <th>MASE avg</th>\n",
       "      <th>MASE std</th>\n",
       "    </tr>\n",
       "  </thead>\n",
       "  <tbody>\n",
       "    <tr>\n",
       "      <th>window_1_0</th>\n",
       "      <td>143.331202</td>\n",
       "      <td>0.165225</td>\n",
       "      <td>143.331202</td>\n",
       "      <td>0.0</td>\n",
       "      <td>0.165225</td>\n",
       "      <td>0.0</td>\n",
       "    </tr>\n",
       "    <tr>\n",
       "      <th>window_1_1</th>\n",
       "      <td>179.377699</td>\n",
       "      <td>0.190856</td>\n",
       "      <td>179.377699</td>\n",
       "      <td>0.0</td>\n",
       "      <td>0.190856</td>\n",
       "      <td>0.0</td>\n",
       "    </tr>\n",
       "    <tr>\n",
       "      <th>window_1_2</th>\n",
       "      <td>206.837292</td>\n",
       "      <td>0.251366</td>\n",
       "      <td>206.837292</td>\n",
       "      <td>0.0</td>\n",
       "      <td>0.251366</td>\n",
       "      <td>0.0</td>\n",
       "    </tr>\n",
       "    <tr>\n",
       "      <th>window_1_3</th>\n",
       "      <td>216.934415</td>\n",
       "      <td>0.226413</td>\n",
       "      <td>216.934415</td>\n",
       "      <td>0.0</td>\n",
       "      <td>0.226413</td>\n",
       "      <td>0.0</td>\n",
       "    </tr>\n",
       "    <tr>\n",
       "      <th>window_1_4</th>\n",
       "      <td>242.153801</td>\n",
       "      <td>0.341419</td>\n",
       "      <td>242.153801</td>\n",
       "      <td>0.0</td>\n",
       "      <td>0.341419</td>\n",
       "      <td>0.0</td>\n",
       "    </tr>\n",
       "  </tbody>\n",
       "</table>\n",
       "</div>"
      ],
      "text/plain": [
       "            Exp Moving Avg Estimator: (h=1)_RMSE  \\\n",
       "window_1_0                            143.331202   \n",
       "window_1_1                            179.377699   \n",
       "window_1_2                            206.837292   \n",
       "window_1_3                            216.934415   \n",
       "window_1_4                            242.153801   \n",
       "\n",
       "            Exp Moving Avg Estimator: (h=1)_MASE    RMSE avg  RMSE std  \\\n",
       "window_1_0                              0.165225  143.331202       0.0   \n",
       "window_1_1                              0.190856  179.377699       0.0   \n",
       "window_1_2                              0.251366  206.837292       0.0   \n",
       "window_1_3                              0.226413  216.934415       0.0   \n",
       "window_1_4                              0.341419  242.153801       0.0   \n",
       "\n",
       "            MASE avg  MASE std  \n",
       "window_1_0  0.165225       0.0  \n",
       "window_1_1  0.190856       0.0  \n",
       "window_1_2  0.251366       0.0  \n",
       "window_1_3  0.226413       0.0  \n",
       "window_1_4  0.341419       0.0  "
      ]
     },
     "execution_count": 16,
     "metadata": {},
     "output_type": "execute_result"
    }
   ],
   "source": [
    "one_min_errors.head()"
   ]
  },
  {
   "cell_type": "code",
   "execution_count": 17,
   "metadata": {
    "scrolled": false
   },
   "outputs": [
    {
     "data": {
      "image/png": "[encoded data removed]",
      "text/plain": [
       "<matplotlib.figure.Figure at 0x27de94bdc18>"
      ]
     },
     "metadata": {},
     "output_type": "display_data"
    }
   ],
   "source": [
    "one_min_tester.compare_hurst(hurst_estimates, errors=one_min_errors)"
   ]
  },
  {
   "cell_type": "code",
   "execution_count": 18,
   "metadata": {},
   "outputs": [],
   "source": [
    "one_min_errors.to_csv('results/one_minute_exponential_moving_average_results.csv')"
   ]
  },
  {
   "cell_type": "markdown",
   "metadata": {},
   "source": [
    "## 5 minute horizon"
   ]
  },
  {
   "cell_type": "code",
   "execution_count": 19,
   "metadata": {},
   "outputs": [],
   "source": [
    "horizon = 5\n",
    "\n",
    "ema = ExponentialMovingAvgEstimator(horizon, 10)"
   ]
  },
  {
   "cell_type": "code",
   "execution_count": 20,
   "metadata": {},
   "outputs": [],
   "source": [
    "five_min_tester = ModelTester(data, horizon, 0.20)\n",
    "\n",
    "five_min_tester.add_model(ema)"
   ]
  },
  {
   "cell_type": "code",
   "execution_count": 21,
   "metadata": {},
   "outputs": [
    {
     "name": "stdout",
     "output_type": "stream",
     "text": [
      "Progress: [####################] 100.0%\n"
     ]
    }
   ],
   "source": [
    "# results = five_min_tester.test_models()\n",
    "five_min_tester.results[repr(ema)] = {}\n",
    "\n",
    "five_min_tester.progressBar.set_length(len(data.columns))\n",
    "for column in data.columns:\n",
    "    five_min_tester.progressBar.progress()\n",
    "    \n",
    "    split = int(0.20 * len(data))\n",
    "    train, test = data[column][:split], data[column][split:]\n",
    "    test = test[:len(test) - len(test) % horizon]\n",
    "    ema.fit(train, train)\n",
    "    pred = ema.predict(test)\n",
    "    \n",
    "    five_min_tester.results[repr(ema)][column] = pred"
   ]
  },
  {
   "cell_type": "code",
   "execution_count": 22,
   "metadata": {},
   "outputs": [
    {
     "name": "stdout",
     "output_type": "stream",
     "text": [
      "Progress: [####################] 100.0%\n"
     ]
    }
   ],
   "source": [
    "five_min_errors = five_min_tester.evaluate_model([repr(ema)])"
   ]
  },
  {
   "cell_type": "code",
   "execution_count": 23,
   "metadata": {},
   "outputs": [
    {
     "data": {
      "text/html": [
       "<div>\n",
       "<style scoped>\n",
       "    .dataframe tbody tr th:only-of-type {\n",
       "        vertical-align: middle;\n",
       "    }\n",
       "\n",
       "    .dataframe tbody tr th {\n",
       "        vertical-align: top;\n",
       "    }\n",
       "\n",
       "    .dataframe thead th {\n",
       "        text-align: right;\n",
       "    }\n",
       "</style>\n",
       "<table border=\"1\" class=\"dataframe\">\n",
       "  <thead>\n",
       "    <tr style=\"text-align: right;\">\n",
       "      <th></th>\n",
       "      <th>Exp Moving Avg Estimator: (h=5)_RMSE</th>\n",
       "      <th>Exp Moving Avg Estimator: (h=5)_MASE</th>\n",
       "      <th>RMSE avg</th>\n",
       "      <th>RMSE std</th>\n",
       "      <th>MASE avg</th>\n",
       "      <th>MASE std</th>\n",
       "    </tr>\n",
       "  </thead>\n",
       "  <tbody>\n",
       "    <tr>\n",
       "      <th>window_1_0</th>\n",
       "      <td>154.109606</td>\n",
       "      <td>0.183142</td>\n",
       "      <td>154.109606</td>\n",
       "      <td>0.0</td>\n",
       "      <td>0.183142</td>\n",
       "      <td>0.0</td>\n",
       "    </tr>\n",
       "    <tr>\n",
       "      <th>window_1_1</th>\n",
       "      <td>193.496155</td>\n",
       "      <td>0.210062</td>\n",
       "      <td>193.496155</td>\n",
       "      <td>0.0</td>\n",
       "      <td>0.210062</td>\n",
       "      <td>0.0</td>\n",
       "    </tr>\n",
       "    <tr>\n",
       "      <th>window_1_2</th>\n",
       "      <td>221.279257</td>\n",
       "      <td>0.273352</td>\n",
       "      <td>221.279257</td>\n",
       "      <td>0.0</td>\n",
       "      <td>0.273352</td>\n",
       "      <td>0.0</td>\n",
       "    </tr>\n",
       "    <tr>\n",
       "      <th>window_1_3</th>\n",
       "      <td>232.135984</td>\n",
       "      <td>0.246227</td>\n",
       "      <td>232.135984</td>\n",
       "      <td>0.0</td>\n",
       "      <td>0.246227</td>\n",
       "      <td>0.0</td>\n",
       "    </tr>\n",
       "    <tr>\n",
       "      <th>window_1_4</th>\n",
       "      <td>259.110385</td>\n",
       "      <td>0.369775</td>\n",
       "      <td>259.110385</td>\n",
       "      <td>0.0</td>\n",
       "      <td>0.369775</td>\n",
       "      <td>0.0</td>\n",
       "    </tr>\n",
       "  </tbody>\n",
       "</table>\n",
       "</div>"
      ],
      "text/plain": [
       "            Exp Moving Avg Estimator: (h=5)_RMSE  \\\n",
       "window_1_0                            154.109606   \n",
       "window_1_1                            193.496155   \n",
       "window_1_2                            221.279257   \n",
       "window_1_3                            232.135984   \n",
       "window_1_4                            259.110385   \n",
       "\n",
       "            Exp Moving Avg Estimator: (h=5)_MASE    RMSE avg  RMSE std  \\\n",
       "window_1_0                              0.183142  154.109606       0.0   \n",
       "window_1_1                              0.210062  193.496155       0.0   \n",
       "window_1_2                              0.273352  221.279257       0.0   \n",
       "window_1_3                              0.246227  232.135984       0.0   \n",
       "window_1_4                              0.369775  259.110385       0.0   \n",
       "\n",
       "            MASE avg  MASE std  \n",
       "window_1_0  0.183142       0.0  \n",
       "window_1_1  0.210062       0.0  \n",
       "window_1_2  0.273352       0.0  \n",
       "window_1_3  0.246227       0.0  \n",
       "window_1_4  0.369775       0.0  "
      ]
     },
     "execution_count": 23,
     "metadata": {},
     "output_type": "execute_result"
    }
   ],
   "source": [
    "five_min_errors.head()"
   ]
  },
  {
   "cell_type": "code",
   "execution_count": 25,
   "metadata": {
    "scrolled": false
   },
   "outputs": [
    {
     "data": {
      "image/png": "[encoded data removed]",
      "text/plain": [
       "<matplotlib.figure.Figure at 0x27deed3e9b0>"
      ]
     },
     "metadata": {},
     "output_type": "display_data"
    }
   ],
   "source": [
    "five_min_tester.compare_hurst(hurst_estimates, errors=five_min_errors)"
   ]
  },
  {
   "cell_type": "code",
   "execution_count": 26,
   "metadata": {},
   "outputs": [],
   "source": [
    "five_min_errors.to_csv('results/five_minute_exponential_moving_average_results.csv')"
   ]
  },
  {
   "cell_type": "code",
   "execution_count": 27,
   "metadata": {},
   "outputs": [
    {
     "data": {
      "image/png": "[encoded data removed]",
      "text/plain": [
       "<matplotlib.figure.Figure at 0x27deed3e2e8>"
      ]
     },
     "metadata": {},
     "output_type": "display_data"
    }
   ],
   "source": [
    "five_min_tester.visualise_result(repr(ema), [1, 2])"
   ]
  },
  {
   "cell_type": "markdown",
   "metadata": {},
   "source": [
    "## 60 minute horizon"
   ]
  },
  {
   "cell_type": "code",
   "execution_count": 28,
   "metadata": {},
   "outputs": [],
   "source": [
    "horizon = 60\n",
    "ema = ExponentialMovingAvgEstimator(horizon, 60)"
   ]
  },
  {
   "cell_type": "code",
   "execution_count": 29,
   "metadata": {},
   "outputs": [],
   "source": [
    "sixty_min_tester = ModelTester(data, horizon, 0.20)\n",
    "\n",
    "sixty_min_tester.add_model(ema)"
   ]
  },
  {
   "cell_type": "code",
   "execution_count": 30,
   "metadata": {},
   "outputs": [
    {
     "name": "stdout",
     "output_type": "stream",
     "text": [
      "Progress: [####################] 100.0%\n"
     ]
    }
   ],
   "source": [
    "# results = five_min_tester.test_models()\n",
    "sixty_min_tester.results[repr(ema)] = {}\n",
    "\n",
    "sixty_min_tester.progressBar.set_length(len(data.columns))\n",
    "for column in data.columns:\n",
    "    sixty_min_tester.progressBar.progress()\n",
    "    \n",
    "    split = int(0.20 * len(data))\n",
    "    train, test = data[column][:split], data[column][split:]\n",
    "    test = test[:len(test)]\n",
    "    ema.fit(train, train)\n",
    "    pred = ema.predict(test)\n",
    "    \n",
    "    sixty_min_tester.results[repr(ema)][column] = pred"
   ]
  },
  {
   "cell_type": "code",
   "execution_count": 31,
   "metadata": {},
   "outputs": [
    {
     "name": "stdout",
     "output_type": "stream",
     "text": [
      "Progress: [####################] 100.0%\n"
     ]
    }
   ],
   "source": [
    "sixty_min_errors = sixty_min_tester.evaluate_model([repr(ema)])"
   ]
  },
  {
   "cell_type": "code",
   "execution_count": 32,
   "metadata": {},
   "outputs": [
    {
     "data": {
      "text/html": [
       "<div>\n",
       "<style scoped>\n",
       "    .dataframe tbody tr th:only-of-type {\n",
       "        vertical-align: middle;\n",
       "    }\n",
       "\n",
       "    .dataframe tbody tr th {\n",
       "        vertical-align: top;\n",
       "    }\n",
       "\n",
       "    .dataframe thead th {\n",
       "        text-align: right;\n",
       "    }\n",
       "</style>\n",
       "<table border=\"1\" class=\"dataframe\">\n",
       "  <thead>\n",
       "    <tr style=\"text-align: right;\">\n",
       "      <th></th>\n",
       "      <th>Exp Moving Avg Estimator: (h=60)_RMSE</th>\n",
       "      <th>Exp Moving Avg Estimator: (h=60)_MASE</th>\n",
       "      <th>RMSE avg</th>\n",
       "      <th>RMSE std</th>\n",
       "      <th>MASE avg</th>\n",
       "      <th>MASE std</th>\n",
       "    </tr>\n",
       "  </thead>\n",
       "  <tbody>\n",
       "    <tr>\n",
       "      <th>window_1_0</th>\n",
       "      <td>241.544293</td>\n",
       "      <td>0.446867</td>\n",
       "      <td>241.544293</td>\n",
       "      <td>0.0</td>\n",
       "      <td>0.446867</td>\n",
       "      <td>0.0</td>\n",
       "    </tr>\n",
       "    <tr>\n",
       "      <th>window_1_1</th>\n",
       "      <td>281.938636</td>\n",
       "      <td>0.459337</td>\n",
       "      <td>281.938636</td>\n",
       "      <td>0.0</td>\n",
       "      <td>0.459337</td>\n",
       "      <td>0.0</td>\n",
       "    </tr>\n",
       "    <tr>\n",
       "      <th>window_1_2</th>\n",
       "      <td>322.316815</td>\n",
       "      <td>0.525479</td>\n",
       "      <td>322.316815</td>\n",
       "      <td>0.0</td>\n",
       "      <td>0.525479</td>\n",
       "      <td>0.0</td>\n",
       "    </tr>\n",
       "    <tr>\n",
       "      <th>window_1_3</th>\n",
       "      <td>339.320024</td>\n",
       "      <td>0.493690</td>\n",
       "      <td>339.320024</td>\n",
       "      <td>0.0</td>\n",
       "      <td>0.493690</td>\n",
       "      <td>0.0</td>\n",
       "    </tr>\n",
       "    <tr>\n",
       "      <th>window_1_4</th>\n",
       "      <td>352.628650</td>\n",
       "      <td>0.653304</td>\n",
       "      <td>352.628650</td>\n",
       "      <td>0.0</td>\n",
       "      <td>0.653304</td>\n",
       "      <td>0.0</td>\n",
       "    </tr>\n",
       "  </tbody>\n",
       "</table>\n",
       "</div>"
      ],
      "text/plain": [
       "            Exp Moving Avg Estimator: (h=60)_RMSE  \\\n",
       "window_1_0                             241.544293   \n",
       "window_1_1                             281.938636   \n",
       "window_1_2                             322.316815   \n",
       "window_1_3                             339.320024   \n",
       "window_1_4                             352.628650   \n",
       "\n",
       "            Exp Moving Avg Estimator: (h=60)_MASE    RMSE avg  RMSE std  \\\n",
       "window_1_0                               0.446867  241.544293       0.0   \n",
       "window_1_1                               0.459337  281.938636       0.0   \n",
       "window_1_2                               0.525479  322.316815       0.0   \n",
       "window_1_3                               0.493690  339.320024       0.0   \n",
       "window_1_4                               0.653304  352.628650       0.0   \n",
       "\n",
       "            MASE avg  MASE std  \n",
       "window_1_0  0.446867       0.0  \n",
       "window_1_1  0.459337       0.0  \n",
       "window_1_2  0.525479       0.0  \n",
       "window_1_3  0.493690       0.0  \n",
       "window_1_4  0.653304       0.0  "
      ]
     },
     "execution_count": 32,
     "metadata": {},
     "output_type": "execute_result"
    }
   ],
   "source": [
    "sixty_min_errors.head()"
   ]
  },
  {
   "cell_type": "code",
   "execution_count": 33,
   "metadata": {
    "scrolled": false
   },
   "outputs": [
    {
     "data": {
      "image/png": "[encoded data removed]",
      "text/plain": [
       "<matplotlib.figure.Figure at 0x27dfbd629e8>"
      ]
     },
     "metadata": {},
     "output_type": "display_data"
    }
   ],
   "source": [
    "sixty_min_tester.compare_hurst(hurst_estimates, errors=sixty_min_errors)"
   ]
  },
  {
   "cell_type": "code",
   "execution_count": 34,
   "metadata": {},
   "outputs": [],
   "source": [
    "sixty_min_errors.to_csv('results/sixty_minute_exponential_moving_average_results.csv')"
   ]
  },
  {
   "cell_type": "code",
   "execution_count": null,
   "metadata": {},
   "outputs": [],
   "source": []
  },
  {
   "cell_type": "code",
   "execution_count": null,
   "metadata": {},
   "outputs": [],
   "source": []
  },
  {
   "cell_type": "code",
   "execution_count": null,
   "metadata": {},
   "outputs": [],
   "source": []
  },
  {
   "cell_type": "code",
   "execution_count": null,
   "metadata": {},
   "outputs": [],
   "source": []
  },
  {
   "cell_type": "code",
   "execution_count": 35,
   "metadata": {},
   "outputs": [
    {
     "ename": "NameError",
     "evalue": "name 'preds' is not defined",
     "output_type": "error",
     "traceback": [
      "\u001b[1;31m---------------------------------------------------------------------------\u001b[0m",
      "\u001b[1;31mNameError\u001b[0m                                 Traceback (most recent call last)",
      "\u001b[1;32m<ipython-input-35-7de51f8b8039>\u001b[0m in \u001b[0;36m<module>\u001b[1;34m()\u001b[0m\n\u001b[0;32m      1\u001b[0m \u001b[0mget_ipython\u001b[0m\u001b[1;33m(\u001b[0m\u001b[1;33m)\u001b[0m\u001b[1;33m.\u001b[0m\u001b[0mrun_line_magic\u001b[0m\u001b[1;33m(\u001b[0m\u001b[1;34m'matplotlib'\u001b[0m\u001b[1;33m,\u001b[0m \u001b[1;34m'notebook'\u001b[0m\u001b[1;33m)\u001b[0m\u001b[1;33m\u001b[0m\u001b[0m\n\u001b[1;32m----> 2\u001b[1;33m \u001b[0mplt\u001b[0m\u001b[1;33m.\u001b[0m\u001b[0mplot\u001b[0m\u001b[1;33m(\u001b[0m\u001b[0mpreds\u001b[0m\u001b[1;33m[\u001b[0m\u001b[1;36m0\u001b[0m\u001b[1;33m]\u001b[0m\u001b[1;33m)\u001b[0m\u001b[1;33m\u001b[0m\u001b[0m\n\u001b[0m\u001b[0;32m      3\u001b[0m \u001b[0mplt\u001b[0m\u001b[1;33m.\u001b[0m\u001b[0mplot\u001b[0m\u001b[1;33m(\u001b[0m\u001b[0mtests\u001b[0m\u001b[1;33m[\u001b[0m\u001b[1;36m0\u001b[0m\u001b[1;33m]\u001b[0m\u001b[1;33m)\u001b[0m\u001b[1;33m\u001b[0m\u001b[0m\n\u001b[0;32m      4\u001b[0m \u001b[1;33m\u001b[0m\u001b[0m\n\u001b[0;32m      5\u001b[0m \u001b[0mpred_at\u001b[0m \u001b[1;33m=\u001b[0m \u001b[0mnp\u001b[0m\u001b[1;33m.\u001b[0m\u001b[0marange\u001b[0m\u001b[1;33m(\u001b[0m\u001b[1;36m0\u001b[0m\u001b[1;33m,\u001b[0m \u001b[0mlen\u001b[0m\u001b[1;33m(\u001b[0m\u001b[0mpred\u001b[0m\u001b[1;33m)\u001b[0m\u001b[1;33m,\u001b[0m \u001b[1;36m60\u001b[0m\u001b[1;33m)\u001b[0m\u001b[1;33m\u001b[0m\u001b[0m\n",
      "\u001b[1;31mNameError\u001b[0m: name 'preds' is not defined"
     ]
    }
   ],
   "source": [
    "%matplotlib notebook\n",
    "plt.plot(preds[0])\n",
    "plt.plot(tests[0])\n",
    "\n",
    "pred_at = np.arange(0, len(pred), 60)\n",
    "plt.scatter(pred_at, preds[0][pred_at])"
   ]
  }
 ],
 "metadata": {
  "kernelspec": {
   "display_name": "Python 3",
   "language": "python",
   "name": "python3"
  },
  "language_info": {
   "codemirror_mode": {
    "name": "ipython",
    "version": 3
   },
   "file_extension": ".py",
   "mimetype": "text/x-python",
   "name": "python",
   "nbconvert_exporter": "python",
   "pygments_lexer": "ipython3",
   "version": "3.6.0"
  }
 },
 "nbformat": 4,
 "nbformat_minor": 2
}
