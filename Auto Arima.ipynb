{
 "cells": [
  {
   "cell_type": "code",
   "execution_count": 1,
   "metadata": {},
   "outputs": [],
   "source": [
    "import numpy as np\n",
    "import pandas as pd\n",
    "import scipy as sp\n",
    "import matplotlib.pyplot as plt\n",
    "%matplotlib notebook\n",
    "\n",
    "%load_ext autoreload\n",
    "%autoreload 2\n",
    "\n",
    "from utils.DataPrepUtils import xy_backtest\n",
    "from ModelTesters.ModelTester import ModelTester\n",
    "from utils.progress import ProgressBar\n",
    "progress = ProgressBar()"
   ]
  },
  {
   "cell_type": "code",
   "execution_count": 2,
   "metadata": {},
   "outputs": [],
   "source": [
    "data = pd.read_csv('data/filter_data.csv')\n",
    "hurst_estimates = pd.read_csv('data/hurst_estimates.csv')\n",
    "hurst_estimates.set_index('Unnamed: 0', inplace=True)"
   ]
  },
  {
   "cell_type": "code",
   "execution_count": 3,
   "metadata": {},
   "outputs": [],
   "source": [
    "import rpy2.robjects as ro\n",
    "from rpy2.robjects.packages import importr\n",
    "from rpy2.robjects import r, pandas2ri, numpy2ri\n",
    "from rpy2.robjects.vectors import FloatVector"
   ]
  },
  {
   "cell_type": "code",
   "execution_count": 4,
   "metadata": {},
   "outputs": [
    {
     "name": "stdout",
     "output_type": "stream",
     "text": [
      "The autoreload extension is already loaded. To reload it, use:\n",
      "  %reload_ext autoreload\n"
     ]
    }
   ],
   "source": [
    "%load_ext autoreload\n",
    "%autoreload 2"
   ]
  },
  {
   "cell_type": "code",
   "execution_count": 5,
   "metadata": {},
   "outputs": [],
   "source": [
    "from utils.progress import ProgressBar\n",
    "progress = ProgressBar()"
   ]
  },
  {
   "cell_type": "code",
   "execution_count": 6,
   "metadata": {},
   "outputs": [],
   "source": [
    "# Setup to parse to R\n",
    "pandas2ri.activate()\n",
    "ts = ro.r('ts')\n",
    "forecast = importr('forecast')"
   ]
  },
  {
   "cell_type": "code",
   "execution_count": 106,
   "metadata": {},
   "outputs": [],
   "source": [
    "data = data[['window_1_0', 'window_1_1', 'window_1_2', 'window_1_3']]\n",
    "data = data.drop(axis=0, index=np.arange(600, len(data)))"
   ]
  },
  {
   "cell_type": "code",
   "execution_count": 7,
   "metadata": {},
   "outputs": [
    {
     "data": {
      "text/plain": [
       "(86258, 60)"
      ]
     },
     "execution_count": 7,
     "metadata": {},
     "output_type": "execute_result"
    }
   ],
   "source": [
    "data.shape"
   ]
  },
  {
   "cell_type": "markdown",
   "metadata": {},
   "source": [
    "## Auto Arima model from R"
   ]
  },
  {
   "cell_type": "code",
   "execution_count": 335,
   "metadata": {},
   "outputs": [],
   "source": [
    "class AutoArima():\n",
    "    \n",
    "    def __init__(self, horizon, back_horizon):\n",
    "        self.horizon = horizon\n",
    "        self.back_horizon = back_horizon\n",
    "        self.arima_models = []\n",
    "    \n",
    "    \n",
    "    def fit(self, data, labels):\n",
    "        self.data = data\n",
    "    \n",
    "    def predict(self, data, bar=None, use_every=1):\n",
    "        print(self.data.shape, data.shape)\n",
    "        all_data = np.hstack([self.data, data])\n",
    "        results = np.zeros((len(data), self.horizon))\n",
    "        \n",
    "        for i in range(0, len(data), use_every):\n",
    "            arima_model = forecast.auto_arima(all_data[len(self.data) + i - self.back_horizon: len(self.data) + i])\n",
    "            arima_forecast = forecast.forecast(arima_model, h=self.horizon)\n",
    "            arima_output = dict(zip(arima_forecast.names, map(list,list(arima_forecast))))\n",
    "            self.arima_models.append(dict(zip(arima_forecast.names, map(list,list(arima_forecast)))))\n",
    "            \n",
    "            results[i] = np.array(arima_output['mean'])\n",
    "            \n",
    "            if bar is not None:\n",
    "                bar.progress()\n",
    "\n",
    "        return results"
   ]
  },
  {
   "cell_type": "code",
   "execution_count": 336,
   "metadata": {},
   "outputs": [],
   "source": [
    "from utils.ErrorMetrics import calculate_all_errors\n",
    "import datetime as dt\n",
    "\n",
    "def speed_up_calc(tester, data, horizon, use_every=1):\n",
    "    # Loading bar\n",
    "    split = int(0.20 * len(data))\n",
    "    tester.progressBar.set_length(len(data.columns) * (len(data) - split) // use_every)\n",
    "    start = dt.datetime.now()\n",
    "    \n",
    "    # walk speed up\n",
    "    for i, column in enumerate(data.keys()):\n",
    "\n",
    "        # Split into train and test data\n",
    "        train, test = data[column][:split].values, data[column][split:].values\n",
    "        \n",
    "        # Round to be a multiple of the horizon\n",
    "        test = test[:len(test) - len(test) % horizon]\n",
    "\n",
    "        tester.model.fit(train, train)\n",
    "#         pred = tester.model.predict(test, bar=tester.progressBar, use_every=use_every)\n",
    "        pred = tester.model.predict(test, bar=tester.progressBar, use_every=use_every)\n",
    "        \n",
    "        tester.predictions[column] = pred\n",
    "\n",
    "        errors = {}\n",
    "        for key, value in calculate_all_errors(train, test, pred, horizon).items():\n",
    "            errors[key] = [value]\n",
    "\n",
    "        t = pd.DataFrame.from_dict(errors)\n",
    "        t.set_index(keys=[[column]], inplace=True)\n",
    "        tester.errors = tester.errors.append(t)\n",
    "        \n",
    "        end = dt.datetime.now()\n",
    "        print(\"Iteration in:\", (dt.datetime.now() - start).microseconds / 10**6, \"s\")\n",
    "        \n",
    "        print(\"estimated total time:\", ((len(data.columns) * (len(data) - split) // use_every) - i) * (end - start))"
   ]
  },
  {
   "cell_type": "code",
   "execution_count": 337,
   "metadata": {},
   "outputs": [
    {
     "name": "stdout",
     "output_type": "stream",
     "text": [
      "Progress: [####################] 100.0%\n",
      "(540, 60) (540, 60)\n",
      "Iteration in: 0.228199 s\n",
      "estimated total time: 0:00:12.281990\n"
     ]
    }
   ],
   "source": [
    "arima = AutoArima(horizon, 120)\n",
    "t = ModelTester(data, arima, horizon, 0.2)\n",
    "speed_up_calc(t, data[['window_1_0']][:800], horizon, use_every=60)"
   ]
  },
  {
   "cell_type": "code",
   "execution_count": 340,
   "metadata": {},
   "outputs": [
    {
     "name": "stdout",
     "output_type": "stream",
     "text": [
      "['ARIMA(0,2,1)']\n",
      "['ARIMA(2,2,2)']\n",
      "['ARIMA(1,2,3)']\n",
      "['ARIMA(1,2,1)']\n",
      "['ARIMA(1,2,2)']\n",
      "['ARIMA(2,2,1)']\n",
      "['ARIMA(0,2,2)']\n",
      "['ARIMA(0,1,0) with drift']\n",
      "['ARIMA(0,1,0) with drift']\n",
      "['ARIMA(0,1,0)']\n"
     ]
    }
   ],
   "source": [
    "for model in t.model.arima_models:\n",
    "    print(model['method'])"
   ]
  },
  {
   "cell_type": "markdown",
   "metadata": {},
   "source": [
    "## Forecasts"
   ]
  },
  {
   "cell_type": "code",
   "execution_count": 321,
   "metadata": {},
   "outputs": [],
   "source": [
    "# Note: horizon doesnt impact prediction, so can just do 60 minutes and take the first 1 or 5 samples"
   ]
  },
  {
   "cell_type": "code",
   "execution_count": 11,
   "metadata": {},
   "outputs": [],
   "source": [
    "horizon = 60\n",
    "arima = AutoArima(horizon, 120)\n",
    "tester = ModelTester(data, arima, horizon, 0.2)"
   ]
  },
  {
   "cell_type": "code",
   "execution_count": 32,
   "metadata": {},
   "outputs": [
    {
     "name": "stdout",
     "output_type": "stream",
     "text": [
      "Progress: [####################] 100.0%\n",
      "(68940, 60) (68940, 60)\n",
      "Iteration in: 0.921617 s\n",
      "estimated total time: 10736 days, 8:29:47.648916\n"
     ]
    }
   ],
   "source": [
    "speed_up_calc(tester, data, horizon, use_every=60)"
   ]
  },
  {
   "cell_type": "code",
   "execution_count": 69,
   "metadata": {},
   "outputs": [
    {
     "data": {
      "text/plain": [
       "array([[0]], dtype=int64)"
      ]
     },
     "execution_count": 69,
     "metadata": {},
     "output_type": "execute_result"
    }
   ],
   "source": [
    "# Remove all zero predictions\n",
    "np.argwhere(tester.predictions['window_1_0'].all() == 0)"
   ]
  },
  {
   "cell_type": "code",
   "execution_count": 96,
   "metadata": {},
   "outputs": [],
   "source": [
    "for key in tester.predictions.keys():\n",
    "    tester.predictions[key] = tester.predictions[key][np.where(tester.predictions[key].any(axis=1))[0]]"
   ]
  },
  {
   "cell_type": "code",
   "execution_count": 36,
   "metadata": {},
   "outputs": [],
   "source": [
    "import pickle\n",
    "\n",
    "pickle.dump(tester.predictions, open('results/arima_preds.pck', 'wb+'))"
   ]
  },
  {
   "cell_type": "markdown",
   "metadata": {},
   "source": [
    "## Temp"
   ]
  },
  {
   "cell_type": "code",
   "execution_count": 180,
   "metadata": {},
   "outputs": [
    {
     "data": {
      "text/plain": [
       "array([35.753, 35.679, 35.606, 35.532, 35.458])"
      ]
     },
     "execution_count": 180,
     "metadata": {},
     "output_type": "execute_result"
    }
   ],
   "source": [
    "data[key].values[[[0,1,2,3,4]]]"
   ]
  },
  {
   "cell_type": "code",
   "execution_count": 227,
   "metadata": {},
   "outputs": [],
   "source": [
    "use_every = 60\n",
    "key = 'window_1_0'\n",
    "split = int(0.20 * len(data) * 1)\n",
    "horizon = 1\n",
    "\n",
    "preds = tester.predictions[key][:, :horizon]\n",
    "train, test = data[key][:split], data[key][split:]\n",
    "\n",
    "indexer = np.arange(horizon)[None, :] + use_every * np.arange((len(test)) // (horizon + use_every))[:, None]\n",
    "test = test.values[indexer]\n",
    "\n",
    "indexer = np.arange(horizon)[None, :] + use_every * np.arange((len(train)) // (horizon + use_every))[:, None]\n",
    "train = train.values[indexer]\n",
    "\n",
    "preds, test = preds[:min(len(preds), len(test))], test[:min(len(preds), len(test))]"
   ]
  },
  {
   "cell_type": "code",
   "execution_count": 229,
   "metadata": {},
   "outputs": [
    {
     "data": {
      "text/plain": [
       "((1131, 1), (1131, 1), (282, 1))"
      ]
     },
     "execution_count": 229,
     "metadata": {},
     "output_type": "execute_result"
    }
   ],
   "source": [
    "preds.shape, test.shape, train.shape"
   ]
  },
  {
   "cell_type": "code",
   "execution_count": 230,
   "metadata": {},
   "outputs": [
    {
     "data": {
      "text/plain": [
       "<matplotlib.legend.Legend at 0x1a1aa1efc88>"
      ]
     },
     "execution_count": 230,
     "metadata": {},
     "output_type": "execute_result"
    },
    {
     "data": {
      "image/png": "[encoded data removed]",
      "text/plain": [
       "<matplotlib.figure.Figure at 0x1a1a949b3c8>"
      ]
     },
     "metadata": {},
     "output_type": "display_data"
    }
   ],
   "source": [
    "plt.plot(preds[:, :5].flatten())\n",
    "plt.plot(test[:, :5].flatten())\n",
    "plt.legend(['pred', 'test'])\n",
    "# plt.xlim([1000, 1200])"
   ]
  },
  {
   "cell_type": "code",
   "execution_count": 226,
   "metadata": {},
   "outputs": [
    {
     "data": {
      "text/plain": [
       "87.05376080814173"
      ]
     },
     "execution_count": 226,
     "metadata": {},
     "output_type": "execute_result"
    }
   ],
   "source": [
    "# RMSE\n",
    "(np.mean((preds - test)**2))**0.5"
   ]
  },
  {
   "cell_type": "code",
   "execution_count": 273,
   "metadata": {},
   "outputs": [],
   "source": [
    "def lower_horizon(trained_tester, new_tester, data, horizon, use_every=1):\n",
    "    split = int(0.20 * len(data) * 1)\n",
    "    new_tester.predictions = {}\n",
    "    \n",
    "    for key, col in trained_tester.predictions.items():\n",
    "        pred = col[:, :horizon]\n",
    "        train, test = data[key][:split], data[key][split:]\n",
    "\n",
    "        indexer = np.arange(horizon)[None, :] + use_every * np.arange((len(test)) // (horizon + use_every))[:, None]\n",
    "        test = test.values[indexer]\n",
    "\n",
    "        indexer = np.arange(horizon)[None, :] + use_every * np.arange((len(train)) // (horizon + use_every))[:, None]\n",
    "        train = train.values[indexer]\n",
    "\n",
    "        pred, test = pred[:min(len(pred), len(test))], test[:min(len(pred), len(test))]\n",
    "        new_tester.predictions[key] = pred\n",
    "\n",
    "        # Round to be a multiple of the horizon\n",
    "        test = test[:len(test) - len(test) % horizon]\n",
    "        pred, test = pred[:min(len(pred), len(test))], test[:min(len(pred), len(test))]\n",
    "\n",
    "        # Compute errors\n",
    "        print(train.shape, test.shape, pred.shape)\n",
    "        errors = {}\n",
    "        for err, value in calculate_all_errors(train, test.flatten(), pred, horizon, expand_actual=False).items():\n",
    "            errors[err] = [value]\n",
    "\n",
    "        t = pd.DataFrame.from_dict(errors)\n",
    "        t.set_index(keys=[[key]], inplace=True)\n",
    "        new_tester.errors = new_tester.errors.append(t)"
   ]
  },
  {
   "cell_type": "markdown",
   "metadata": {},
   "source": [
    "## 1 minute horizon"
   ]
  },
  {
   "cell_type": "code",
   "execution_count": 283,
   "metadata": {},
   "outputs": [],
   "source": [
    "horizon = 1\n",
    "\n",
    "from ModelTesters.ModelTester import ModelTester\n",
    "one_min_tester = ModelTester(data, arima, horizon, 0.2)"
   ]
  },
  {
   "cell_type": "code",
   "execution_count": 284,
   "metadata": {},
   "outputs": [
    {
     "name": "stdout",
     "output_type": "stream",
     "text": [
      "(282, 1) (1131, 1) (1131, 1)\n",
      "(1131,) (1131, 1)\n",
      "(282, 1) (1131, 1) (1131, 1)\n",
      "(1131,) (1131, 1)\n",
      "(282, 1) (1131, 1) (1131, 1)\n",
      "(1131,) (1131, 1)\n",
      "(282, 1) (1131, 1) (1131, 1)\n",
      "(1131,) (1131, 1)\n",
      "(282, 1) (1131, 1) (1131, 1)\n",
      "(1131,) (1131, 1)\n",
      "(282, 1) (1131, 1) (1131, 1)\n",
      "(1131,) (1131, 1)\n",
      "(282, 1) (1131, 1) (1131, 1)\n",
      "(1131,) (1131, 1)\n",
      "(282, 1) (1131, 1) (1131, 1)\n",
      "(1131,) (1131, 1)\n",
      "(282, 1) (1131, 1) (1131, 1)\n",
      "(1131,) (1131, 1)\n",
      "(282, 1) (1131, 1) (1131, 1)\n",
      "(1131,) (1131, 1)\n",
      "(282, 1) (1131, 1) (1131, 1)\n",
      "(1131,) (1131, 1)\n",
      "(282, 1) (1131, 1) (1131, 1)\n",
      "(1131,) (1131, 1)\n",
      "(282, 1) (1131, 1) (1131, 1)\n",
      "(1131,) (1131, 1)\n",
      "(282, 1) (1131, 1) (1131, 1)\n",
      "(1131,) (1131, 1)\n",
      "(282, 1) (1131, 1) (1131, 1)\n",
      "(1131,) (1131, 1)\n",
      "(282, 1) (1131, 1) (1131, 1)\n",
      "(1131,) (1131, 1)\n",
      "(282, 1) (1131, 1) (1131, 1)\n",
      "(1131,) (1131, 1)\n",
      "(282, 1) (1131, 1) (1131, 1)\n",
      "(1131,) (1131, 1)\n",
      "(282, 1) (1131, 1) (1131, 1)\n",
      "(1131,) (1131, 1)\n",
      "(282, 1) (1131, 1) (1131, 1)\n",
      "(1131,) (1131, 1)\n",
      "(282, 1) (1131, 1) (1131, 1)\n",
      "(1131,) (1131, 1)\n",
      "(282, 1) (1131, 1) (1131, 1)\n",
      "(1131,) (1131, 1)\n",
      "(282, 1) (1131, 1) (1131, 1)\n",
      "(1131,) (1131, 1)\n",
      "(282, 1) (1131, 1) (1131, 1)\n",
      "(1131,) (1131, 1)\n",
      "(282, 1) (1131, 1) (1131, 1)\n",
      "(1131,) (1131, 1)\n",
      "(282, 1) (1131, 1) (1131, 1)\n",
      "(1131,) (1131, 1)\n",
      "(282, 1) (1131, 1) (1131, 1)\n",
      "(1131,) (1131, 1)\n",
      "(282, 1) (1131, 1) (1131, 1)\n",
      "(1131,) (1131, 1)\n",
      "(282, 1) (1131, 1) (1131, 1)\n",
      "(1131,) (1131, 1)\n",
      "(282, 1) (1131, 1) (1131, 1)\n",
      "(1131,) (1131, 1)\n",
      "(282, 1) (1131, 1) (1131, 1)\n",
      "(1131,) (1131, 1)\n",
      "(282, 1) (1131, 1) (1131, 1)\n",
      "(1131,) (1131, 1)\n",
      "(282, 1) (1131, 1) (1131, 1)\n",
      "(1131,) (1131, 1)\n",
      "(282, 1) (1131, 1) (1131, 1)\n",
      "(1131,) (1131, 1)\n",
      "(282, 1) (1131, 1) (1131, 1)\n",
      "(1131,) (1131, 1)\n",
      "(282, 1) (1131, 1) (1131, 1)\n",
      "(1131,) (1131, 1)\n",
      "(282, 1) (1131, 1) (1131, 1)\n",
      "(1131,) (1131, 1)\n",
      "(282, 1) (1131, 1) (1131, 1)\n",
      "(1131,) (1131, 1)\n",
      "(282, 1) (1131, 1) (1131, 1)\n",
      "(1131,) (1131, 1)\n",
      "(282, 1) (1131, 1) (1131, 1)\n",
      "(1131,) (1131, 1)\n",
      "(282, 1) (1131, 1) (1131, 1)\n",
      "(1131,) (1131, 1)\n",
      "(282, 1) (1131, 1) (1131, 1)\n",
      "(1131,) (1131, 1)\n",
      "(282, 1) (1131, 1) (1131, 1)\n",
      "(1131,) (1131, 1)\n",
      "(282, 1) (1131, 1) (1131, 1)\n",
      "(1131,) (1131, 1)\n",
      "(282, 1) (1131, 1) (1131, 1)\n",
      "(1131,) (1131, 1)\n",
      "(282, 1) (1131, 1) (1131, 1)\n",
      "(1131,) (1131, 1)\n",
      "(282, 1) (1131, 1) (1131, 1)\n",
      "(1131,) (1131, 1)\n",
      "(282, 1) (1131, 1) (1131, 1)\n",
      "(1131,) (1131, 1)\n",
      "(282, 1) (1131, 1) (1131, 1)\n",
      "(1131,) (1131, 1)\n",
      "(282, 1) (1131, 1) (1131, 1)\n",
      "(1131,) (1131, 1)\n",
      "(282, 1) (1131, 1) (1131, 1)\n",
      "(1131,) (1131, 1)\n",
      "(282, 1) (1131, 1) (1131, 1)\n",
      "(1131,) (1131, 1)\n",
      "(282, 1) (1131, 1) (1131, 1)\n",
      "(1131,) (1131, 1)\n",
      "(282, 1) (1131, 1) (1131, 1)\n",
      "(1131,) (1131, 1)\n",
      "(282, 1) (1131, 1) (1131, 1)\n",
      "(1131,) (1131, 1)\n",
      "(282, 1) (1131, 1) (1131, 1)\n",
      "(1131,) (1131, 1)\n",
      "(282, 1) (1131, 1) (1131, 1)\n",
      "(1131,) (1131, 1)\n",
      "(282, 1) (1131, 1) (1131, 1)\n",
      "(1131,) (1131, 1)\n",
      "(282, 1) (1131, 1) (1131, 1)\n",
      "(1131,) (1131, 1)\n",
      "(282, 1) (1131, 1) (1131, 1)\n",
      "(1131,) (1131, 1)\n"
     ]
    }
   ],
   "source": [
    "lower_horizon(tester, one_min_tester, data, horizon, 60)"
   ]
  },
  {
   "cell_type": "code",
   "execution_count": 285,
   "metadata": {},
   "outputs": [
    {
     "data": {
      "text/html": [
       "<div>\n",
       "<style scoped>\n",
       "    .dataframe tbody tr th:only-of-type {\n",
       "        vertical-align: middle;\n",
       "    }\n",
       "\n",
       "    .dataframe tbody tr th {\n",
       "        vertical-align: top;\n",
       "    }\n",
       "\n",
       "    .dataframe thead th {\n",
       "        text-align: right;\n",
       "    }\n",
       "</style>\n",
       "<table border=\"1\" class=\"dataframe\">\n",
       "  <thead>\n",
       "    <tr style=\"text-align: right;\">\n",
       "      <th></th>\n",
       "      <th>MAE</th>\n",
       "      <th>RMSE</th>\n",
       "      <th>MAPE</th>\n",
       "      <th>sMAPE</th>\n",
       "      <th>MASE</th>\n",
       "      <th>MASE1</th>\n",
       "      <th>MEAN_ASE</th>\n",
       "    </tr>\n",
       "  </thead>\n",
       "  <tbody>\n",
       "    <tr>\n",
       "      <th>window_1_0</th>\n",
       "      <td>25.045907</td>\n",
       "      <td>87.053761</td>\n",
       "      <td>20.475501</td>\n",
       "      <td>9.892797</td>\n",
       "      <td>0.108425</td>\n",
       "      <td>-10.64724</td>\n",
       "      <td>0.082409</td>\n",
       "    </tr>\n",
       "    <tr>\n",
       "      <th>window_1_1</th>\n",
       "      <td>26.734307</td>\n",
       "      <td>109.189741</td>\n",
       "      <td>13.855417</td>\n",
       "      <td>7.805132</td>\n",
       "      <td>0.139777</td>\n",
       "      <td>2.78557</td>\n",
       "      <td>0.089319</td>\n",
       "    </tr>\n",
       "    <tr>\n",
       "      <th>window_1_2</th>\n",
       "      <td>37.463845</td>\n",
       "      <td>113.893880</td>\n",
       "      <td>24.799408</td>\n",
       "      <td>13.435911</td>\n",
       "      <td>0.119967</td>\n",
       "      <td>-2.89306</td>\n",
       "      <td>0.116291</td>\n",
       "    </tr>\n",
       "    <tr>\n",
       "      <th>window_1_3</th>\n",
       "      <td>43.086570</td>\n",
       "      <td>126.822227</td>\n",
       "      <td>16.685415</td>\n",
       "      <td>12.884629</td>\n",
       "      <td>0.111319</td>\n",
       "      <td>12.87052</td>\n",
       "      <td>0.108882</td>\n",
       "    </tr>\n",
       "    <tr>\n",
       "      <th>window_1_4</th>\n",
       "      <td>44.156384</td>\n",
       "      <td>118.823947</td>\n",
       "      <td>35.892003</td>\n",
       "      <td>15.788552</td>\n",
       "      <td>0.154798</td>\n",
       "      <td>-13.67964</td>\n",
       "      <td>0.156617</td>\n",
       "    </tr>\n",
       "  </tbody>\n",
       "</table>\n",
       "</div>"
      ],
      "text/plain": [
       "                  MAE        RMSE       MAPE      sMAPE      MASE     MASE1  \\\n",
       "window_1_0  25.045907   87.053761  20.475501   9.892797  0.108425 -10.64724   \n",
       "window_1_1  26.734307  109.189741  13.855417   7.805132  0.139777   2.78557   \n",
       "window_1_2  37.463845  113.893880  24.799408  13.435911  0.119967  -2.89306   \n",
       "window_1_3  43.086570  126.822227  16.685415  12.884629  0.111319  12.87052   \n",
       "window_1_4  44.156384  118.823947  35.892003  15.788552  0.154798 -13.67964   \n",
       "\n",
       "            MEAN_ASE  \n",
       "window_1_0  0.082409  \n",
       "window_1_1  0.089319  \n",
       "window_1_2  0.116291  \n",
       "window_1_3  0.108882  \n",
       "window_1_4  0.156617  "
      ]
     },
     "execution_count": 285,
     "metadata": {},
     "output_type": "execute_result"
    }
   ],
   "source": [
    "one_min_tester.errors.head()"
   ]
  },
  {
   "cell_type": "code",
   "execution_count": 312,
   "metadata": {
    "scrolled": false
   },
   "outputs": [
    {
     "data": {
      "text/plain": [
       "(-300, 500)"
      ]
     },
     "execution_count": 312,
     "metadata": {},
     "output_type": "execute_result"
    },
    {
     "data": {
      "image/png": "[encoded data removed]",
      "text/plain": [
       "<matplotlib.figure.Figure at 0x1a11fbba550>"
      ]
     },
     "metadata": {},
     "output_type": "display_data"
    }
   ],
   "source": [
    "one_min_tester.compare_hurst(hurst_estimates, err_to_use='RMSE')\n",
    "plt.title('RMSE vs H for ARIMA at 1 minute horizon')\n",
    "plt.ylim([-300, 500])"
   ]
  },
  {
   "cell_type": "markdown",
   "metadata": {},
   "source": [
    "## 5 minute horizon"
   ]
  },
  {
   "cell_type": "code",
   "execution_count": 287,
   "metadata": {},
   "outputs": [],
   "source": [
    "horizon = 5\n",
    "\n",
    "from ModelTesters.ModelTester import ModelTester\n",
    "five_min_tester = ModelTester(data, arima, horizon, 0.2)"
   ]
  },
  {
   "cell_type": "code",
   "execution_count": 288,
   "metadata": {},
   "outputs": [
    {
     "name": "stdout",
     "output_type": "stream",
     "text": [
      "(265, 5) (1060, 5) (1060, 5)\n",
      "(5300,) (1060, 5)\n",
      "(265, 5) (1060, 5) (1060, 5)\n",
      "(5300,) (1060, 5)\n",
      "(265, 5) (1060, 5) (1060, 5)\n",
      "(5300,) (1060, 5)\n",
      "(265, 5) (1060, 5) (1060, 5)\n",
      "(5300,) (1060, 5)\n",
      "(265, 5) (1060, 5) (1060, 5)\n",
      "(5300,) (1060, 5)\n",
      "(265, 5) (1060, 5) (1060, 5)\n",
      "(5300,) (1060, 5)\n",
      "(265, 5) (1060, 5) (1060, 5)\n",
      "(5300,) (1060, 5)\n",
      "(265, 5) (1060, 5) (1060, 5)\n",
      "(5300,) (1060, 5)\n",
      "(265, 5) (1060, 5) (1060, 5)\n",
      "(5300,) (1060, 5)\n",
      "(265, 5) (1060, 5) (1060, 5)\n",
      "(5300,) (1060, 5)\n",
      "(265, 5) (1060, 5) (1060, 5)\n",
      "(5300,) (1060, 5)\n",
      "(265, 5) (1060, 5) (1060, 5)\n",
      "(5300,) (1060, 5)\n",
      "(265, 5) (1060, 5) (1060, 5)\n",
      "(5300,) (1060, 5)\n",
      "(265, 5) (1060, 5) (1060, 5)\n",
      "(5300,) (1060, 5)\n",
      "(265, 5) (1060, 5) (1060, 5)\n",
      "(5300,) (1060, 5)\n",
      "(265, 5) (1060, 5) (1060, 5)\n",
      "(5300,) (1060, 5)\n",
      "(265, 5) (1060, 5) (1060, 5)\n",
      "(5300,) (1060, 5)\n",
      "(265, 5) (1060, 5) (1060, 5)\n",
      "(5300,) (1060, 5)\n",
      "(265, 5) (1060, 5) (1060, 5)\n",
      "(5300,) (1060, 5)\n",
      "(265, 5) (1060, 5) (1060, 5)\n",
      "(5300,) (1060, 5)\n",
      "(265, 5) (1060, 5) (1060, 5)\n",
      "(5300,) (1060, 5)\n",
      "(265, 5) (1060, 5) (1060, 5)\n",
      "(5300,) (1060, 5)\n",
      "(265, 5) (1060, 5) (1060, 5)\n",
      "(5300,) (1060, 5)\n",
      "(265, 5) (1060, 5) (1060, 5)\n",
      "(5300,) (1060, 5)\n",
      "(265, 5) (1060, 5) (1060, 5)\n",
      "(5300,) (1060, 5)\n",
      "(265, 5) (1060, 5) (1060, 5)\n",
      "(5300,) (1060, 5)\n",
      "(265, 5) (1060, 5) (1060, 5)\n",
      "(5300,) (1060, 5)\n",
      "(265, 5) (1060, 5) (1060, 5)\n",
      "(5300,) (1060, 5)\n",
      "(265, 5) (1060, 5) (1060, 5)\n",
      "(5300,) (1060, 5)\n",
      "(265, 5) (1060, 5) (1060, 5)\n",
      "(5300,) (1060, 5)\n",
      "(265, 5) (1060, 5) (1060, 5)\n",
      "(5300,) (1060, 5)\n",
      "(265, 5) (1060, 5) (1060, 5)\n",
      "(5300,) (1060, 5)\n",
      "(265, 5) (1060, 5) (1060, 5)\n",
      "(5300,) (1060, 5)\n",
      "(265, 5) (1060, 5) (1060, 5)\n",
      "(5300,) (1060, 5)\n",
      "(265, 5) (1060, 5) (1060, 5)\n",
      "(5300,) (1060, 5)\n",
      "(265, 5) (1060, 5) (1060, 5)\n",
      "(5300,) (1060, 5)\n",
      "(265, 5) (1060, 5) (1060, 5)\n",
      "(5300,) (1060, 5)\n",
      "(265, 5) (1060, 5) (1060, 5)\n",
      "(5300,) (1060, 5)\n",
      "(265, 5) (1060, 5) (1060, 5)\n",
      "(5300,) (1060, 5)\n",
      "(265, 5) (1060, 5) (1060, 5)\n",
      "(5300,) (1060, 5)\n",
      "(265, 5) (1060, 5) (1060, 5)\n",
      "(5300,) (1060, 5)\n",
      "(265, 5) (1060, 5) (1060, 5)\n",
      "(5300,) (1060, 5)\n",
      "(265, 5) (1060, 5) (1060, 5)\n",
      "(5300,) (1060, 5)\n",
      "(265, 5) (1060, 5) (1060, 5)\n",
      "(5300,) (1060, 5)\n",
      "(265, 5) (1060, 5) (1060, 5)\n",
      "(5300,) (1060, 5)\n",
      "(265, 5) (1060, 5) (1060, 5)\n",
      "(5300,) (1060, 5)\n",
      "(265, 5) (1060, 5) (1060, 5)\n",
      "(5300,) (1060, 5)\n",
      "(265, 5) (1060, 5) (1060, 5)\n",
      "(5300,) (1060, 5)\n",
      "(265, 5) (1060, 5) (1060, 5)\n",
      "(5300,) (1060, 5)\n",
      "(265, 5) (1060, 5) (1060, 5)\n",
      "(5300,) (1060, 5)\n",
      "(265, 5) (1060, 5) (1060, 5)\n",
      "(5300,) (1060, 5)\n",
      "(265, 5) (1060, 5) (1060, 5)\n",
      "(5300,) (1060, 5)\n",
      "(265, 5) (1060, 5) (1060, 5)\n",
      "(5300,) (1060, 5)\n",
      "(265, 5) (1060, 5) (1060, 5)\n",
      "(5300,) (1060, 5)\n",
      "(265, 5) (1060, 5) (1060, 5)\n",
      "(5300,) (1060, 5)\n",
      "(265, 5) (1060, 5) (1060, 5)\n",
      "(5300,) (1060, 5)\n",
      "(265, 5) (1060, 5) (1060, 5)\n",
      "(5300,) (1060, 5)\n",
      "(265, 5) (1060, 5) (1060, 5)\n",
      "(5300,) (1060, 5)\n",
      "(265, 5) (1060, 5) (1060, 5)\n",
      "(5300,) (1060, 5)\n",
      "(265, 5) (1060, 5) (1060, 5)\n",
      "(5300,) (1060, 5)\n"
     ]
    }
   ],
   "source": [
    "lower_horizon(tester, five_min_tester, data, horizon=5, use_every=60)"
   ]
  },
  {
   "cell_type": "code",
   "execution_count": 289,
   "metadata": {},
   "outputs": [
    {
     "data": {
      "text/html": [
       "<div>\n",
       "<style scoped>\n",
       "    .dataframe tbody tr th:only-of-type {\n",
       "        vertical-align: middle;\n",
       "    }\n",
       "\n",
       "    .dataframe tbody tr th {\n",
       "        vertical-align: top;\n",
       "    }\n",
       "\n",
       "    .dataframe thead th {\n",
       "        text-align: right;\n",
       "    }\n",
       "</style>\n",
       "<table border=\"1\" class=\"dataframe\">\n",
       "  <thead>\n",
       "    <tr style=\"text-align: right;\">\n",
       "      <th></th>\n",
       "      <th>MAE</th>\n",
       "      <th>RMSE</th>\n",
       "      <th>MAPE</th>\n",
       "      <th>sMAPE</th>\n",
       "      <th>MASE</th>\n",
       "      <th>MASE1</th>\n",
       "      <th>MEAN_ASE</th>\n",
       "    </tr>\n",
       "  </thead>\n",
       "  <tbody>\n",
       "    <tr>\n",
       "      <th>window_1_0</th>\n",
       "      <td>50.232523</td>\n",
       "      <td>162.423256</td>\n",
       "      <td>43.667907</td>\n",
       "      <td>16.317440</td>\n",
       "      <td>0.229189</td>\n",
       "      <td>5.18895</td>\n",
       "      <td>0.163215</td>\n",
       "    </tr>\n",
       "    <tr>\n",
       "      <th>window_1_1</th>\n",
       "      <td>56.951788</td>\n",
       "      <td>221.774024</td>\n",
       "      <td>25.222718</td>\n",
       "      <td>14.099685</td>\n",
       "      <td>0.296372</td>\n",
       "      <td>5.40112</td>\n",
       "      <td>0.188905</td>\n",
       "    </tr>\n",
       "    <tr>\n",
       "      <th>window_1_2</th>\n",
       "      <td>78.533401</td>\n",
       "      <td>223.797482</td>\n",
       "      <td>514.367312</td>\n",
       "      <td>23.593816</td>\n",
       "      <td>0.257212</td>\n",
       "      <td>5.04482</td>\n",
       "      <td>0.247513</td>\n",
       "    </tr>\n",
       "    <tr>\n",
       "      <th>window_1_3</th>\n",
       "      <td>87.249273</td>\n",
       "      <td>229.302630</td>\n",
       "      <td>60.680844</td>\n",
       "      <td>23.781893</td>\n",
       "      <td>0.224237</td>\n",
       "      <td>-11.24272</td>\n",
       "      <td>0.225422</td>\n",
       "    </tr>\n",
       "    <tr>\n",
       "      <th>window_1_4</th>\n",
       "      <td>97.780101</td>\n",
       "      <td>244.037454</td>\n",
       "      <td>120.552581</td>\n",
       "      <td>28.067438</td>\n",
       "      <td>0.326089</td>\n",
       "      <td>-17.49322</td>\n",
       "      <td>0.340960</td>\n",
       "    </tr>\n",
       "  </tbody>\n",
       "</table>\n",
       "</div>"
      ],
      "text/plain": [
       "                  MAE        RMSE        MAPE      sMAPE      MASE     MASE1  \\\n",
       "window_1_0  50.232523  162.423256   43.667907  16.317440  0.229189   5.18895   \n",
       "window_1_1  56.951788  221.774024   25.222718  14.099685  0.296372   5.40112   \n",
       "window_1_2  78.533401  223.797482  514.367312  23.593816  0.257212   5.04482   \n",
       "window_1_3  87.249273  229.302630   60.680844  23.781893  0.224237 -11.24272   \n",
       "window_1_4  97.780101  244.037454  120.552581  28.067438  0.326089 -17.49322   \n",
       "\n",
       "            MEAN_ASE  \n",
       "window_1_0  0.163215  \n",
       "window_1_1  0.188905  \n",
       "window_1_2  0.247513  \n",
       "window_1_3  0.225422  \n",
       "window_1_4  0.340960  "
      ]
     },
     "execution_count": 289,
     "metadata": {},
     "output_type": "execute_result"
    }
   ],
   "source": [
    "five_min_tester.errors.head()"
   ]
  },
  {
   "cell_type": "code",
   "execution_count": 314,
   "metadata": {
    "scrolled": false
   },
   "outputs": [
    {
     "data": {
      "text/plain": [
       "(-400, 800)"
      ]
     },
     "execution_count": 314,
     "metadata": {},
     "output_type": "execute_result"
    },
    {
     "data": {
      "image/png": "[encoded data removed]",
      "text/plain": [
       "<matplotlib.figure.Figure at 0x1a11fcbb828>"
      ]
     },
     "metadata": {},
     "output_type": "display_data"
    }
   ],
   "source": [
    "five_min_tester.compare_hurst(hurst_estimates, err_to_use='RMSE')\n",
    "plt.title('RMSE vs H for ARIMA at 5 minute horizon')\n",
    "plt.ylim([-400, 800])"
   ]
  },
  {
   "cell_type": "markdown",
   "metadata": {},
   "source": [
    "## 60 minute horizon"
   ]
  },
  {
   "cell_type": "code",
   "execution_count": 291,
   "metadata": {},
   "outputs": [],
   "source": [
    "horizon = 60\n",
    "\n",
    "from ModelTesters.ModelTester import ModelTester\n",
    "sixty_min_tester = ModelTester(data, arima, horizon, 0.2)"
   ]
  },
  {
   "cell_type": "code",
   "execution_count": 292,
   "metadata": {},
   "outputs": [
    {
     "name": "stdout",
     "output_type": "stream",
     "text": [
      "(143, 60) (540, 60) (540, 60)\n",
      "(32400,) (540, 60)\n",
      "(143, 60) (540, 60) (540, 60)\n",
      "(32400,) (540, 60)\n",
      "(143, 60) (540, 60) (540, 60)\n",
      "(32400,) (540, 60)\n",
      "(143, 60) (540, 60) (540, 60)\n",
      "(32400,) (540, 60)\n",
      "(143, 60) (540, 60) (540, 60)\n",
      "(32400,) (540, 60)\n",
      "(143, 60) (540, 60) (540, 60)\n",
      "(32400,) (540, 60)\n",
      "(143, 60) (540, 60) (540, 60)\n",
      "(32400,) (540, 60)\n",
      "(143, 60) (540, 60) (540, 60)\n",
      "(32400,) (540, 60)\n",
      "(143, 60) (540, 60) (540, 60)\n",
      "(32400,) (540, 60)\n",
      "(143, 60) (540, 60) (540, 60)\n",
      "(32400,) (540, 60)\n",
      "(143, 60) (540, 60) (540, 60)\n",
      "(32400,) (540, 60)\n",
      "(143, 60) (540, 60) (540, 60)\n",
      "(32400,) (540, 60)\n",
      "(143, 60) (540, 60) (540, 60)\n",
      "(32400,) (540, 60)\n",
      "(143, 60) (540, 60) (540, 60)\n",
      "(32400,) (540, 60)\n",
      "(143, 60) (540, 60) (540, 60)\n",
      "(32400,) (540, 60)\n",
      "(143, 60) (540, 60) (540, 60)\n",
      "(32400,) (540, 60)\n",
      "(143, 60) (540, 60) (540, 60)\n",
      "(32400,) (540, 60)\n",
      "(143, 60) (540, 60) (540, 60)\n",
      "(32400,) (540, 60)\n",
      "(143, 60) (540, 60) (540, 60)\n",
      "(32400,) (540, 60)\n",
      "(143, 60) (540, 60) (540, 60)\n",
      "(32400,) (540, 60)\n",
      "(143, 60) (540, 60) (540, 60)\n",
      "(32400,) (540, 60)\n",
      "(143, 60) (540, 60) (540, 60)\n",
      "(32400,) (540, 60)\n",
      "(143, 60) (540, 60) (540, 60)\n",
      "(32400,) (540, 60)\n",
      "(143, 60) (540, 60) (540, 60)\n",
      "(32400,) (540, 60)\n",
      "(143, 60) (540, 60) (540, 60)\n",
      "(32400,) (540, 60)\n",
      "(143, 60) (540, 60) (540, 60)\n",
      "(32400,) (540, 60)\n",
      "(143, 60) (540, 60) (540, 60)\n",
      "(32400,) (540, 60)\n",
      "(143, 60) (540, 60) (540, 60)\n",
      "(32400,) (540, 60)\n",
      "(143, 60) (540, 60) (540, 60)\n",
      "(32400,) (540, 60)\n",
      "(143, 60) (540, 60) (540, 60)\n",
      "(32400,) (540, 60)\n",
      "(143, 60) (540, 60) (540, 60)\n",
      "(32400,) (540, 60)\n",
      "(143, 60) (540, 60) (540, 60)\n",
      "(32400,) (540, 60)\n",
      "(143, 60) (540, 60) (540, 60)\n",
      "(32400,) (540, 60)\n",
      "(143, 60) (540, 60) (540, 60)\n",
      "(32400,) (540, 60)\n",
      "(143, 60) (540, 60) (540, 60)\n",
      "(32400,) (540, 60)\n",
      "(143, 60) (540, 60) (540, 60)\n",
      "(32400,) (540, 60)\n",
      "(143, 60) (540, 60) (540, 60)\n",
      "(32400,) (540, 60)\n",
      "(143, 60) (540, 60) (540, 60)\n",
      "(32400,) (540, 60)\n",
      "(143, 60) (540, 60) (540, 60)\n",
      "(32400,) (540, 60)\n",
      "(143, 60) (540, 60) (540, 60)\n",
      "(32400,) (540, 60)\n",
      "(143, 60) (540, 60) (540, 60)\n",
      "(32400,) (540, 60)\n",
      "(143, 60) (540, 60) (540, 60)\n",
      "(32400,) (540, 60)\n",
      "(143, 60) (540, 60) (540, 60)\n",
      "(32400,) (540, 60)\n",
      "(143, 60) (540, 60) (540, 60)\n",
      "(32400,) (540, 60)\n",
      "(143, 60) (540, 60) (540, 60)\n",
      "(32400,) (540, 60)\n",
      "(143, 60) (540, 60) (540, 60)\n",
      "(32400,) (540, 60)\n",
      "(143, 60) (540, 60) (540, 60)\n",
      "(32400,) (540, 60)\n",
      "(143, 60) (540, 60) (540, 60)\n",
      "(32400,) (540, 60)\n",
      "(143, 60) (540, 60) (540, 60)\n",
      "(32400,) (540, 60)\n",
      "(143, 60) (540, 60) (540, 60)\n",
      "(32400,) (540, 60)\n",
      "(143, 60) (540, 60) (540, 60)\n",
      "(32400,) (540, 60)\n",
      "(143, 60) (540, 60) (540, 60)\n",
      "(32400,) (540, 60)\n",
      "(143, 60) (540, 60) (540, 60)\n",
      "(32400,) (540, 60)\n",
      "(143, 60) (540, 60) (540, 60)\n",
      "(32400,) (540, 60)\n",
      "(143, 60) (540, 60) (540, 60)\n",
      "(32400,) (540, 60)\n",
      "(143, 60) (540, 60) (540, 60)\n",
      "(32400,) (540, 60)\n",
      "(143, 60) (540, 60) (540, 60)\n",
      "(32400,) (540, 60)\n",
      "(143, 60) (540, 60) (540, 60)\n",
      "(32400,) (540, 60)\n",
      "(143, 60) (540, 60) (540, 60)\n",
      "(32400,) (540, 60)\n",
      "(143, 60) (540, 60) (540, 60)\n",
      "(32400,) (540, 60)\n"
     ]
    }
   ],
   "source": [
    "lower_horizon(tester, sixty_min_tester, data, horizon=60, use_every=60)"
   ]
  },
  {
   "cell_type": "code",
   "execution_count": 293,
   "metadata": {},
   "outputs": [
    {
     "data": {
      "text/html": [
       "<div>\n",
       "<style scoped>\n",
       "    .dataframe tbody tr th:only-of-type {\n",
       "        vertical-align: middle;\n",
       "    }\n",
       "\n",
       "    .dataframe tbody tr th {\n",
       "        vertical-align: top;\n",
       "    }\n",
       "\n",
       "    .dataframe thead th {\n",
       "        text-align: right;\n",
       "    }\n",
       "</style>\n",
       "<table border=\"1\" class=\"dataframe\">\n",
       "  <thead>\n",
       "    <tr style=\"text-align: right;\">\n",
       "      <th></th>\n",
       "      <th>MAE</th>\n",
       "      <th>RMSE</th>\n",
       "      <th>MAPE</th>\n",
       "      <th>sMAPE</th>\n",
       "      <th>MASE</th>\n",
       "      <th>MASE1</th>\n",
       "      <th>MEAN_ASE</th>\n",
       "    </tr>\n",
       "  </thead>\n",
       "  <tbody>\n",
       "    <tr>\n",
       "      <th>window_1_0</th>\n",
       "      <td>129.918294</td>\n",
       "      <td>304.513831</td>\n",
       "      <td>188.296673</td>\n",
       "      <td>41.102029</td>\n",
       "      <td>0.746181</td>\n",
       "      <td>100.97536</td>\n",
       "      <td>0.421587</td>\n",
       "    </tr>\n",
       "    <tr>\n",
       "      <th>window_1_1</th>\n",
       "      <td>176.537725</td>\n",
       "      <td>1262.907083</td>\n",
       "      <td>126.179493</td>\n",
       "      <td>35.644177</td>\n",
       "      <td>0.942981</td>\n",
       "      <td>245.89573</td>\n",
       "      <td>0.597941</td>\n",
       "    </tr>\n",
       "    <tr>\n",
       "      <th>window_1_2</th>\n",
       "      <td>170.738543</td>\n",
       "      <td>356.082176</td>\n",
       "      <td>220.592354</td>\n",
       "      <td>48.995822</td>\n",
       "      <td>0.567437</td>\n",
       "      <td>-23.63032</td>\n",
       "      <td>0.555847</td>\n",
       "    </tr>\n",
       "    <tr>\n",
       "      <th>window_1_3</th>\n",
       "      <td>220.868597</td>\n",
       "      <td>448.570096</td>\n",
       "      <td>156.900789</td>\n",
       "      <td>50.146145</td>\n",
       "      <td>0.561815</td>\n",
       "      <td>-15.09645</td>\n",
       "      <td>0.559801</td>\n",
       "    </tr>\n",
       "    <tr>\n",
       "      <th>window_1_4</th>\n",
       "      <td>243.485227</td>\n",
       "      <td>478.197414</td>\n",
       "      <td>333.422804</td>\n",
       "      <td>64.285452</td>\n",
       "      <td>0.799616</td>\n",
       "      <td>-21.81565</td>\n",
       "      <td>0.835493</td>\n",
       "    </tr>\n",
       "  </tbody>\n",
       "</table>\n",
       "</div>"
      ],
      "text/plain": [
       "                   MAE         RMSE        MAPE      sMAPE      MASE  \\\n",
       "window_1_0  129.918294   304.513831  188.296673  41.102029  0.746181   \n",
       "window_1_1  176.537725  1262.907083  126.179493  35.644177  0.942981   \n",
       "window_1_2  170.738543   356.082176  220.592354  48.995822  0.567437   \n",
       "window_1_3  220.868597   448.570096  156.900789  50.146145  0.561815   \n",
       "window_1_4  243.485227   478.197414  333.422804  64.285452  0.799616   \n",
       "\n",
       "                MASE1  MEAN_ASE  \n",
       "window_1_0  100.97536  0.421587  \n",
       "window_1_1  245.89573  0.597941  \n",
       "window_1_2  -23.63032  0.555847  \n",
       "window_1_3  -15.09645  0.559801  \n",
       "window_1_4  -21.81565  0.835493  "
      ]
     },
     "execution_count": 293,
     "metadata": {},
     "output_type": "execute_result"
    }
   ],
   "source": [
    "sixty_min_tester.errors.head()"
   ]
  },
  {
   "cell_type": "code",
   "execution_count": 316,
   "metadata": {},
   "outputs": [
    {
     "data": {
      "text/plain": [
       "(-800, 2000)"
      ]
     },
     "execution_count": 316,
     "metadata": {},
     "output_type": "execute_result"
    },
    {
     "data": {
      "image/png": "[encoded data removed]",
      "text/plain": [
       "<matplotlib.figure.Figure at 0x1a11fda8e48>"
      ]
     },
     "metadata": {},
     "output_type": "display_data"
    }
   ],
   "source": [
    "sixty_min_tester.compare_hurst(hurst_estimates, err_to_use='RMSE')\n",
    "plt.title('RMSE vs H for ARIMA at 60 minute horizon')\n",
    "plt.ylim([-800, 2000])"
   ]
  },
  {
   "cell_type": "code",
   "execution_count": null,
   "metadata": {},
   "outputs": [],
   "source": [
    "--------------------------------------------------------------------------------------------------------------------------\n",
    "\n",
    "--------------------------------------------------------------------------------------------------------------------------"
   ]
  },
  {
   "cell_type": "code",
   "execution_count": null,
   "metadata": {},
   "outputs": [],
   "source": []
  },
  {
   "cell_type": "code",
   "execution_count": 95,
   "metadata": {},
   "outputs": [
    {
     "data": {
      "text/plain": [
       "[<matplotlib.lines.Line2D at 0x1b7b185d048>]"
      ]
     },
     "execution_count": 95,
     "metadata": {},
     "output_type": "execute_result"
    }
   ],
   "source": [
    "plt.plot(np.arange(120, 600), one_min_tester.predictions['window_1_1'])\n",
    "plt.plot(data['window_1_1'][:500])"
   ]
  },
  {
   "cell_type": "code",
   "execution_count": 99,
   "metadata": {},
   "outputs": [
    {
     "data": {
      "text/plain": [
       "((60,), (2,), (60,))"
      ]
     },
     "execution_count": 99,
     "metadata": {},
     "output_type": "execute_result"
    }
   ],
   "source": [
    "hurst_estimates['avg'].shape, one_min_tester.errors['MASE'].shape, hurst_estimates['std'].shape"
   ]
  },
  {
   "cell_type": "code",
   "execution_count": 102,
   "metadata": {},
   "outputs": [
    {
     "data": {
      "text/html": [
       "<div>\n",
       "<style scoped>\n",
       "    .dataframe tbody tr th:only-of-type {\n",
       "        vertical-align: middle;\n",
       "    }\n",
       "\n",
       "    .dataframe tbody tr th {\n",
       "        vertical-align: top;\n",
       "    }\n",
       "\n",
       "    .dataframe thead th {\n",
       "        text-align: right;\n",
       "    }\n",
       "</style>\n",
       "<table border=\"1\" class=\"dataframe\">\n",
       "  <thead>\n",
       "    <tr style=\"text-align: right;\">\n",
       "      <th></th>\n",
       "      <th>Agr Var.</th>\n",
       "      <th>Higuchi</th>\n",
       "      <th>Abs val.</th>\n",
       "      <th>avg</th>\n",
       "      <th>std</th>\n",
       "    </tr>\n",
       "    <tr>\n",
       "      <th>Unnamed: 0</th>\n",
       "      <th></th>\n",
       "      <th></th>\n",
       "      <th></th>\n",
       "      <th></th>\n",
       "      <th></th>\n",
       "    </tr>\n",
       "  </thead>\n",
       "  <tbody>\n",
       "    <tr>\n",
       "      <th>window_1_0</th>\n",
       "      <td>0.899837</td>\n",
       "      <td>0.897147</td>\n",
       "      <td>0.899166</td>\n",
       "      <td>0.898717</td>\n",
       "      <td>0.001143</td>\n",
       "    </tr>\n",
       "    <tr>\n",
       "      <th>window_1_1</th>\n",
       "      <td>0.857475</td>\n",
       "      <td>0.878807</td>\n",
       "      <td>0.870051</td>\n",
       "      <td>0.868778</td>\n",
       "      <td>0.008755</td>\n",
       "    </tr>\n",
       "    <tr>\n",
       "      <th>window_1_2</th>\n",
       "      <td>0.846924</td>\n",
       "      <td>0.866159</td>\n",
       "      <td>0.860166</td>\n",
       "      <td>0.857749</td>\n",
       "      <td>0.008036</td>\n",
       "    </tr>\n",
       "    <tr>\n",
       "      <th>window_1_3</th>\n",
       "      <td>0.875449</td>\n",
       "      <td>0.879919</td>\n",
       "      <td>0.881300</td>\n",
       "      <td>0.878890</td>\n",
       "      <td>0.002497</td>\n",
       "    </tr>\n",
       "    <tr>\n",
       "      <th>window_1_4</th>\n",
       "      <td>0.823455</td>\n",
       "      <td>0.839136</td>\n",
       "      <td>0.843857</td>\n",
       "      <td>0.835483</td>\n",
       "      <td>0.008721</td>\n",
       "    </tr>\n",
       "  </tbody>\n",
       "</table>\n",
       "</div>"
      ],
      "text/plain": [
       "            Agr Var.   Higuchi  Abs val.       avg       std\n",
       "Unnamed: 0                                                  \n",
       "window_1_0  0.899837  0.897147  0.899166  0.898717  0.001143\n",
       "window_1_1  0.857475  0.878807  0.870051  0.868778  0.008755\n",
       "window_1_2  0.846924  0.866159  0.860166  0.857749  0.008036\n",
       "window_1_3  0.875449  0.879919  0.881300  0.878890  0.002497\n",
       "window_1_4  0.823455  0.839136  0.843857  0.835483  0.008721"
      ]
     },
     "execution_count": 102,
     "metadata": {},
     "output_type": "execute_result"
    }
   ],
   "source": [
    "hurst_estimates.head()"
   ]
  },
  {
   "cell_type": "code",
   "execution_count": null,
   "metadata": {},
   "outputs": [],
   "source": []
  },
  {
   "cell_type": "code",
   "execution_count": null,
   "metadata": {},
   "outputs": [],
   "source": []
  },
  {
   "cell_type": "code",
   "execution_count": 318,
   "metadata": {},
   "outputs": [
    {
     "data": {
      "text/html": [
       "<div>\n",
       "<style scoped>\n",
       "    .dataframe tbody tr th:only-of-type {\n",
       "        vertical-align: middle;\n",
       "    }\n",
       "\n",
       "    .dataframe tbody tr th {\n",
       "        vertical-align: top;\n",
       "    }\n",
       "\n",
       "    .dataframe thead th {\n",
       "        text-align: right;\n",
       "    }\n",
       "</style>\n",
       "<table border=\"1\" class=\"dataframe\">\n",
       "  <thead>\n",
       "    <tr style=\"text-align: right;\">\n",
       "      <th></th>\n",
       "      <th>MAE</th>\n",
       "      <th>RMSE</th>\n",
       "      <th>MAPE</th>\n",
       "      <th>sMAPE</th>\n",
       "      <th>MASE</th>\n",
       "      <th>MASE1</th>\n",
       "      <th>MEAN_ASE</th>\n",
       "    </tr>\n",
       "  </thead>\n",
       "  <tbody>\n",
       "    <tr>\n",
       "      <th>window_1_0</th>\n",
       "      <td>50.232523</td>\n",
       "      <td>162.423256</td>\n",
       "      <td>43.667907</td>\n",
       "      <td>16.317440</td>\n",
       "      <td>0.229189</td>\n",
       "      <td>5.18895</td>\n",
       "      <td>0.163215</td>\n",
       "    </tr>\n",
       "    <tr>\n",
       "      <th>window_1_1</th>\n",
       "      <td>56.951788</td>\n",
       "      <td>221.774024</td>\n",
       "      <td>25.222718</td>\n",
       "      <td>14.099685</td>\n",
       "      <td>0.296372</td>\n",
       "      <td>5.40112</td>\n",
       "      <td>0.188905</td>\n",
       "    </tr>\n",
       "    <tr>\n",
       "      <th>window_1_2</th>\n",
       "      <td>78.533401</td>\n",
       "      <td>223.797482</td>\n",
       "      <td>514.367312</td>\n",
       "      <td>23.593816</td>\n",
       "      <td>0.257212</td>\n",
       "      <td>5.04482</td>\n",
       "      <td>0.247513</td>\n",
       "    </tr>\n",
       "    <tr>\n",
       "      <th>window_1_3</th>\n",
       "      <td>87.249273</td>\n",
       "      <td>229.302630</td>\n",
       "      <td>60.680844</td>\n",
       "      <td>23.781893</td>\n",
       "      <td>0.224237</td>\n",
       "      <td>-11.24272</td>\n",
       "      <td>0.225422</td>\n",
       "    </tr>\n",
       "    <tr>\n",
       "      <th>window_1_4</th>\n",
       "      <td>97.780101</td>\n",
       "      <td>244.037454</td>\n",
       "      <td>120.552581</td>\n",
       "      <td>28.067438</td>\n",
       "      <td>0.326089</td>\n",
       "      <td>-17.49322</td>\n",
       "      <td>0.340960</td>\n",
       "    </tr>\n",
       "  </tbody>\n",
       "</table>\n",
       "</div>"
      ],
      "text/plain": [
       "                  MAE        RMSE        MAPE      sMAPE      MASE     MASE1  \\\n",
       "window_1_0  50.232523  162.423256   43.667907  16.317440  0.229189   5.18895   \n",
       "window_1_1  56.951788  221.774024   25.222718  14.099685  0.296372   5.40112   \n",
       "window_1_2  78.533401  223.797482  514.367312  23.593816  0.257212   5.04482   \n",
       "window_1_3  87.249273  229.302630   60.680844  23.781893  0.224237 -11.24272   \n",
       "window_1_4  97.780101  244.037454  120.552581  28.067438  0.326089 -17.49322   \n",
       "\n",
       "            MEAN_ASE  \n",
       "window_1_0  0.163215  \n",
       "window_1_1  0.188905  \n",
       "window_1_2  0.247513  \n",
       "window_1_3  0.225422  \n",
       "window_1_4  0.340960  "
      ]
     },
     "execution_count": 318,
     "metadata": {},
     "output_type": "execute_result"
    }
   ],
   "source": [
    "five_min_tester.errors.head()"
   ]
  },
  {
   "cell_type": "code",
   "execution_count": 317,
   "metadata": {},
   "outputs": [
    {
     "name": "stdout",
     "output_type": "stream",
     "text": [
      "(5305,)\n"
     ]
    },
    {
     "ename": "ValueError",
     "evalue": "x and y must have same first dimension, but have shapes (1061,) and (5305,)",
     "output_type": "error",
     "traceback": [
      "\u001b[1;31m---------------------------------------------------------------------------\u001b[0m",
      "\u001b[1;31mValueError\u001b[0m                                Traceback (most recent call last)",
      "\u001b[1;32m<ipython-input-317-98e8af5e98fb>\u001b[0m in \u001b[0;36m<module>\u001b[1;34m()\u001b[0m\n\u001b[1;32m----> 1\u001b[1;33m \u001b[0mfive_min_tester\u001b[0m\u001b[1;33m.\u001b[0m\u001b[0mvisualise_result\u001b[0m\u001b[1;33m(\u001b[0m\u001b[1;33m[\u001b[0m\u001b[1;36m0\u001b[0m\u001b[1;33m,\u001b[0m \u001b[1;36m1\u001b[0m\u001b[1;33m]\u001b[0m\u001b[1;33m)\u001b[0m\u001b[1;33m\u001b[0m\u001b[0m\n\u001b[0m",
      "\u001b[1;32m~\\Documents\\University\\Yr 4, Sem 2\\ENGG4802\\code\\ModelTesters\\ModelTester.py\u001b[0m in \u001b[0;36mvisualise_result\u001b[1;34m(self, index, figsize)\u001b[0m\n\u001b[0;32m    120\u001b[0m             \u001b[0mprint\u001b[0m\u001b[1;33m(\u001b[0m\u001b[0mpred\u001b[0m\u001b[1;33m.\u001b[0m\u001b[0mshape\u001b[0m\u001b[1;33m)\u001b[0m\u001b[1;33m\u001b[0m\u001b[0m\n\u001b[0;32m    121\u001b[0m \u001b[1;33m\u001b[0m\u001b[0m\n\u001b[1;32m--> 122\u001b[1;33m             \u001b[0maxes\u001b[0m\u001b[1;33m[\u001b[0m\u001b[0mindexes\u001b[0m\u001b[1;33m.\u001b[0m\u001b[0mindex\u001b[0m\u001b[1;33m(\u001b[0m\u001b[0mindex\u001b[0m\u001b[1;33m)\u001b[0m\u001b[1;33m]\u001b[0m\u001b[1;33m.\u001b[0m\u001b[0mplot\u001b[0m\u001b[1;33m(\u001b[0m\u001b[0mx\u001b[0m\u001b[1;33m,\u001b[0m \u001b[0mtest\u001b[0m\u001b[1;33m,\u001b[0m \u001b[0mcolor\u001b[0m\u001b[1;33m=\u001b[0m\u001b[1;34m'blue'\u001b[0m\u001b[1;33m,\u001b[0m \u001b[0mlabel\u001b[0m\u001b[1;33m=\u001b[0m\u001b[1;34m'actual'\u001b[0m\u001b[1;33m)\u001b[0m\u001b[1;33m\u001b[0m\u001b[0m\n\u001b[0m\u001b[0;32m    123\u001b[0m             \u001b[0maxes\u001b[0m\u001b[1;33m[\u001b[0m\u001b[0mindexes\u001b[0m\u001b[1;33m.\u001b[0m\u001b[0mindex\u001b[0m\u001b[1;33m(\u001b[0m\u001b[0mindex\u001b[0m\u001b[1;33m)\u001b[0m\u001b[1;33m]\u001b[0m\u001b[1;33m.\u001b[0m\u001b[0mplot\u001b[0m\u001b[1;33m(\u001b[0m\u001b[0mx\u001b[0m\u001b[1;33m,\u001b[0m \u001b[0mpred\u001b[0m\u001b[1;33m,\u001b[0m \u001b[0mcolor\u001b[0m\u001b[1;33m=\u001b[0m\u001b[1;34m'orange'\u001b[0m\u001b[1;33m,\u001b[0m \u001b[0mlabel\u001b[0m\u001b[1;33m=\u001b[0m\u001b[1;34m'pred'\u001b[0m\u001b[1;33m)\u001b[0m\u001b[1;33m\u001b[0m\u001b[0m\n\u001b[0;32m    124\u001b[0m \u001b[1;33m\u001b[0m\u001b[0m\n",
      "\u001b[1;32mc:\\program files\\python36\\lib\\site-packages\\matplotlib\\__init__.py\u001b[0m in \u001b[0;36minner\u001b[1;34m(ax, *args, **kwargs)\u001b[0m\n\u001b[0;32m   1715\u001b[0m                     warnings.warn(msg % (label_namer, func.__name__),\n\u001b[0;32m   1716\u001b[0m                                   RuntimeWarning, stacklevel=2)\n\u001b[1;32m-> 1717\u001b[1;33m             \u001b[1;32mreturn\u001b[0m \u001b[0mfunc\u001b[0m\u001b[1;33m(\u001b[0m\u001b[0max\u001b[0m\u001b[1;33m,\u001b[0m \u001b[1;33m*\u001b[0m\u001b[0margs\u001b[0m\u001b[1;33m,\u001b[0m \u001b[1;33m**\u001b[0m\u001b[0mkwargs\u001b[0m\u001b[1;33m)\u001b[0m\u001b[1;33m\u001b[0m\u001b[0m\n\u001b[0m\u001b[0;32m   1718\u001b[0m         \u001b[0mpre_doc\u001b[0m \u001b[1;33m=\u001b[0m \u001b[0minner\u001b[0m\u001b[1;33m.\u001b[0m\u001b[0m__doc__\u001b[0m\u001b[1;33m\u001b[0m\u001b[0m\n\u001b[0;32m   1719\u001b[0m         \u001b[1;32mif\u001b[0m \u001b[0mpre_doc\u001b[0m \u001b[1;32mis\u001b[0m \u001b[1;32mNone\u001b[0m\u001b[1;33m:\u001b[0m\u001b[1;33m\u001b[0m\u001b[0m\n",
      "\u001b[1;32mc:\\program files\\python36\\lib\\site-packages\\matplotlib\\axes\\_axes.py\u001b[0m in \u001b[0;36mplot\u001b[1;34m(self, *args, **kwargs)\u001b[0m\n\u001b[0;32m   1370\u001b[0m         \u001b[0mkwargs\u001b[0m \u001b[1;33m=\u001b[0m \u001b[0mcbook\u001b[0m\u001b[1;33m.\u001b[0m\u001b[0mnormalize_kwargs\u001b[0m\u001b[1;33m(\u001b[0m\u001b[0mkwargs\u001b[0m\u001b[1;33m,\u001b[0m \u001b[0m_alias_map\u001b[0m\u001b[1;33m)\u001b[0m\u001b[1;33m\u001b[0m\u001b[0m\n\u001b[0;32m   1371\u001b[0m \u001b[1;33m\u001b[0m\u001b[0m\n\u001b[1;32m-> 1372\u001b[1;33m         \u001b[1;32mfor\u001b[0m \u001b[0mline\u001b[0m \u001b[1;32min\u001b[0m \u001b[0mself\u001b[0m\u001b[1;33m.\u001b[0m\u001b[0m_get_lines\u001b[0m\u001b[1;33m(\u001b[0m\u001b[1;33m*\u001b[0m\u001b[0margs\u001b[0m\u001b[1;33m,\u001b[0m \u001b[1;33m**\u001b[0m\u001b[0mkwargs\u001b[0m\u001b[1;33m)\u001b[0m\u001b[1;33m:\u001b[0m\u001b[1;33m\u001b[0m\u001b[0m\n\u001b[0m\u001b[0;32m   1373\u001b[0m             \u001b[0mself\u001b[0m\u001b[1;33m.\u001b[0m\u001b[0madd_line\u001b[0m\u001b[1;33m(\u001b[0m\u001b[0mline\u001b[0m\u001b[1;33m)\u001b[0m\u001b[1;33m\u001b[0m\u001b[0m\n\u001b[0;32m   1374\u001b[0m             \u001b[0mlines\u001b[0m\u001b[1;33m.\u001b[0m\u001b[0mappend\u001b[0m\u001b[1;33m(\u001b[0m\u001b[0mline\u001b[0m\u001b[1;33m)\u001b[0m\u001b[1;33m\u001b[0m\u001b[0m\n",
      "\u001b[1;32mc:\\program files\\python36\\lib\\site-packages\\matplotlib\\axes\\_base.py\u001b[0m in \u001b[0;36m_grab_next_args\u001b[1;34m(self, *args, **kwargs)\u001b[0m\n\u001b[0;32m    402\u001b[0m                 \u001b[0mthis\u001b[0m \u001b[1;33m+=\u001b[0m \u001b[0margs\u001b[0m\u001b[1;33m[\u001b[0m\u001b[1;36m0\u001b[0m\u001b[1;33m]\u001b[0m\u001b[1;33m,\u001b[0m\u001b[1;33m\u001b[0m\u001b[0m\n\u001b[0;32m    403\u001b[0m                 \u001b[0margs\u001b[0m \u001b[1;33m=\u001b[0m \u001b[0margs\u001b[0m\u001b[1;33m[\u001b[0m\u001b[1;36m1\u001b[0m\u001b[1;33m:\u001b[0m\u001b[1;33m]\u001b[0m\u001b[1;33m\u001b[0m\u001b[0m\n\u001b[1;32m--> 404\u001b[1;33m             \u001b[1;32mfor\u001b[0m \u001b[0mseg\u001b[0m \u001b[1;32min\u001b[0m \u001b[0mself\u001b[0m\u001b[1;33m.\u001b[0m\u001b[0m_plot_args\u001b[0m\u001b[1;33m(\u001b[0m\u001b[0mthis\u001b[0m\u001b[1;33m,\u001b[0m \u001b[0mkwargs\u001b[0m\u001b[1;33m)\u001b[0m\u001b[1;33m:\u001b[0m\u001b[1;33m\u001b[0m\u001b[0m\n\u001b[0m\u001b[0;32m    405\u001b[0m                 \u001b[1;32myield\u001b[0m \u001b[0mseg\u001b[0m\u001b[1;33m\u001b[0m\u001b[0m\n\u001b[0;32m    406\u001b[0m \u001b[1;33m\u001b[0m\u001b[0m\n",
      "\u001b[1;32mc:\\program files\\python36\\lib\\site-packages\\matplotlib\\axes\\_base.py\u001b[0m in \u001b[0;36m_plot_args\u001b[1;34m(self, tup, kwargs)\u001b[0m\n\u001b[0;32m    382\u001b[0m             \u001b[0mx\u001b[0m\u001b[1;33m,\u001b[0m \u001b[0my\u001b[0m \u001b[1;33m=\u001b[0m \u001b[0mindex_of\u001b[0m\u001b[1;33m(\u001b[0m\u001b[0mtup\u001b[0m\u001b[1;33m[\u001b[0m\u001b[1;33m-\u001b[0m\u001b[1;36m1\u001b[0m\u001b[1;33m]\u001b[0m\u001b[1;33m)\u001b[0m\u001b[1;33m\u001b[0m\u001b[0m\n\u001b[0;32m    383\u001b[0m \u001b[1;33m\u001b[0m\u001b[0m\n\u001b[1;32m--> 384\u001b[1;33m         \u001b[0mx\u001b[0m\u001b[1;33m,\u001b[0m \u001b[0my\u001b[0m \u001b[1;33m=\u001b[0m \u001b[0mself\u001b[0m\u001b[1;33m.\u001b[0m\u001b[0m_xy_from_xy\u001b[0m\u001b[1;33m(\u001b[0m\u001b[0mx\u001b[0m\u001b[1;33m,\u001b[0m \u001b[0my\u001b[0m\u001b[1;33m)\u001b[0m\u001b[1;33m\u001b[0m\u001b[0m\n\u001b[0m\u001b[0;32m    385\u001b[0m \u001b[1;33m\u001b[0m\u001b[0m\n\u001b[0;32m    386\u001b[0m         \u001b[1;32mif\u001b[0m \u001b[0mself\u001b[0m\u001b[1;33m.\u001b[0m\u001b[0mcommand\u001b[0m \u001b[1;33m==\u001b[0m \u001b[1;34m'plot'\u001b[0m\u001b[1;33m:\u001b[0m\u001b[1;33m\u001b[0m\u001b[0m\n",
      "\u001b[1;32mc:\\program files\\python36\\lib\\site-packages\\matplotlib\\axes\\_base.py\u001b[0m in \u001b[0;36m_xy_from_xy\u001b[1;34m(self, x, y)\u001b[0m\n\u001b[0;32m    241\u001b[0m         \u001b[1;32mif\u001b[0m \u001b[0mx\u001b[0m\u001b[1;33m.\u001b[0m\u001b[0mshape\u001b[0m\u001b[1;33m[\u001b[0m\u001b[1;36m0\u001b[0m\u001b[1;33m]\u001b[0m \u001b[1;33m!=\u001b[0m \u001b[0my\u001b[0m\u001b[1;33m.\u001b[0m\u001b[0mshape\u001b[0m\u001b[1;33m[\u001b[0m\u001b[1;36m0\u001b[0m\u001b[1;33m]\u001b[0m\u001b[1;33m:\u001b[0m\u001b[1;33m\u001b[0m\u001b[0m\n\u001b[0;32m    242\u001b[0m             raise ValueError(\"x and y must have same first dimension, but \"\n\u001b[1;32m--> 243\u001b[1;33m                              \"have shapes {} and {}\".format(x.shape, y.shape))\n\u001b[0m\u001b[0;32m    244\u001b[0m         \u001b[1;32mif\u001b[0m \u001b[0mx\u001b[0m\u001b[1;33m.\u001b[0m\u001b[0mndim\u001b[0m \u001b[1;33m>\u001b[0m \u001b[1;36m2\u001b[0m \u001b[1;32mor\u001b[0m \u001b[0my\u001b[0m\u001b[1;33m.\u001b[0m\u001b[0mndim\u001b[0m \u001b[1;33m>\u001b[0m \u001b[1;36m2\u001b[0m\u001b[1;33m:\u001b[0m\u001b[1;33m\u001b[0m\u001b[0m\n\u001b[0;32m    245\u001b[0m             raise ValueError(\"x and y can be no greater than 2-D, but have \"\n",
      "\u001b[1;31mValueError\u001b[0m: x and y must have same first dimension, but have shapes (1061,) and (5305,)"
     ]
    },
    {
     "data": {
      "image/png": "[encoded data removed]",
      "text/plain": [
       "<matplotlib.figure.Figure at 0x1a11fc7b630>"
      ]
     },
     "metadata": {},
     "output_type": "display_data"
    }
   ],
   "source": [
    "five_min_tester.visualise_result([0, 1])"
   ]
  },
  {
   "cell_type": "code",
   "execution_count": null,
   "metadata": {},
   "outputs": [],
   "source": []
  },
  {
   "cell_type": "code",
   "execution_count": null,
   "metadata": {},
   "outputs": [],
   "source": []
  },
  {
   "cell_type": "code",
   "execution_count": null,
   "metadata": {},
   "outputs": [],
   "source": []
  },
  {
   "cell_type": "code",
   "execution_count": 12,
   "metadata": {},
   "outputs": [
    {
     "name": "stdout",
     "output_type": "stream",
     "text": [
      "(10000,) (0,)\n"
     ]
    }
   ],
   "source": [
    "\n",
    "\n",
    "arima.fit(data['window_1_0'][:10000], data['window_1_0'][:10000])\n",
    "pred = arima.predict(data['window_1_0'][10000:])"
   ]
  },
  {
   "cell_type": "code",
   "execution_count": 35,
   "metadata": {},
   "outputs": [
    {
     "data": {
      "text/plain": [
       "array([], shape=(0, 5), dtype=float64)"
      ]
     },
     "execution_count": 35,
     "metadata": {},
     "output_type": "execute_result"
    }
   ],
   "source": [
    "pred"
   ]
  },
  {
   "cell_type": "code",
   "execution_count": 29,
   "metadata": {},
   "outputs": [],
   "source": [
    "arima_model = forecast.auto_arima(data['window_1_0'][:1000])"
   ]
  },
  {
   "cell_type": "code",
   "execution_count": 21,
   "metadata": {},
   "outputs": [],
   "source": [
    "arima_forecast = forecast.forecast(arima_model, h=60)"
   ]
  },
  {
   "cell_type": "code",
   "execution_count": 22,
   "metadata": {},
   "outputs": [],
   "source": [
    "arima_output = dict(zip(arima_forecast.names, map(list,list(arima_forecast))))"
   ]
  },
  {
   "cell_type": "code",
   "execution_count": 24,
   "metadata": {},
   "outputs": [
    {
     "data": {
      "text/plain": [
       "(900, 1060)"
      ]
     },
     "execution_count": 24,
     "metadata": {},
     "output_type": "execute_result"
    },
    {
     "data": {
      "image/png": "[encoded data removed]",
      "text/plain": [
       "<matplotlib.figure.Figure at 0x1bce07f5128>"
      ]
     },
     "metadata": {},
     "output_type": "display_data"
    }
   ],
   "source": [
    "%matplotlib inline\n",
    "plt.plot(data['window_1_0'][:1060])\n",
    "plt.plot(np.arange(60) + 1000, arima_output['mean'])\n",
    "plt.xlim([900, 1060])"
   ]
  },
  {
   "cell_type": "code",
   "execution_count": null,
   "metadata": {},
   "outputs": [],
   "source": []
  }
 ],
 "metadata": {
  "kernelspec": {
   "display_name": "Python 3",
   "language": "python",
   "name": "python3"
  },
  "language_info": {
   "codemirror_mode": {
    "name": "ipython",
    "version": 3
   },
   "file_extension": ".py",
   "mimetype": "text/x-python",
   "name": "python",
   "nbconvert_exporter": "python",
   "pygments_lexer": "ipython3",
   "version": "3.6.0"
  }
 },
 "nbformat": 4,
 "nbformat_minor": 2
}
