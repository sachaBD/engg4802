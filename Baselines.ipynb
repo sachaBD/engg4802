{
 "cells": [
  {
   "cell_type": "code",
   "execution_count": 30,
   "metadata": {},
   "outputs": [
    {
     "name": "stdout",
     "output_type": "stream",
     "text": [
      "The autoreload extension is already loaded. To reload it, use:\n",
      "  %reload_ext autoreload\n"
     ]
    }
   ],
   "source": [
    "import pandas as pd\n",
    "import numpy as np\n",
    "\n",
    "import matplotlib.pyplot as plt\n",
    "\n",
    "%load_ext autoreload\n",
    "%autoreload 2"
   ]
  },
  {
   "cell_type": "code",
   "execution_count": 56,
   "metadata": {},
   "outputs": [],
   "source": [
    "data = pd.read_csv('data/filter_data.csv')\n",
    "hurst_estimates = pd.read_csv('data/hurst_estimates.csv', index_col='Unnamed: 0')"
   ]
  },
  {
   "cell_type": "code",
   "execution_count": 32,
   "metadata": {},
   "outputs": [],
   "source": [
    "from ModelTesters.BaselineModelTester import BaselineModelTester\n",
    "from utils.ErrorMetrics import calculate_all_errors"
   ]
  },
  {
   "cell_type": "markdown",
   "metadata": {},
   "source": [
    "## Random Walk on each dataset"
   ]
  },
  {
   "cell_type": "code",
   "execution_count": 33,
   "metadata": {},
   "outputs": [],
   "source": [
    "class RandomWalk():\n",
    "    \n",
    "    def __init__(self, horizon):\n",
    "        self.horizon = horizon\n",
    "    \n",
    "    def fit(self, train, labels):\n",
    "        self.train = labels\n",
    "    \n",
    "    def predict(self, data):\n",
    "        comb_data = np.hstack([self.train, data])\n",
    "        \n",
    "        results = np.zeros((len(data), self.horizon))\n",
    "        \n",
    "        std = np.std(comb_data)\n",
    "        \n",
    "        results[:, 0] = data[:]\n",
    "        \n",
    "        noise = np.random.normal(0, std, (len(data), self.horizon))\n",
    "        results += noise        \n",
    "        \n",
    "        return results.cumsum(axis=1)\n",
    "    \n",
    "    def __repr__(self):\n",
    "        return 'Random Walk'"
   ]
  },
  {
   "cell_type": "code",
   "execution_count": 34,
   "metadata": {},
   "outputs": [],
   "source": [
    "walk = RandomWalk(5)"
   ]
  },
  {
   "cell_type": "code",
   "execution_count": 35,
   "metadata": {},
   "outputs": [],
   "source": [
    "d = np.arange(0, 100)"
   ]
  },
  {
   "cell_type": "code",
   "execution_count": 36,
   "metadata": {},
   "outputs": [],
   "source": [
    "walk.fit(d[:80], d[:80])"
   ]
  },
  {
   "cell_type": "code",
   "execution_count": 37,
   "metadata": {},
   "outputs": [],
   "source": [
    "a = walk.predict(d[80:])"
   ]
  },
  {
   "cell_type": "code",
   "execution_count": 38,
   "metadata": {},
   "outputs": [
    {
     "data": {
      "text/plain": [
       "Text(0.5,1,'Random Walk')"
      ]
     },
     "execution_count": 38,
     "metadata": {},
     "output_type": "execute_result"
    },
    {
     "data": {
      "image/png": "[encoded data removed]",
      "text/plain": [
       "<matplotlib.figure.Figure at 0x240d402db38>"
      ]
     },
     "metadata": {},
     "output_type": "display_data"
    }
   ],
   "source": [
    "%matplotlib inline\n",
    "plt.plot(np.arange(80), d[:80])\n",
    "plt.plot(np.arange(80, 100), d[80:])\n",
    "plt.plot(np.arange(80, 100), a[:, 1])\n",
    "plt.legend(['train', 'test', 'pred'])\n",
    "plt.title('Random Walk')"
   ]
  },
  {
   "cell_type": "markdown",
   "metadata": {},
   "source": [
    "## Mean estimation"
   ]
  },
  {
   "cell_type": "code",
   "execution_count": 39,
   "metadata": {},
   "outputs": [],
   "source": [
    "class MeanEstimator():\n",
    "    \n",
    "    def __init__(self, horizon):\n",
    "        self.horizon = horizon\n",
    "        \n",
    "    def fit(self, train, labels):\n",
    "        self.train = labels\n",
    "    \n",
    "    def predict(self, data):\n",
    "        return np.repeat( pd.Series(np.hstack([self.train, data])).expanding().mean()[len(self.train):], self.horizon).values.reshape(len(data), self.horizon)    \n",
    "\n",
    "    def __repr__(self):\n",
    "        return 'Mean Estimator'"
   ]
  },
  {
   "cell_type": "code",
   "execution_count": 40,
   "metadata": {},
   "outputs": [],
   "source": [
    "me = MeanEstimator(5)"
   ]
  },
  {
   "cell_type": "code",
   "execution_count": 41,
   "metadata": {},
   "outputs": [],
   "source": [
    "d = np.arange(0, 100)"
   ]
  },
  {
   "cell_type": "code",
   "execution_count": 42,
   "metadata": {},
   "outputs": [],
   "source": [
    "me.fit(d[:80], d[:80])"
   ]
  },
  {
   "cell_type": "code",
   "execution_count": 43,
   "metadata": {},
   "outputs": [],
   "source": [
    "a = me.predict(d[80:])"
   ]
  },
  {
   "cell_type": "code",
   "execution_count": 44,
   "metadata": {},
   "outputs": [
    {
     "data": {
      "text/plain": [
       "Text(0.5,1,'Mean estimator')"
      ]
     },
     "execution_count": 44,
     "metadata": {},
     "output_type": "execute_result"
    },
    {
     "data": {
      "image/png": "[encoded data removed]",
      "text/plain": [
       "<matplotlib.figure.Figure at 0x240efae15c0>"
      ]
     },
     "metadata": {},
     "output_type": "display_data"
    }
   ],
   "source": [
    "%matplotlib inline\n",
    "plt.plot(np.arange(80), d[:80])\n",
    "plt.plot(np.arange(80, 100), d[80:])\n",
    "plt.plot(np.arange(80, 100), a[:, 1])\n",
    "plt.legend(['train', 'test', 'pred'])\n",
    "plt.title('Mean estimator')"
   ]
  },
  {
   "cell_type": "markdown",
   "metadata": {},
   "source": [
    "## Moving Average Estimator"
   ]
  },
  {
   "cell_type": "code",
   "execution_count": 45,
   "metadata": {},
   "outputs": [],
   "source": [
    "class MovingAvgEstimator():\n",
    "    \n",
    "    def __init__(self, horizon, back_horizon=None):\n",
    "        self.horizon = horizon\n",
    "        \n",
    "        if back_horizon is None:\n",
    "            back_horizon = horizon\n",
    "        self.back_horizon = back_horizon\n",
    "        \n",
    "    def fit(self, train, labels):\n",
    "        self.starting_horizon = labels[-(self.back_horizon - 1):]\n",
    "        \n",
    "    def predict(self, data):\n",
    "        comb_data = np.hstack([self.starting_horizon, data])\n",
    "        \n",
    "        return np.repeat(pd.Series(comb_data).rolling(self.back_horizon).mean().dropna(axis=0).values, self.horizon).reshape(len(data), self.horizon)\n",
    "    \n",
    "    def __repr__(self):\n",
    "        return 'Moving Avg Estimator: (h={:d})'.format(self.horizon)"
   ]
  },
  {
   "cell_type": "code",
   "execution_count": 46,
   "metadata": {},
   "outputs": [],
   "source": [
    "mva = MovingAvgEstimator(5, 30)"
   ]
  },
  {
   "cell_type": "code",
   "execution_count": 47,
   "metadata": {},
   "outputs": [],
   "source": [
    "d = np.arange(0, 100)\n",
    "rand = 1.0 * np.random.randn(100) + 0\n",
    "rand = np.cumsum(rand)"
   ]
  },
  {
   "cell_type": "code",
   "execution_count": 48,
   "metadata": {},
   "outputs": [],
   "source": [
    "mva.fit(d[:80], d[:80])"
   ]
  },
  {
   "cell_type": "code",
   "execution_count": 49,
   "metadata": {},
   "outputs": [],
   "source": [
    "a = mva.predict(d[80:])"
   ]
  },
  {
   "cell_type": "code",
   "execution_count": 50,
   "metadata": {},
   "outputs": [
    {
     "data": {
      "text/plain": [
       "<matplotlib.legend.Legend at 0x240efc8e128>"
      ]
     },
     "execution_count": 50,
     "metadata": {},
     "output_type": "execute_result"
    },
    {
     "data": {
      "image/png": "[encoded data removed]",
      "text/plain": [
       "<matplotlib.figure.Figure at 0x240efb0a978>"
      ]
     },
     "metadata": {},
     "output_type": "display_data"
    }
   ],
   "source": [
    "%matplotlib inline\n",
    "plt.plot(np.arange(80), d[:80])\n",
    "plt.plot(np.arange(80, 100), d[80:])\n",
    "plt.plot(np.arange(80, 100), a[:, 1])\n",
    "\n",
    "plt.xlabel('time step')\n",
    "plt.ylabel('value')\n",
    "plt.title('SMA on trending data. n = 30')\n",
    "plt.legend(['train', 'actual', 'SMA'])"
   ]
  },
  {
   "cell_type": "code",
   "execution_count": 51,
   "metadata": {},
   "outputs": [
    {
     "data": {
      "text/plain": [
       "<matplotlib.legend.Legend at 0x240efd03550>"
      ]
     },
     "execution_count": 51,
     "metadata": {},
     "output_type": "execute_result"
    },
    {
     "data": {
      "image/png": "[encoded data removed]",
      "text/plain": [
       "<matplotlib.figure.Figure at 0x240efbf9d30>"
      ]
     },
     "metadata": {},
     "output_type": "display_data"
    }
   ],
   "source": [
    "# On random data\n",
    "mva = MovingAvgEstimator(5, 30)\n",
    "mva.fit(rand[:80], rand[:80])\n",
    "a = mva.predict(rand[80:])\n",
    "\n",
    "%matplotlib inline\n",
    "plt.plot(np.arange(80), rand[:80])\n",
    "plt.plot(np.arange(80, 100), rand[80:])\n",
    "plt.plot(np.arange(80, 100), a[:, 1])\n",
    "\n",
    "plt.xlabel('time step')\n",
    "plt.ylabel('value')\n",
    "plt.title('SMA on random non-trending data. n = 30')\n",
    "plt.legend(['train', 'actual', 'SMA'])"
   ]
  },
  {
   "cell_type": "code",
   "execution_count": 52,
   "metadata": {},
   "outputs": [],
   "source": [
    "\"\"\"\n",
    "Use to increase the prediction speed.\n",
    "tester -> Tester class that implements the BaseModelTester class\n",
    "data -> A pandas dataframe with columns as each dataset and rows as each sample\n",
    "horizon -> The number of periods to predict ahead\n",
    "\"\"\"\n",
    "def speed_up_calc(tester, data, horizon):\n",
    "    # Loading bar\n",
    "    tester.progressBar.set_length(len(data.columns))\n",
    "\n",
    "    # walk speed up\n",
    "    for i, column in enumerate(data.columns):\n",
    "        # Split into train and test data\n",
    "        split = int(0.20 * len(data))\n",
    "        train, test = data[column][:split].values, data[column][split:].values\n",
    "        # Round to be a multiple of the horizon\n",
    "        test = test[:len(test) - len(test) % horizon]\n",
    "\n",
    "        tester.model.fit(train, train)\n",
    "        pred = tester.model.predict(test)\n",
    "        tester.predictions[column] = pred\n",
    "\n",
    "        errors = {}\n",
    "        for key, value in calculate_all_errors(train, test, pred, horizon).items():\n",
    "            errors[key] = [value]\n",
    "\n",
    "        t = pd.DataFrame.from_dict(errors)\n",
    "        t.set_index(keys=[[column]], inplace=True)\n",
    "        tester.errors = tester.errors.append(t)\n",
    "\n",
    "        tester.progressBar.progress()"
   ]
  },
  {
   "cell_type": "markdown",
   "metadata": {},
   "source": [
    "# Forecasting"
   ]
  },
  {
   "cell_type": "markdown",
   "metadata": {},
   "source": [
    "## 1 minute horizon"
   ]
  },
  {
   "cell_type": "code",
   "execution_count": 57,
   "metadata": {},
   "outputs": [],
   "source": [
    "horizon = 1\n",
    "\n",
    "one_min_walk = RandomWalk(horizon)\n",
    "one_min_mean = MeanEstimator(horizon)\n",
    "one_min_mva = MovingAvgEstimator(horizon, 15)"
   ]
  },
  {
   "cell_type": "markdown",
   "metadata": {},
   "source": [
    "#### Random walk at 1 minute"
   ]
  },
  {
   "cell_type": "code",
   "execution_count": 58,
   "metadata": {},
   "outputs": [
    {
     "name": "stdout",
     "output_type": "stream",
     "text": [
      "Progress: [####################] 100.0%\n"
     ]
    }
   ],
   "source": [
    "one_min_walk_tester = BaselineModelTester(data, one_min_walk, horizon, 0.20)\n",
    "speed_up_calc(one_min_walk_tester, data, horizon)"
   ]
  },
  {
   "cell_type": "code",
   "execution_count": 59,
   "metadata": {},
   "outputs": [
    {
     "data": {
      "text/html": [
       "<div>\n",
       "<style scoped>\n",
       "    .dataframe tbody tr th:only-of-type {\n",
       "        vertical-align: middle;\n",
       "    }\n",
       "\n",
       "    .dataframe tbody tr th {\n",
       "        vertical-align: top;\n",
       "    }\n",
       "\n",
       "    .dataframe thead th {\n",
       "        text-align: right;\n",
       "    }\n",
       "</style>\n",
       "<table border=\"1\" class=\"dataframe\">\n",
       "  <thead>\n",
       "    <tr style=\"text-align: right;\">\n",
       "      <th></th>\n",
       "      <th>MAE</th>\n",
       "      <th>RMSE</th>\n",
       "      <th>MAPE</th>\n",
       "      <th>sMAPE</th>\n",
       "      <th>MASE</th>\n",
       "      <th>MASE2</th>\n",
       "      <th>MASE3</th>\n",
       "      <th>MEAN_ASE</th>\n",
       "    </tr>\n",
       "  </thead>\n",
       "  <tbody>\n",
       "    <tr>\n",
       "      <th>window_1_0</th>\n",
       "      <td>295.776758</td>\n",
       "      <td>371.752745</td>\n",
       "      <td>673.877657</td>\n",
       "      <td>105.025673</td>\n",
       "      <td>1.243671</td>\n",
       "      <td>10.672481</td>\n",
       "      <td>10.672481</td>\n",
       "      <td>1.003770</td>\n",
       "    </tr>\n",
       "    <tr>\n",
       "      <th>window_1_1</th>\n",
       "      <td>304.128614</td>\n",
       "      <td>380.829010</td>\n",
       "      <td>939.241402</td>\n",
       "      <td>106.498372</td>\n",
       "      <td>1.510055</td>\n",
       "      <td>11.055229</td>\n",
       "      <td>11.055229</td>\n",
       "      <td>1.018441</td>\n",
       "    </tr>\n",
       "    <tr>\n",
       "      <th>window_1_2</th>\n",
       "      <td>343.412338</td>\n",
       "      <td>430.468933</td>\n",
       "      <td>779.802009</td>\n",
       "      <td>108.285663</td>\n",
       "      <td>1.109171</td>\n",
       "      <td>8.648980</td>\n",
       "      <td>8.648980</td>\n",
       "      <td>1.055688</td>\n",
       "    </tr>\n",
       "    <tr>\n",
       "      <th>window_1_3</th>\n",
       "      <td>385.045572</td>\n",
       "      <td>482.345792</td>\n",
       "      <td>495.775081</td>\n",
       "      <td>102.550317</td>\n",
       "      <td>0.985798</td>\n",
       "      <td>8.890877</td>\n",
       "      <td>8.890877</td>\n",
       "      <td>1.000270</td>\n",
       "    </tr>\n",
       "    <tr>\n",
       "      <th>window_1_4</th>\n",
       "      <td>334.981519</td>\n",
       "      <td>419.038913</td>\n",
       "      <td>3114.094384</td>\n",
       "      <td>116.898613</td>\n",
       "      <td>1.118640</td>\n",
       "      <td>7.055745</td>\n",
       "      <td>7.055745</td>\n",
       "      <td>1.160622</td>\n",
       "    </tr>\n",
       "  </tbody>\n",
       "</table>\n",
       "</div>"
      ],
      "text/plain": [
       "                   MAE        RMSE         MAPE       sMAPE      MASE  \\\n",
       "window_1_0  295.776758  371.752745   673.877657  105.025673  1.243671   \n",
       "window_1_1  304.128614  380.829010   939.241402  106.498372  1.510055   \n",
       "window_1_2  343.412338  430.468933   779.802009  108.285663  1.109171   \n",
       "window_1_3  385.045572  482.345792   495.775081  102.550317  0.985798   \n",
       "window_1_4  334.981519  419.038913  3114.094384  116.898613  1.118640   \n",
       "\n",
       "                MASE2      MASE3  MEAN_ASE  \n",
       "window_1_0  10.672481  10.672481  1.003770  \n",
       "window_1_1  11.055229  11.055229  1.018441  \n",
       "window_1_2   8.648980   8.648980  1.055688  \n",
       "window_1_3   8.890877   8.890877  1.000270  \n",
       "window_1_4   7.055745   7.055745  1.160622  "
      ]
     },
     "execution_count": 59,
     "metadata": {},
     "output_type": "execute_result"
    }
   ],
   "source": [
    "one_min_walk_tester.errors.head()"
   ]
  },
  {
   "cell_type": "code",
   "execution_count": 60,
   "metadata": {},
   "outputs": [
    {
     "data": {
      "text/plain": [
       "Text(0.5,1,'RMSE vs H for random walk at 1 minute horizon')"
      ]
     },
     "execution_count": 60,
     "metadata": {},
     "output_type": "execute_result"
    },
    {
     "data": {
      "image/png": "[encoded data removed]",
      "text/plain": [
       "<matplotlib.figure.Figure at 0x240efcc0b38>"
      ]
     },
     "metadata": {},
     "output_type": "display_data"
    }
   ],
   "source": [
    "%matplotlib inline\n",
    "one_min_walk_tester.compare_hurst(hurst_estimates, err_to_use='RMSE')\n",
    "plt.title('RMSE vs H for random walk at 1 minute horizon')"
   ]
  },
  {
   "cell_type": "code",
   "execution_count": 61,
   "metadata": {},
   "outputs": [
    {
     "data": {
      "text/plain": [
       "Text(0.5,1,'MASE vs H for random walk at 1 minute horizon')"
      ]
     },
     "execution_count": 61,
     "metadata": {},
     "output_type": "execute_result"
    },
    {
     "data": {
      "image/png": "[encoded data removed]",
      "text/plain": [
       "<matplotlib.figure.Figure at 0x2413b6cacc0>"
      ]
     },
     "metadata": {},
     "output_type": "display_data"
    }
   ],
   "source": [
    "%matplotlib inline\n",
    "one_min_walk_tester.compare_hurst(hurst_estimates, err_to_use='MASE')\n",
    "plt.title('MASE vs H for random walk at 1 minute horizon')"
   ]
  },
  {
   "cell_type": "code",
   "execution_count": null,
   "metadata": {},
   "outputs": [],
   "source": [
    "# Save the results to a csv\n",
    "one_min_walk_tester.errors.to_csv('results/one_minute_random_walk_results.csv')"
   ]
  },
  {
   "cell_type": "markdown",
   "metadata": {},
   "source": [
    "#### Mean Estimator at 1 minute"
   ]
  },
  {
   "cell_type": "code",
   "execution_count": 62,
   "metadata": {},
   "outputs": [
    {
     "name": "stdout",
     "output_type": "stream",
     "text": [
      "Progress: [####################] 100.0%\n"
     ]
    }
   ],
   "source": [
    "one_min_mean_tester = BaselineModelTester(data, one_min_mean, horizon, 0.20)\n",
    "speed_up_calc(one_min_mean_tester, data, horizon)"
   ]
  },
  {
   "cell_type": "code",
   "execution_count": 63,
   "metadata": {},
   "outputs": [
    {
     "data": {
      "text/html": [
       "<div>\n",
       "<style scoped>\n",
       "    .dataframe tbody tr th:only-of-type {\n",
       "        vertical-align: middle;\n",
       "    }\n",
       "\n",
       "    .dataframe tbody tr th {\n",
       "        vertical-align: top;\n",
       "    }\n",
       "\n",
       "    .dataframe thead th {\n",
       "        text-align: right;\n",
       "    }\n",
       "</style>\n",
       "<table border=\"1\" class=\"dataframe\">\n",
       "  <thead>\n",
       "    <tr style=\"text-align: right;\">\n",
       "      <th></th>\n",
       "      <th>MAE</th>\n",
       "      <th>RMSE</th>\n",
       "      <th>MAPE</th>\n",
       "      <th>sMAPE</th>\n",
       "      <th>MASE</th>\n",
       "      <th>MASE2</th>\n",
       "      <th>MASE3</th>\n",
       "      <th>MEAN_ASE</th>\n",
       "    </tr>\n",
       "  </thead>\n",
       "  <tbody>\n",
       "    <tr>\n",
       "      <th>window_1_0</th>\n",
       "      <td>294.708267</td>\n",
       "      <td>383.840209</td>\n",
       "      <td>100.394376</td>\n",
       "      <td>198.038759</td>\n",
       "      <td>1.239178</td>\n",
       "      <td>10.633927</td>\n",
       "      <td>10.633927</td>\n",
       "      <td>1.000144</td>\n",
       "    </tr>\n",
       "    <tr>\n",
       "      <th>window_1_1</th>\n",
       "      <td>298.553692</td>\n",
       "      <td>396.919130</td>\n",
       "      <td>102.295595</td>\n",
       "      <td>198.005408</td>\n",
       "      <td>1.482374</td>\n",
       "      <td>10.852578</td>\n",
       "      <td>10.852578</td>\n",
       "      <td>0.999772</td>\n",
       "    </tr>\n",
       "    <tr>\n",
       "      <th>window_1_2</th>\n",
       "      <td>325.316326</td>\n",
       "      <td>427.998295</td>\n",
       "      <td>100.834025</td>\n",
       "      <td>197.182665</td>\n",
       "      <td>1.050724</td>\n",
       "      <td>8.193224</td>\n",
       "      <td>8.193224</td>\n",
       "      <td>1.000058</td>\n",
       "    </tr>\n",
       "    <tr>\n",
       "      <th>window_1_3</th>\n",
       "      <td>384.556657</td>\n",
       "      <td>474.143761</td>\n",
       "      <td>100.827081</td>\n",
       "      <td>196.979884</td>\n",
       "      <td>0.984546</td>\n",
       "      <td>8.879588</td>\n",
       "      <td>8.879588</td>\n",
       "      <td>0.999000</td>\n",
       "    </tr>\n",
       "    <tr>\n",
       "      <th>window_1_4</th>\n",
       "      <td>288.599218</td>\n",
       "      <td>414.853780</td>\n",
       "      <td>106.940037</td>\n",
       "      <td>195.603028</td>\n",
       "      <td>0.963750</td>\n",
       "      <td>6.078790</td>\n",
       "      <td>6.078790</td>\n",
       "      <td>0.999920</td>\n",
       "    </tr>\n",
       "  </tbody>\n",
       "</table>\n",
       "</div>"
      ],
      "text/plain": [
       "                   MAE        RMSE        MAPE       sMAPE      MASE  \\\n",
       "window_1_0  294.708267  383.840209  100.394376  198.038759  1.239178   \n",
       "window_1_1  298.553692  396.919130  102.295595  198.005408  1.482374   \n",
       "window_1_2  325.316326  427.998295  100.834025  197.182665  1.050724   \n",
       "window_1_3  384.556657  474.143761  100.827081  196.979884  0.984546   \n",
       "window_1_4  288.599218  414.853780  106.940037  195.603028  0.963750   \n",
       "\n",
       "                MASE2      MASE3  MEAN_ASE  \n",
       "window_1_0  10.633927  10.633927  1.000144  \n",
       "window_1_1  10.852578  10.852578  0.999772  \n",
       "window_1_2   8.193224   8.193224  1.000058  \n",
       "window_1_3   8.879588   8.879588  0.999000  \n",
       "window_1_4   6.078790   6.078790  0.999920  "
      ]
     },
     "execution_count": 63,
     "metadata": {},
     "output_type": "execute_result"
    }
   ],
   "source": [
    "one_min_mean_tester.errors.head()"
   ]
  },
  {
   "cell_type": "code",
   "execution_count": 64,
   "metadata": {},
   "outputs": [
    {
     "data": {
      "text/plain": [
       "(-50, 800)"
      ]
     },
     "execution_count": 64,
     "metadata": {},
     "output_type": "execute_result"
    },
    {
     "data": {
      "image/png": "[encoded data removed]",
      "text/plain": [
       "<matplotlib.figure.Figure at 0x24153238908>"
      ]
     },
     "metadata": {},
     "output_type": "display_data"
    }
   ],
   "source": [
    "one_min_mean_tester.compare_hurst(hurst_estimates, err_to_use='RMSE')\n",
    "plt.title('RMSE vs H for mean forecast at 1 minute horizon')\n",
    "plt.ylim([-50, 800])"
   ]
  },
  {
   "cell_type": "code",
   "execution_count": 65,
   "metadata": {},
   "outputs": [
    {
     "data": {
      "text/plain": [
       "Text(0.5,1,'MASE vs H for mean forecast at 1 minute horizon')"
      ]
     },
     "execution_count": 65,
     "metadata": {},
     "output_type": "execute_result"
    },
    {
     "data": {
      "image/png": "[encoded data removed]",
      "text/plain": [
       "<matplotlib.figure.Figure at 0x24156207908>"
      ]
     },
     "metadata": {},
     "output_type": "display_data"
    }
   ],
   "source": [
    "one_min_mean_tester.compare_hurst(hurst_estimates, err_to_use='MASE')\n",
    "plt.title('MASE vs H for mean forecast at 1 minute horizon')"
   ]
  },
  {
   "cell_type": "code",
   "execution_count": 131,
   "metadata": {},
   "outputs": [],
   "source": [
    "one_min_mean_tester.errors.to_csv('results/one_minute_mean_results.csv')"
   ]
  },
  {
   "cell_type": "markdown",
   "metadata": {},
   "source": [
    "#### Moving Average at 1 minute"
   ]
  },
  {
   "cell_type": "code",
   "execution_count": 66,
   "metadata": {},
   "outputs": [
    {
     "name": "stdout",
     "output_type": "stream",
     "text": [
      "Progress: [####################] 100.0%\n"
     ]
    }
   ],
   "source": [
    "one_min_mva_tester = BaselineModelTester(data, one_min_mva, horizon, 0.20)\n",
    "speed_up_calc(one_min_mva_tester, data, horizon)"
   ]
  },
  {
   "cell_type": "code",
   "execution_count": 67,
   "metadata": {},
   "outputs": [
    {
     "data": {
      "text/plain": [
       "(-0.3, 0.9)"
      ]
     },
     "execution_count": 67,
     "metadata": {},
     "output_type": "execute_result"
    },
    {
     "data": {
      "image/png": "[encoded data removed]",
      "text/plain": [
       "<matplotlib.figure.Figure at 0x2416ad0a550>"
      ]
     },
     "metadata": {},
     "output_type": "display_data"
    }
   ],
   "source": [
    "one_min_mva_tester.compare_hurst(hurst_estimates, err_to_use='MASE')\n",
    "plt.title('MASE vs H for SMA at 1 minute horizon')\n",
    "plt.ylim([-0.3, 0.9])"
   ]
  },
  {
   "cell_type": "code",
   "execution_count": 68,
   "metadata": {},
   "outputs": [
    {
     "data": {
      "text/plain": [
       "Text(0.5,1,'RMSE vs H for SMA at 1 minute horizon')"
      ]
     },
     "execution_count": 68,
     "metadata": {},
     "output_type": "execute_result"
    },
    {
     "data": {
      "image/png": "[encoded data removed]",
      "text/plain": [
       "<matplotlib.figure.Figure at 0x2416ccfc1d0>"
      ]
     },
     "metadata": {},
     "output_type": "display_data"
    }
   ],
   "source": [
    "one_min_mva_tester.compare_hurst(hurst_estimates, err_to_use='RMSE')\n",
    "plt.title('RMSE vs H for SMA at 1 minute horizon')"
   ]
  },
  {
   "cell_type": "markdown",
   "metadata": {},
   "source": [
    "one_min_mva_tester.errors.head()"
   ]
  },
  {
   "cell_type": "code",
   "execution_count": 133,
   "metadata": {},
   "outputs": [],
   "source": [
    "one_min_mva_tester.errors.to_csv('results/one_minute_mva_results.csv')"
   ]
  },
  {
   "cell_type": "markdown",
   "metadata": {},
   "source": [
    "## 5 Minute horizon"
   ]
  },
  {
   "cell_type": "code",
   "execution_count": 32,
   "metadata": {},
   "outputs": [],
   "source": [
    "horizon = 5\n",
    "\n",
    "five_min_walk = RandomWalk(horizon)\n",
    "five_min_mean = MeanEstimator(horizon)\n",
    "mva = MovingAvgEstimator(horizon, 30)"
   ]
  },
  {
   "cell_type": "code",
   "execution_count": 36,
   "metadata": {},
   "outputs": [
    {
     "name": "stdout",
     "output_type": "stream",
     "text": [
      "Progress: [####################] 100.0%\n"
     ]
    }
   ],
   "source": [
    "five_min_walk_tester = BaselineModelTester(data, five_min_walk, horizon, 0.20)\n",
    "speed_up_calc(five_min_walk_tester, data, horizon)"
   ]
  },
  {
   "cell_type": "code",
   "execution_count": 37,
   "metadata": {},
   "outputs": [
    {
     "data": {
      "text/html": [
       "<div>\n",
       "<style scoped>\n",
       "    .dataframe tbody tr th:only-of-type {\n",
       "        vertical-align: middle;\n",
       "    }\n",
       "\n",
       "    .dataframe tbody tr th {\n",
       "        vertical-align: top;\n",
       "    }\n",
       "\n",
       "    .dataframe thead th {\n",
       "        text-align: right;\n",
       "    }\n",
       "</style>\n",
       "<table border=\"1\" class=\"dataframe\">\n",
       "  <thead>\n",
       "    <tr style=\"text-align: right;\">\n",
       "      <th></th>\n",
       "      <th>MAE</th>\n",
       "      <th>RMSE</th>\n",
       "      <th>MAPE</th>\n",
       "      <th>sMAPE</th>\n",
       "      <th>MASE</th>\n",
       "      <th>MASE1</th>\n",
       "      <th>MEAN_ASE</th>\n",
       "    </tr>\n",
       "  </thead>\n",
       "  <tbody>\n",
       "    <tr>\n",
       "      <th>window_1_0</th>\n",
       "      <td>508.817749</td>\n",
       "      <td>660.687332</td>\n",
       "      <td>1132.626066</td>\n",
       "      <td>125.529012</td>\n",
       "      <td>2.139458</td>\n",
       "      <td>1596.66458</td>\n",
       "      <td>1.726684</td>\n",
       "    </tr>\n",
       "    <tr>\n",
       "      <th>window_1_1</th>\n",
       "      <td>519.073401</td>\n",
       "      <td>676.043580</td>\n",
       "      <td>2372.511665</td>\n",
       "      <td>126.081100</td>\n",
       "      <td>2.577295</td>\n",
       "      <td>597.30778</td>\n",
       "      <td>1.738174</td>\n",
       "    </tr>\n",
       "    <tr>\n",
       "      <th>window_1_2</th>\n",
       "      <td>592.958742</td>\n",
       "      <td>772.981916</td>\n",
       "      <td>1431.077783</td>\n",
       "      <td>128.179499</td>\n",
       "      <td>1.915169</td>\n",
       "      <td>-412.99287</td>\n",
       "      <td>1.822795</td>\n",
       "    </tr>\n",
       "    <tr>\n",
       "      <th>window_1_3</th>\n",
       "      <td>657.990289</td>\n",
       "      <td>856.424156</td>\n",
       "      <td>875.731673</td>\n",
       "      <td>123.075489</td>\n",
       "      <td>1.684594</td>\n",
       "      <td>301.25757</td>\n",
       "      <td>1.709418</td>\n",
       "    </tr>\n",
       "    <tr>\n",
       "      <th>window_1_4</th>\n",
       "      <td>580.402226</td>\n",
       "      <td>757.443263</td>\n",
       "      <td>3904.591805</td>\n",
       "      <td>135.247873</td>\n",
       "      <td>1.938200</td>\n",
       "      <td>815.84371</td>\n",
       "      <td>2.011100</td>\n",
       "    </tr>\n",
       "  </tbody>\n",
       "</table>\n",
       "</div>"
      ],
      "text/plain": [
       "                   MAE        RMSE         MAPE       sMAPE      MASE  \\\n",
       "window_1_0  508.817749  660.687332  1132.626066  125.529012  2.139458   \n",
       "window_1_1  519.073401  676.043580  2372.511665  126.081100  2.577295   \n",
       "window_1_2  592.958742  772.981916  1431.077783  128.179499  1.915169   \n",
       "window_1_3  657.990289  856.424156   875.731673  123.075489  1.684594   \n",
       "window_1_4  580.402226  757.443263  3904.591805  135.247873  1.938200   \n",
       "\n",
       "                 MASE1  MEAN_ASE  \n",
       "window_1_0  1596.66458  1.726684  \n",
       "window_1_1   597.30778  1.738174  \n",
       "window_1_2  -412.99287  1.822795  \n",
       "window_1_3   301.25757  1.709418  \n",
       "window_1_4   815.84371  2.011100  "
      ]
     },
     "execution_count": 37,
     "metadata": {},
     "output_type": "execute_result"
    }
   ],
   "source": [
    "five_min_walk_tester.errors.head()"
   ]
  },
  {
   "cell_type": "code",
   "execution_count": 76,
   "metadata": {},
   "outputs": [
    {
     "data": {
      "text/plain": [
       "(-0.5, 4)"
      ]
     },
     "execution_count": 76,
     "metadata": {},
     "output_type": "execute_result"
    },
    {
     "data": {
      "image/png": "[encoded data removed]",
      "text/plain": [
       "<matplotlib.figure.Figure at 0x1a5d6e51518>"
      ]
     },
     "metadata": {},
     "output_type": "display_data"
    }
   ],
   "source": [
    "five_min_walk_tester.compare_hurst(hurst_estimates, err_to_use='MASE')\n",
    "plt.title('MASE vs H for random walk at 5 minute horizon')\n",
    "plt.ylim([-0.5, 4])"
   ]
  },
  {
   "cell_type": "code",
   "execution_count": 136,
   "metadata": {},
   "outputs": [],
   "source": [
    "five_min_walk_tester.errors.to_csv('results/five_minute_random_walk_results.csv')"
   ]
  },
  {
   "cell_type": "code",
   "execution_count": 72,
   "metadata": {},
   "outputs": [
    {
     "name": "stdout",
     "output_type": "stream",
     "text": [
      "Progress: [####################] 100.0%\n"
     ]
    }
   ],
   "source": [
    "five_min_mean_tester = BaselineModelTester(data, five_min_mean, horizon, 0.20)\n",
    "speed_up_calc(five_min_mean_tester, data, horizon)"
   ]
  },
  {
   "cell_type": "code",
   "execution_count": 73,
   "metadata": {},
   "outputs": [
    {
     "data": {
      "text/html": [
       "<div>\n",
       "<style scoped>\n",
       "    .dataframe tbody tr th:only-of-type {\n",
       "        vertical-align: middle;\n",
       "    }\n",
       "\n",
       "    .dataframe tbody tr th {\n",
       "        vertical-align: top;\n",
       "    }\n",
       "\n",
       "    .dataframe thead th {\n",
       "        text-align: right;\n",
       "    }\n",
       "</style>\n",
       "<table border=\"1\" class=\"dataframe\">\n",
       "  <thead>\n",
       "    <tr style=\"text-align: right;\">\n",
       "      <th></th>\n",
       "      <th>MAE</th>\n",
       "      <th>RMSE</th>\n",
       "      <th>MAPE</th>\n",
       "      <th>sMAPE</th>\n",
       "      <th>MASE</th>\n",
       "      <th>MASE1</th>\n",
       "      <th>MEAN_ASE</th>\n",
       "    </tr>\n",
       "  </thead>\n",
       "  <tbody>\n",
       "    <tr>\n",
       "      <th>window_1_0</th>\n",
       "      <td>294.735580</td>\n",
       "      <td>383.871506</td>\n",
       "      <td>100.398976</td>\n",
       "      <td>198.047930</td>\n",
       "      <td>1.239293</td>\n",
       "      <td>924.87705</td>\n",
       "      <td>1.000191</td>\n",
       "    </tr>\n",
       "    <tr>\n",
       "      <th>window_1_1</th>\n",
       "      <td>298.577213</td>\n",
       "      <td>396.950630</td>\n",
       "      <td>102.300430</td>\n",
       "      <td>198.014429</td>\n",
       "      <td>1.482491</td>\n",
       "      <td>343.57856</td>\n",
       "      <td>0.999819</td>\n",
       "    </tr>\n",
       "    <tr>\n",
       "      <th>window_1_2</th>\n",
       "      <td>325.335164</td>\n",
       "      <td>428.026491</td>\n",
       "      <td>100.837619</td>\n",
       "      <td>197.191832</td>\n",
       "      <td>1.050784</td>\n",
       "      <td>-226.59436</td>\n",
       "      <td>1.000102</td>\n",
       "    </tr>\n",
       "    <tr>\n",
       "      <th>window_1_3</th>\n",
       "      <td>384.552813</td>\n",
       "      <td>474.147254</td>\n",
       "      <td>100.831235</td>\n",
       "      <td>196.989060</td>\n",
       "      <td>0.984537</td>\n",
       "      <td>176.06559</td>\n",
       "      <td>0.999044</td>\n",
       "    </tr>\n",
       "    <tr>\n",
       "      <th>window_1_4</th>\n",
       "      <td>288.589003</td>\n",
       "      <td>414.849820</td>\n",
       "      <td>106.944517</td>\n",
       "      <td>195.611052</td>\n",
       "      <td>0.963716</td>\n",
       "      <td>405.65579</td>\n",
       "      <td>0.999964</td>\n",
       "    </tr>\n",
       "  </tbody>\n",
       "</table>\n",
       "</div>"
      ],
      "text/plain": [
       "                   MAE        RMSE        MAPE       sMAPE      MASE  \\\n",
       "window_1_0  294.735580  383.871506  100.398976  198.047930  1.239293   \n",
       "window_1_1  298.577213  396.950630  102.300430  198.014429  1.482491   \n",
       "window_1_2  325.335164  428.026491  100.837619  197.191832  1.050784   \n",
       "window_1_3  384.552813  474.147254  100.831235  196.989060  0.984537   \n",
       "window_1_4  288.589003  414.849820  106.944517  195.611052  0.963716   \n",
       "\n",
       "                MASE1  MEAN_ASE  \n",
       "window_1_0  924.87705  1.000191  \n",
       "window_1_1  343.57856  0.999819  \n",
       "window_1_2 -226.59436  1.000102  \n",
       "window_1_3  176.06559  0.999044  \n",
       "window_1_4  405.65579  0.999964  "
      ]
     },
     "execution_count": 73,
     "metadata": {},
     "output_type": "execute_result"
    }
   ],
   "source": [
    "five_min_mean_tester.errors.head()"
   ]
  },
  {
   "cell_type": "code",
   "execution_count": 81,
   "metadata": {},
   "outputs": [
    {
     "data": {
      "text/plain": [
       "(-0.5, 800)"
      ]
     },
     "execution_count": 81,
     "metadata": {},
     "output_type": "execute_result"
    },
    {
     "data": {
      "image/png": "[encoded data removed]",
      "text/plain": [
       "<matplotlib.figure.Figure at 0x1a5e5905438>"
      ]
     },
     "metadata": {},
     "output_type": "display_data"
    }
   ],
   "source": [
    "five_min_mean_tester.compare_hurst(hurst_estimates, err_to_use='RMSE')\n",
    "plt.title('RMSE vs H for mean forecast at 5 minute horizon')\n",
    "plt.ylim([-0.5, 800])"
   ]
  },
  {
   "cell_type": "code",
   "execution_count": 137,
   "metadata": {},
   "outputs": [],
   "source": [
    "five_min_mean_tester.errors.to_csv('results/five_minute_mean_results.csv')"
   ]
  },
  {
   "cell_type": "code",
   "execution_count": 33,
   "metadata": {},
   "outputs": [
    {
     "name": "stdout",
     "output_type": "stream",
     "text": [
      "Progress: [####################] 100.0%\n"
     ]
    }
   ],
   "source": [
    "five_min_mva_tester = BaselineModelTester(data, mva, horizon, 0.20)\n",
    "speed_up_calc(five_min_mva_tester, data, horizon)"
   ]
  },
  {
   "cell_type": "code",
   "execution_count": 34,
   "metadata": {},
   "outputs": [
    {
     "data": {
      "text/html": [
       "<div>\n",
       "<style scoped>\n",
       "    .dataframe tbody tr th:only-of-type {\n",
       "        vertical-align: middle;\n",
       "    }\n",
       "\n",
       "    .dataframe tbody tr th {\n",
       "        vertical-align: top;\n",
       "    }\n",
       "\n",
       "    .dataframe thead th {\n",
       "        text-align: right;\n",
       "    }\n",
       "</style>\n",
       "<table border=\"1\" class=\"dataframe\">\n",
       "  <thead>\n",
       "    <tr style=\"text-align: right;\">\n",
       "      <th></th>\n",
       "      <th>MAE</th>\n",
       "      <th>RMSE</th>\n",
       "      <th>MAPE</th>\n",
       "      <th>sMAPE</th>\n",
       "      <th>MASE</th>\n",
       "      <th>MASE2</th>\n",
       "      <th>MASE3</th>\n",
       "      <th>MEAN_ASE</th>\n",
       "    </tr>\n",
       "  </thead>\n",
       "  <tbody>\n",
       "    <tr>\n",
       "      <th>window_1_0</th>\n",
       "      <td>92.004262</td>\n",
       "      <td>208.059042</td>\n",
       "      <td>115.133188</td>\n",
       "      <td>37.537537</td>\n",
       "      <td>0.386856</td>\n",
       "      <td>2.802512</td>\n",
       "      <td>2.802512</td>\n",
       "      <td>0.312218</td>\n",
       "    </tr>\n",
       "    <tr>\n",
       "      <th>window_1_1</th>\n",
       "      <td>99.286771</td>\n",
       "      <td>251.944313</td>\n",
       "      <td>94.859098</td>\n",
       "      <td>34.478342</td>\n",
       "      <td>0.492977</td>\n",
       "      <td>2.959562</td>\n",
       "      <td>2.959562</td>\n",
       "      <td>0.332473</td>\n",
       "    </tr>\n",
       "    <tr>\n",
       "      <th>window_1_2</th>\n",
       "      <td>130.370188</td>\n",
       "      <td>286.018674</td>\n",
       "      <td>161.372089</td>\n",
       "      <td>43.063600</td>\n",
       "      <td>0.421076</td>\n",
       "      <td>2.675044</td>\n",
       "      <td>2.675044</td>\n",
       "      <td>0.400767</td>\n",
       "    </tr>\n",
       "    <tr>\n",
       "      <th>window_1_3</th>\n",
       "      <td>139.142118</td>\n",
       "      <td>298.247507</td>\n",
       "      <td>118.738351</td>\n",
       "      <td>41.153721</td>\n",
       "      <td>0.356233</td>\n",
       "      <td>2.645821</td>\n",
       "      <td>2.645821</td>\n",
       "      <td>0.361483</td>\n",
       "    </tr>\n",
       "    <tr>\n",
       "      <th>window_1_4</th>\n",
       "      <td>151.932361</td>\n",
       "      <td>327.763359</td>\n",
       "      <td>342.077881</td>\n",
       "      <td>49.662307</td>\n",
       "      <td>0.507364</td>\n",
       "      <td>2.614992</td>\n",
       "      <td>2.614992</td>\n",
       "      <td>0.526447</td>\n",
       "    </tr>\n",
       "  </tbody>\n",
       "</table>\n",
       "</div>"
      ],
      "text/plain": [
       "                   MAE        RMSE        MAPE      sMAPE      MASE     MASE2  \\\n",
       "window_1_0   92.004262  208.059042  115.133188  37.537537  0.386856  2.802512   \n",
       "window_1_1   99.286771  251.944313   94.859098  34.478342  0.492977  2.959562   \n",
       "window_1_2  130.370188  286.018674  161.372089  43.063600  0.421076  2.675044   \n",
       "window_1_3  139.142118  298.247507  118.738351  41.153721  0.356233  2.645821   \n",
       "window_1_4  151.932361  327.763359  342.077881  49.662307  0.507364  2.614992   \n",
       "\n",
       "               MASE3  MEAN_ASE  \n",
       "window_1_0  2.802512  0.312218  \n",
       "window_1_1  2.959562  0.332473  \n",
       "window_1_2  2.675044  0.400767  \n",
       "window_1_3  2.645821  0.361483  \n",
       "window_1_4  2.614992  0.526447  "
      ]
     },
     "execution_count": 34,
     "metadata": {},
     "output_type": "execute_result"
    }
   ],
   "source": [
    "five_min_mva_tester.errors.head()"
   ]
  },
  {
   "cell_type": "code",
   "execution_count": 45,
   "metadata": {},
   "outputs": [
    {
     "data": {
      "text/plain": [
       "Text(0.5,1,'MASE vs H for MVA at 5 minute horizon')"
      ]
     },
     "execution_count": 45,
     "metadata": {},
     "output_type": "execute_result"
    },
    {
     "data": {
      "image/png": "[encoded data removed]",
      "text/plain": [
       "<matplotlib.figure.Figure at 0x196890b9780>"
      ]
     },
     "metadata": {},
     "output_type": "display_data"
    }
   ],
   "source": [
    "five_min_mva_tester.compare_hurst(hurst_estimates, err_to_use='sMAPE')\n",
    "plt.title('MASE vs H for MVA at 5 minute horizon')\n",
    "# plt.ylim([-0.3, 1.0])"
   ]
  },
  {
   "cell_type": "code",
   "execution_count": 138,
   "metadata": {},
   "outputs": [],
   "source": [
    "five_min_mva_tester.errors.to_csv('results/five_minute_mva_results.csv')"
   ]
  },
  {
   "cell_type": "markdown",
   "metadata": {},
   "source": [
    "## 60 minute horizon"
   ]
  },
  {
   "cell_type": "code",
   "execution_count": 53,
   "metadata": {},
   "outputs": [],
   "source": [
    "horizon = 60\n",
    "\n",
    "sixty_min_walk = RandomWalk(horizon)\n",
    "sixty_min_mean = MeanEstimator(horizon)\n",
    "sixty_min_mva = MovingAvgEstimator(horizon, 45)"
   ]
  },
  {
   "cell_type": "code",
   "execution_count": 50,
   "metadata": {},
   "outputs": [
    {
     "name": "stdout",
     "output_type": "stream",
     "text": [
      "Progress: [####################] 100.0%\n"
     ]
    }
   ],
   "source": [
    "sixty_min_walk_tester = BaselineModelTester(data, sixty_min_walk, horizon, 0.20)\n",
    "speed_up_calc(sixty_min_walk_tester, data, horizon)"
   ]
  },
  {
   "cell_type": "code",
   "execution_count": 51,
   "metadata": {},
   "outputs": [
    {
     "data": {
      "text/html": [
       "<div>\n",
       "<style scoped>\n",
       "    .dataframe tbody tr th:only-of-type {\n",
       "        vertical-align: middle;\n",
       "    }\n",
       "\n",
       "    .dataframe tbody tr th {\n",
       "        vertical-align: top;\n",
       "    }\n",
       "\n",
       "    .dataframe thead th {\n",
       "        text-align: right;\n",
       "    }\n",
       "</style>\n",
       "<table border=\"1\" class=\"dataframe\">\n",
       "  <thead>\n",
       "    <tr style=\"text-align: right;\">\n",
       "      <th></th>\n",
       "      <th>MAE</th>\n",
       "      <th>RMSE</th>\n",
       "      <th>MAPE</th>\n",
       "      <th>sMAPE</th>\n",
       "      <th>MASE</th>\n",
       "      <th>MASE1</th>\n",
       "      <th>MEAN_ASE</th>\n",
       "    </tr>\n",
       "  </thead>\n",
       "  <tbody>\n",
       "    <tr>\n",
       "      <th>window_1_0</th>\n",
       "      <td>1572.342579</td>\n",
       "      <td>2080.233241</td>\n",
       "      <td>3581.049307</td>\n",
       "      <td>158.137552</td>\n",
       "      <td>6.611327</td>\n",
       "      <td>4933.99397</td>\n",
       "      <td>5.333907</td>\n",
       "    </tr>\n",
       "    <tr>\n",
       "      <th>window_1_1</th>\n",
       "      <td>1608.030944</td>\n",
       "      <td>2129.054410</td>\n",
       "      <td>6792.601899</td>\n",
       "      <td>158.718329</td>\n",
       "      <td>7.984171</td>\n",
       "      <td>1850.39223</td>\n",
       "      <td>5.382880</td>\n",
       "    </tr>\n",
       "    <tr>\n",
       "      <th>window_1_2</th>\n",
       "      <td>1823.101337</td>\n",
       "      <td>2413.247378</td>\n",
       "      <td>4432.242017</td>\n",
       "      <td>160.064869</td>\n",
       "      <td>5.888348</td>\n",
       "      <td>-1269.78120</td>\n",
       "      <td>5.602921</td>\n",
       "    </tr>\n",
       "    <tr>\n",
       "      <th>window_1_3</th>\n",
       "      <td>2034.676306</td>\n",
       "      <td>2691.361286</td>\n",
       "      <td>2822.031044</td>\n",
       "      <td>157.181251</td>\n",
       "      <td>5.209202</td>\n",
       "      <td>931.56640</td>\n",
       "      <td>5.289229</td>\n",
       "    </tr>\n",
       "    <tr>\n",
       "      <th>window_1_4</th>\n",
       "      <td>1777.254558</td>\n",
       "      <td>2351.785944</td>\n",
       "      <td>14096.987373</td>\n",
       "      <td>164.417816</td>\n",
       "      <td>5.934978</td>\n",
       "      <td>2498.20191</td>\n",
       "      <td>6.159889</td>\n",
       "    </tr>\n",
       "  </tbody>\n",
       "</table>\n",
       "</div>"
      ],
      "text/plain": [
       "                    MAE         RMSE          MAPE       sMAPE      MASE  \\\n",
       "window_1_0  1572.342579  2080.233241   3581.049307  158.137552  6.611327   \n",
       "window_1_1  1608.030944  2129.054410   6792.601899  158.718329  7.984171   \n",
       "window_1_2  1823.101337  2413.247378   4432.242017  160.064869  5.888348   \n",
       "window_1_3  2034.676306  2691.361286   2822.031044  157.181251  5.209202   \n",
       "window_1_4  1777.254558  2351.785944  14096.987373  164.417816  5.934978   \n",
       "\n",
       "                 MASE1  MEAN_ASE  \n",
       "window_1_0  4933.99397  5.333907  \n",
       "window_1_1  1850.39223  5.382880  \n",
       "window_1_2 -1269.78120  5.602921  \n",
       "window_1_3   931.56640  5.289229  \n",
       "window_1_4  2498.20191  6.159889  "
      ]
     },
     "execution_count": 51,
     "metadata": {},
     "output_type": "execute_result"
    }
   ],
   "source": [
    "sixty_min_walk_tester.errors.head()"
   ]
  },
  {
   "cell_type": "code",
   "execution_count": 56,
   "metadata": {},
   "outputs": [
    {
     "data": {
      "text/plain": [
       "(0, 4500)"
      ]
     },
     "execution_count": 56,
     "metadata": {},
     "output_type": "execute_result"
    },
    {
     "data": {
      "image/png": "[encoded data removed]",
      "text/plain": [
       "<matplotlib.figure.Figure at 0x1a50855fda0>"
      ]
     },
     "metadata": {},
     "output_type": "display_data"
    }
   ],
   "source": [
    "sixty_min_walk_tester.compare_hurst(hurst_estimates, err_to_use='RMSE')\n",
    "plt.title('RMSE vs H for random walk at 60 minute horizon')\n",
    "plt.ylim([0, 4500])"
   ]
  },
  {
   "cell_type": "code",
   "execution_count": 139,
   "metadata": {},
   "outputs": [],
   "source": [
    "sixty_min_walk_tester.errors.to_csv('results/sixty_minute_random_walk_results.csv')"
   ]
  },
  {
   "cell_type": "code",
   "execution_count": 107,
   "metadata": {},
   "outputs": [
    {
     "name": "stdout",
     "output_type": "stream",
     "text": [
      "Progress: [####################] 100.0%\n"
     ]
    }
   ],
   "source": [
    "sixty_min_mean_tester = BaselineModelTester(data, sixty_min_mean, horizon, 0.20)\n",
    "speed_up_calc(sixty_min_mean_tester, data, horizon)"
   ]
  },
  {
   "cell_type": "code",
   "execution_count": 108,
   "metadata": {},
   "outputs": [
    {
     "data": {
      "text/html": [
       "<div>\n",
       "<style scoped>\n",
       "    .dataframe tbody tr th:only-of-type {\n",
       "        vertical-align: middle;\n",
       "    }\n",
       "\n",
       "    .dataframe tbody tr th {\n",
       "        vertical-align: top;\n",
       "    }\n",
       "\n",
       "    .dataframe thead th {\n",
       "        text-align: right;\n",
       "    }\n",
       "</style>\n",
       "<table border=\"1\" class=\"dataframe\">\n",
       "  <thead>\n",
       "    <tr style=\"text-align: right;\">\n",
       "      <th></th>\n",
       "      <th>MAE</th>\n",
       "      <th>RMSE</th>\n",
       "      <th>MAPE</th>\n",
       "      <th>sMAPE</th>\n",
       "      <th>MASE</th>\n",
       "      <th>MASE1</th>\n",
       "      <th>MEAN_ASE</th>\n",
       "    </tr>\n",
       "  </thead>\n",
       "  <tbody>\n",
       "    <tr>\n",
       "      <th>window_1_0</th>\n",
       "      <td>295.001364</td>\n",
       "      <td>384.186327</td>\n",
       "      <td>100.450509</td>\n",
       "      <td>198.177185</td>\n",
       "      <td>1.240411</td>\n",
       "      <td>925.71108</td>\n",
       "      <td>1.000742</td>\n",
       "    </tr>\n",
       "    <tr>\n",
       "      <th>window_1_1</th>\n",
       "      <td>298.831773</td>\n",
       "      <td>397.267062</td>\n",
       "      <td>102.366094</td>\n",
       "      <td>198.137860</td>\n",
       "      <td>1.483755</td>\n",
       "      <td>343.87149</td>\n",
       "      <td>1.000339</td>\n",
       "    </tr>\n",
       "    <tr>\n",
       "      <th>window_1_2</th>\n",
       "      <td>325.561436</td>\n",
       "      <td>428.307949</td>\n",
       "      <td>100.896857</td>\n",
       "      <td>197.306237</td>\n",
       "      <td>1.051515</td>\n",
       "      <td>-226.75195</td>\n",
       "      <td>1.000545</td>\n",
       "    </tr>\n",
       "    <tr>\n",
       "      <th>window_1_3</th>\n",
       "      <td>384.494467</td>\n",
       "      <td>474.092346</td>\n",
       "      <td>100.883576</td>\n",
       "      <td>197.099311</td>\n",
       "      <td>0.984387</td>\n",
       "      <td>176.03887</td>\n",
       "      <td>0.999510</td>\n",
       "    </tr>\n",
       "    <tr>\n",
       "      <th>window_1_4</th>\n",
       "      <td>288.611209</td>\n",
       "      <td>414.884364</td>\n",
       "      <td>107.109562</td>\n",
       "      <td>195.693513</td>\n",
       "      <td>0.963791</td>\n",
       "      <td>405.68700</td>\n",
       "      <td>1.000314</td>\n",
       "    </tr>\n",
       "  </tbody>\n",
       "</table>\n",
       "</div>"
      ],
      "text/plain": [
       "                   MAE        RMSE        MAPE       sMAPE      MASE  \\\n",
       "window_1_0  295.001364  384.186327  100.450509  198.177185  1.240411   \n",
       "window_1_1  298.831773  397.267062  102.366094  198.137860  1.483755   \n",
       "window_1_2  325.561436  428.307949  100.896857  197.306237  1.051515   \n",
       "window_1_3  384.494467  474.092346  100.883576  197.099311  0.984387   \n",
       "window_1_4  288.611209  414.884364  107.109562  195.693513  0.963791   \n",
       "\n",
       "                MASE1  MEAN_ASE  \n",
       "window_1_0  925.71108  1.000742  \n",
       "window_1_1  343.87149  1.000339  \n",
       "window_1_2 -226.75195  1.000545  \n",
       "window_1_3  176.03887  0.999510  \n",
       "window_1_4  405.68700  1.000314  "
      ]
     },
     "execution_count": 108,
     "metadata": {},
     "output_type": "execute_result"
    }
   ],
   "source": [
    "sixty_min_mean_tester.errors.head()"
   ]
  },
  {
   "cell_type": "code",
   "execution_count": 116,
   "metadata": {},
   "outputs": [
    {
     "data": {
      "text/plain": [
       "(-0.6, 2.7)"
      ]
     },
     "execution_count": 116,
     "metadata": {},
     "output_type": "execute_result"
    },
    {
     "data": {
      "image/png": "[encoded data removed]",
      "text/plain": [
       "<matplotlib.figure.Figure at 0x1a5fba7dd30>"
      ]
     },
     "metadata": {},
     "output_type": "display_data"
    }
   ],
   "source": [
    "sixty_min_mean_tester.compare_hurst(hurst_estimates, err_to_use='MASE')\n",
    "plt.title('MASE vs H for mean forecast at 60 minute horizon')\n",
    "plt.ylim([-0.6, 2.7])"
   ]
  },
  {
   "cell_type": "code",
   "execution_count": 140,
   "metadata": {},
   "outputs": [],
   "source": [
    "sixty_min_mean_tester.errors.to_csv('results/sixty_minute_mean_results.csv')"
   ]
  },
  {
   "cell_type": "code",
   "execution_count": 54,
   "metadata": {},
   "outputs": [
    {
     "name": "stdout",
     "output_type": "stream",
     "text": [
      "Progress: [####################] 100.0%\n"
     ]
    }
   ],
   "source": [
    "sixty_min_mva_tester = BaselineModelTester(data, sixty_min_mva, horizon, 0.20)\n",
    "speed_up_calc(sixty_min_mva_tester, data, horizon)"
   ]
  },
  {
   "cell_type": "code",
   "execution_count": 73,
   "metadata": {},
   "outputs": [
    {
     "data": {
      "text/plain": [
       "(-0.2, 1.4)"
      ]
     },
     "execution_count": 73,
     "metadata": {},
     "output_type": "execute_result"
    },
    {
     "data": {
      "image/png": "[encoded data removed]",
      "text/plain": [
       "<matplotlib.figure.Figure at 0x1507cf92cf8>"
      ]
     },
     "metadata": {},
     "output_type": "display_data"
    }
   ],
   "source": [
    "sixty_min_mva_tester.compare_hurst(hurst_estimates, err_to_use='MASE')\n",
    "plt.title('MASE vs H for MVA at 60 minute horizon')\n",
    "plt.ylim([-0.2, 1.4])"
   ]
  },
  {
   "cell_type": "code",
   "execution_count": 62,
   "metadata": {},
   "outputs": [
    {
     "data": {
      "text/html": [
       "<div>\n",
       "<style scoped>\n",
       "    .dataframe tbody tr th:only-of-type {\n",
       "        vertical-align: middle;\n",
       "    }\n",
       "\n",
       "    .dataframe tbody tr th {\n",
       "        vertical-align: top;\n",
       "    }\n",
       "\n",
       "    .dataframe thead th {\n",
       "        text-align: right;\n",
       "    }\n",
       "</style>\n",
       "<table border=\"1\" class=\"dataframe\">\n",
       "  <thead>\n",
       "    <tr style=\"text-align: right;\">\n",
       "      <th></th>\n",
       "      <th>MAE</th>\n",
       "      <th>RMSE</th>\n",
       "      <th>MAPE</th>\n",
       "      <th>sMAPE</th>\n",
       "      <th>MASE</th>\n",
       "      <th>MASE1</th>\n",
       "      <th>MEAN_ASE</th>\n",
       "    </tr>\n",
       "  </thead>\n",
       "  <tbody>\n",
       "    <tr>\n",
       "      <th>window_1_0</th>\n",
       "      <td>92.004262</td>\n",
       "      <td>208.059042</td>\n",
       "      <td>115.133188</td>\n",
       "      <td>37.537537</td>\n",
       "      <td>0.386856</td>\n",
       "      <td>288.70838</td>\n",
       "      <td>0.312218</td>\n",
       "    </tr>\n",
       "    <tr>\n",
       "      <th>window_1_1</th>\n",
       "      <td>99.286771</td>\n",
       "      <td>251.944313</td>\n",
       "      <td>94.859098</td>\n",
       "      <td>34.478342</td>\n",
       "      <td>0.492977</td>\n",
       "      <td>114.25120</td>\n",
       "      <td>0.332473</td>\n",
       "    </tr>\n",
       "    <tr>\n",
       "      <th>window_1_2</th>\n",
       "      <td>130.370188</td>\n",
       "      <td>286.018674</td>\n",
       "      <td>161.372089</td>\n",
       "      <td>43.063600</td>\n",
       "      <td>0.421076</td>\n",
       "      <td>-90.80220</td>\n",
       "      <td>0.400767</td>\n",
       "    </tr>\n",
       "    <tr>\n",
       "      <th>window_1_3</th>\n",
       "      <td>139.142118</td>\n",
       "      <td>298.247507</td>\n",
       "      <td>118.738351</td>\n",
       "      <td>41.153721</td>\n",
       "      <td>0.356233</td>\n",
       "      <td>63.70552</td>\n",
       "      <td>0.361483</td>\n",
       "    </tr>\n",
       "    <tr>\n",
       "      <th>window_1_4</th>\n",
       "      <td>151.932361</td>\n",
       "      <td>327.763359</td>\n",
       "      <td>342.077881</td>\n",
       "      <td>49.662307</td>\n",
       "      <td>0.507364</td>\n",
       "      <td>213.56407</td>\n",
       "      <td>0.526447</td>\n",
       "    </tr>\n",
       "  </tbody>\n",
       "</table>\n",
       "</div>"
      ],
      "text/plain": [
       "                   MAE        RMSE        MAPE      sMAPE      MASE  \\\n",
       "window_1_0   92.004262  208.059042  115.133188  37.537537  0.386856   \n",
       "window_1_1   99.286771  251.944313   94.859098  34.478342  0.492977   \n",
       "window_1_2  130.370188  286.018674  161.372089  43.063600  0.421076   \n",
       "window_1_3  139.142118  298.247507  118.738351  41.153721  0.356233   \n",
       "window_1_4  151.932361  327.763359  342.077881  49.662307  0.507364   \n",
       "\n",
       "                MASE1  MEAN_ASE  \n",
       "window_1_0  288.70838  0.312218  \n",
       "window_1_1  114.25120  0.332473  \n",
       "window_1_2  -90.80220  0.400767  \n",
       "window_1_3   63.70552  0.361483  \n",
       "window_1_4  213.56407  0.526447  "
      ]
     },
     "execution_count": 62,
     "metadata": {},
     "output_type": "execute_result"
    }
   ],
   "source": [
    "sixty_min_mva_tester.errors.head()"
   ]
  },
  {
   "cell_type": "code",
   "execution_count": 141,
   "metadata": {},
   "outputs": [],
   "source": [
    "sixty_min_mva_tester.errors.to_csv('results/sixty_minute_mva_results.csv')"
   ]
  }
 ],
 "metadata": {
  "kernelspec": {
   "display_name": "Python 3",
   "language": "python",
   "name": "python3"
  },
  "language_info": {
   "codemirror_mode": {
    "name": "ipython",
    "version": 3
   },
   "file_extension": ".py",
   "mimetype": "text/x-python",
   "name": "python",
   "nbconvert_exporter": "python",
   "pygments_lexer": "ipython3",
   "version": "3.6.0"
  }
 },
 "nbformat": 4,
 "nbformat_minor": 2
}
